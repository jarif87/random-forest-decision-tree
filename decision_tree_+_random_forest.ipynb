{
  "nbformat": 4,
  "nbformat_minor": 0,
  "metadata": {
    "colab": {
      "provenance": []
    },
    "kernelspec": {
      "name": "python3",
      "display_name": "Python 3"
    },
    "language_info": {
      "name": "python"
    }
  },
  "cells": [
    {
      "cell_type": "code",
      "execution_count": 1,
      "metadata": {
        "colab": {
          "base_uri": "https://localhost:8080/"
        },
        "id": "5zlu8CkwuUST",
        "outputId": "3890d013-36cc-4773-bbf2-3d1b4c463dc5"
      },
      "outputs": [
        {
          "output_type": "stream",
          "name": "stdout",
          "text": [
            "Mounted at /content/drive\n"
          ]
        }
      ],
      "source": [
        "# prompt: mount google drive\n",
        "\n",
        "from google.colab import drive\n",
        "drive.mount('/content/drive')\n"
      ]
    },
    {
      "cell_type": "code",
      "source": [
        "import pandas as pd\n",
        "import numpy as np"
      ],
      "metadata": {
        "id": "hshqOplvvDZY"
      },
      "execution_count": 9,
      "outputs": []
    },
    {
      "cell_type": "code",
      "source": [
        "df=pd.read_csv(\"/content/drive/MyDrive/Dataset/adult.csv\")\n",
        "df.head()"
      ],
      "metadata": {
        "colab": {
          "base_uri": "https://localhost:8080/",
          "height": 399
        },
        "id": "sgcFC5yFucVG",
        "outputId": "69aaaec8-d659-4b00-a85e-dc4763a17d1f"
      },
      "execution_count": 5,
      "outputs": [
        {
          "output_type": "execute_result",
          "data": {
            "text/plain": [
              "   age  workclass  fnlwgt     education  educational-num      marital-status  \\\n",
              "0   25    Private  226802          11th                7       Never-married   \n",
              "1   38    Private   89814       HS-grad                9  Married-civ-spouse   \n",
              "2   28  Local-gov  336951    Assoc-acdm               12  Married-civ-spouse   \n",
              "3   44    Private  160323  Some-college               10  Married-civ-spouse   \n",
              "4   18          ?  103497  Some-college               10       Never-married   \n",
              "\n",
              "          occupation relationship   race  gender  capital-gain  capital-loss  \\\n",
              "0  Machine-op-inspct    Own-child  Black    Male             0             0   \n",
              "1    Farming-fishing      Husband  White    Male             0             0   \n",
              "2    Protective-serv      Husband  White    Male             0             0   \n",
              "3  Machine-op-inspct      Husband  Black    Male          7688             0   \n",
              "4                  ?    Own-child  White  Female             0             0   \n",
              "\n",
              "   hours-per-week native-country income  \n",
              "0              40  United-States  <=50K  \n",
              "1              50  United-States  <=50K  \n",
              "2              40  United-States   >50K  \n",
              "3              40  United-States   >50K  \n",
              "4              30  United-States  <=50K  "
            ],
            "text/html": [
              "\n",
              "  <div id=\"df-a3651fcc-9526-486b-8857-6a43d233ebc3\" class=\"colab-df-container\">\n",
              "    <div>\n",
              "<style scoped>\n",
              "    .dataframe tbody tr th:only-of-type {\n",
              "        vertical-align: middle;\n",
              "    }\n",
              "\n",
              "    .dataframe tbody tr th {\n",
              "        vertical-align: top;\n",
              "    }\n",
              "\n",
              "    .dataframe thead th {\n",
              "        text-align: right;\n",
              "    }\n",
              "</style>\n",
              "<table border=\"1\" class=\"dataframe\">\n",
              "  <thead>\n",
              "    <tr style=\"text-align: right;\">\n",
              "      <th></th>\n",
              "      <th>age</th>\n",
              "      <th>workclass</th>\n",
              "      <th>fnlwgt</th>\n",
              "      <th>education</th>\n",
              "      <th>educational-num</th>\n",
              "      <th>marital-status</th>\n",
              "      <th>occupation</th>\n",
              "      <th>relationship</th>\n",
              "      <th>race</th>\n",
              "      <th>gender</th>\n",
              "      <th>capital-gain</th>\n",
              "      <th>capital-loss</th>\n",
              "      <th>hours-per-week</th>\n",
              "      <th>native-country</th>\n",
              "      <th>income</th>\n",
              "    </tr>\n",
              "  </thead>\n",
              "  <tbody>\n",
              "    <tr>\n",
              "      <th>0</th>\n",
              "      <td>25</td>\n",
              "      <td>Private</td>\n",
              "      <td>226802</td>\n",
              "      <td>11th</td>\n",
              "      <td>7</td>\n",
              "      <td>Never-married</td>\n",
              "      <td>Machine-op-inspct</td>\n",
              "      <td>Own-child</td>\n",
              "      <td>Black</td>\n",
              "      <td>Male</td>\n",
              "      <td>0</td>\n",
              "      <td>0</td>\n",
              "      <td>40</td>\n",
              "      <td>United-States</td>\n",
              "      <td>&lt;=50K</td>\n",
              "    </tr>\n",
              "    <tr>\n",
              "      <th>1</th>\n",
              "      <td>38</td>\n",
              "      <td>Private</td>\n",
              "      <td>89814</td>\n",
              "      <td>HS-grad</td>\n",
              "      <td>9</td>\n",
              "      <td>Married-civ-spouse</td>\n",
              "      <td>Farming-fishing</td>\n",
              "      <td>Husband</td>\n",
              "      <td>White</td>\n",
              "      <td>Male</td>\n",
              "      <td>0</td>\n",
              "      <td>0</td>\n",
              "      <td>50</td>\n",
              "      <td>United-States</td>\n",
              "      <td>&lt;=50K</td>\n",
              "    </tr>\n",
              "    <tr>\n",
              "      <th>2</th>\n",
              "      <td>28</td>\n",
              "      <td>Local-gov</td>\n",
              "      <td>336951</td>\n",
              "      <td>Assoc-acdm</td>\n",
              "      <td>12</td>\n",
              "      <td>Married-civ-spouse</td>\n",
              "      <td>Protective-serv</td>\n",
              "      <td>Husband</td>\n",
              "      <td>White</td>\n",
              "      <td>Male</td>\n",
              "      <td>0</td>\n",
              "      <td>0</td>\n",
              "      <td>40</td>\n",
              "      <td>United-States</td>\n",
              "      <td>&gt;50K</td>\n",
              "    </tr>\n",
              "    <tr>\n",
              "      <th>3</th>\n",
              "      <td>44</td>\n",
              "      <td>Private</td>\n",
              "      <td>160323</td>\n",
              "      <td>Some-college</td>\n",
              "      <td>10</td>\n",
              "      <td>Married-civ-spouse</td>\n",
              "      <td>Machine-op-inspct</td>\n",
              "      <td>Husband</td>\n",
              "      <td>Black</td>\n",
              "      <td>Male</td>\n",
              "      <td>7688</td>\n",
              "      <td>0</td>\n",
              "      <td>40</td>\n",
              "      <td>United-States</td>\n",
              "      <td>&gt;50K</td>\n",
              "    </tr>\n",
              "    <tr>\n",
              "      <th>4</th>\n",
              "      <td>18</td>\n",
              "      <td>?</td>\n",
              "      <td>103497</td>\n",
              "      <td>Some-college</td>\n",
              "      <td>10</td>\n",
              "      <td>Never-married</td>\n",
              "      <td>?</td>\n",
              "      <td>Own-child</td>\n",
              "      <td>White</td>\n",
              "      <td>Female</td>\n",
              "      <td>0</td>\n",
              "      <td>0</td>\n",
              "      <td>30</td>\n",
              "      <td>United-States</td>\n",
              "      <td>&lt;=50K</td>\n",
              "    </tr>\n",
              "  </tbody>\n",
              "</table>\n",
              "</div>\n",
              "    <div class=\"colab-df-buttons\">\n",
              "\n",
              "  <div class=\"colab-df-container\">\n",
              "    <button class=\"colab-df-convert\" onclick=\"convertToInteractive('df-a3651fcc-9526-486b-8857-6a43d233ebc3')\"\n",
              "            title=\"Convert this dataframe to an interactive table.\"\n",
              "            style=\"display:none;\">\n",
              "\n",
              "  <svg xmlns=\"http://www.w3.org/2000/svg\" height=\"24px\" viewBox=\"0 -960 960 960\">\n",
              "    <path d=\"M120-120v-720h720v720H120Zm60-500h600v-160H180v160Zm220 220h160v-160H400v160Zm0 220h160v-160H400v160ZM180-400h160v-160H180v160Zm440 0h160v-160H620v160ZM180-180h160v-160H180v160Zm440 0h160v-160H620v160Z\"/>\n",
              "  </svg>\n",
              "    </button>\n",
              "\n",
              "  <style>\n",
              "    .colab-df-container {\n",
              "      display:flex;\n",
              "      gap: 12px;\n",
              "    }\n",
              "\n",
              "    .colab-df-convert {\n",
              "      background-color: #E8F0FE;\n",
              "      border: none;\n",
              "      border-radius: 50%;\n",
              "      cursor: pointer;\n",
              "      display: none;\n",
              "      fill: #1967D2;\n",
              "      height: 32px;\n",
              "      padding: 0 0 0 0;\n",
              "      width: 32px;\n",
              "    }\n",
              "\n",
              "    .colab-df-convert:hover {\n",
              "      background-color: #E2EBFA;\n",
              "      box-shadow: 0px 1px 2px rgba(60, 64, 67, 0.3), 0px 1px 3px 1px rgba(60, 64, 67, 0.15);\n",
              "      fill: #174EA6;\n",
              "    }\n",
              "\n",
              "    .colab-df-buttons div {\n",
              "      margin-bottom: 4px;\n",
              "    }\n",
              "\n",
              "    [theme=dark] .colab-df-convert {\n",
              "      background-color: #3B4455;\n",
              "      fill: #D2E3FC;\n",
              "    }\n",
              "\n",
              "    [theme=dark] .colab-df-convert:hover {\n",
              "      background-color: #434B5C;\n",
              "      box-shadow: 0px 1px 3px 1px rgba(0, 0, 0, 0.15);\n",
              "      filter: drop-shadow(0px 1px 2px rgba(0, 0, 0, 0.3));\n",
              "      fill: #FFFFFF;\n",
              "    }\n",
              "  </style>\n",
              "\n",
              "    <script>\n",
              "      const buttonEl =\n",
              "        document.querySelector('#df-a3651fcc-9526-486b-8857-6a43d233ebc3 button.colab-df-convert');\n",
              "      buttonEl.style.display =\n",
              "        google.colab.kernel.accessAllowed ? 'block' : 'none';\n",
              "\n",
              "      async function convertToInteractive(key) {\n",
              "        const element = document.querySelector('#df-a3651fcc-9526-486b-8857-6a43d233ebc3');\n",
              "        const dataTable =\n",
              "          await google.colab.kernel.invokeFunction('convertToInteractive',\n",
              "                                                    [key], {});\n",
              "        if (!dataTable) return;\n",
              "\n",
              "        const docLinkHtml = 'Like what you see? Visit the ' +\n",
              "          '<a target=\"_blank\" href=https://colab.research.google.com/notebooks/data_table.ipynb>data table notebook</a>'\n",
              "          + ' to learn more about interactive tables.';\n",
              "        element.innerHTML = '';\n",
              "        dataTable['output_type'] = 'display_data';\n",
              "        await google.colab.output.renderOutput(dataTable, element);\n",
              "        const docLink = document.createElement('div');\n",
              "        docLink.innerHTML = docLinkHtml;\n",
              "        element.appendChild(docLink);\n",
              "      }\n",
              "    </script>\n",
              "  </div>\n",
              "\n",
              "\n",
              "<div id=\"df-402640f8-064a-4a81-9224-a954a58bf251\">\n",
              "  <button class=\"colab-df-quickchart\" onclick=\"quickchart('df-402640f8-064a-4a81-9224-a954a58bf251')\"\n",
              "            title=\"Suggest charts\"\n",
              "            style=\"display:none;\">\n",
              "\n",
              "<svg xmlns=\"http://www.w3.org/2000/svg\" height=\"24px\"viewBox=\"0 0 24 24\"\n",
              "     width=\"24px\">\n",
              "    <g>\n",
              "        <path d=\"M19 3H5c-1.1 0-2 .9-2 2v14c0 1.1.9 2 2 2h14c1.1 0 2-.9 2-2V5c0-1.1-.9-2-2-2zM9 17H7v-7h2v7zm4 0h-2V7h2v10zm4 0h-2v-4h2v4z\"/>\n",
              "    </g>\n",
              "</svg>\n",
              "  </button>\n",
              "\n",
              "<style>\n",
              "  .colab-df-quickchart {\n",
              "      --bg-color: #E8F0FE;\n",
              "      --fill-color: #1967D2;\n",
              "      --hover-bg-color: #E2EBFA;\n",
              "      --hover-fill-color: #174EA6;\n",
              "      --disabled-fill-color: #AAA;\n",
              "      --disabled-bg-color: #DDD;\n",
              "  }\n",
              "\n",
              "  [theme=dark] .colab-df-quickchart {\n",
              "      --bg-color: #3B4455;\n",
              "      --fill-color: #D2E3FC;\n",
              "      --hover-bg-color: #434B5C;\n",
              "      --hover-fill-color: #FFFFFF;\n",
              "      --disabled-bg-color: #3B4455;\n",
              "      --disabled-fill-color: #666;\n",
              "  }\n",
              "\n",
              "  .colab-df-quickchart {\n",
              "    background-color: var(--bg-color);\n",
              "    border: none;\n",
              "    border-radius: 50%;\n",
              "    cursor: pointer;\n",
              "    display: none;\n",
              "    fill: var(--fill-color);\n",
              "    height: 32px;\n",
              "    padding: 0;\n",
              "    width: 32px;\n",
              "  }\n",
              "\n",
              "  .colab-df-quickchart:hover {\n",
              "    background-color: var(--hover-bg-color);\n",
              "    box-shadow: 0 1px 2px rgba(60, 64, 67, 0.3), 0 1px 3px 1px rgba(60, 64, 67, 0.15);\n",
              "    fill: var(--button-hover-fill-color);\n",
              "  }\n",
              "\n",
              "  .colab-df-quickchart-complete:disabled,\n",
              "  .colab-df-quickchart-complete:disabled:hover {\n",
              "    background-color: var(--disabled-bg-color);\n",
              "    fill: var(--disabled-fill-color);\n",
              "    box-shadow: none;\n",
              "  }\n",
              "\n",
              "  .colab-df-spinner {\n",
              "    border: 2px solid var(--fill-color);\n",
              "    border-color: transparent;\n",
              "    border-bottom-color: var(--fill-color);\n",
              "    animation:\n",
              "      spin 1s steps(1) infinite;\n",
              "  }\n",
              "\n",
              "  @keyframes spin {\n",
              "    0% {\n",
              "      border-color: transparent;\n",
              "      border-bottom-color: var(--fill-color);\n",
              "      border-left-color: var(--fill-color);\n",
              "    }\n",
              "    20% {\n",
              "      border-color: transparent;\n",
              "      border-left-color: var(--fill-color);\n",
              "      border-top-color: var(--fill-color);\n",
              "    }\n",
              "    30% {\n",
              "      border-color: transparent;\n",
              "      border-left-color: var(--fill-color);\n",
              "      border-top-color: var(--fill-color);\n",
              "      border-right-color: var(--fill-color);\n",
              "    }\n",
              "    40% {\n",
              "      border-color: transparent;\n",
              "      border-right-color: var(--fill-color);\n",
              "      border-top-color: var(--fill-color);\n",
              "    }\n",
              "    60% {\n",
              "      border-color: transparent;\n",
              "      border-right-color: var(--fill-color);\n",
              "    }\n",
              "    80% {\n",
              "      border-color: transparent;\n",
              "      border-right-color: var(--fill-color);\n",
              "      border-bottom-color: var(--fill-color);\n",
              "    }\n",
              "    90% {\n",
              "      border-color: transparent;\n",
              "      border-bottom-color: var(--fill-color);\n",
              "    }\n",
              "  }\n",
              "</style>\n",
              "\n",
              "  <script>\n",
              "    async function quickchart(key) {\n",
              "      const quickchartButtonEl =\n",
              "        document.querySelector('#' + key + ' button');\n",
              "      quickchartButtonEl.disabled = true;  // To prevent multiple clicks.\n",
              "      quickchartButtonEl.classList.add('colab-df-spinner');\n",
              "      try {\n",
              "        const charts = await google.colab.kernel.invokeFunction(\n",
              "            'suggestCharts', [key], {});\n",
              "      } catch (error) {\n",
              "        console.error('Error during call to suggestCharts:', error);\n",
              "      }\n",
              "      quickchartButtonEl.classList.remove('colab-df-spinner');\n",
              "      quickchartButtonEl.classList.add('colab-df-quickchart-complete');\n",
              "    }\n",
              "    (() => {\n",
              "      let quickchartButtonEl =\n",
              "        document.querySelector('#df-402640f8-064a-4a81-9224-a954a58bf251 button');\n",
              "      quickchartButtonEl.style.display =\n",
              "        google.colab.kernel.accessAllowed ? 'block' : 'none';\n",
              "    })();\n",
              "  </script>\n",
              "</div>\n",
              "\n",
              "    </div>\n",
              "  </div>\n"
            ]
          },
          "metadata": {},
          "execution_count": 5
        }
      ]
    },
    {
      "cell_type": "code",
      "source": [
        "categorical = ['workclass', 'education', 'marital-status', 'occupation', 'relationship', 'race', 'gender', 'native-country']\n",
        "continuous = ['age', 'fnlwgt', 'educational-num', 'log-capital-gain', 'log-capital-loss', 'hours-per-week']\n",
        "target = \"income\""
      ],
      "metadata": {
        "id": "tN8OGv8QucYR"
      },
      "execution_count": 7,
      "outputs": []
    },
    {
      "cell_type": "code",
      "source": [
        "def add_features(df):\n",
        "  df['log-capital-gain'] = np.log(df['capital-gain'] + 1)\n",
        "  df['log-capital-loss'] = np.log(df['capital-loss'] + 1)\n",
        "  for column in categorical:\n",
        "    df[column] = pd.Categorical(df[column])\n",
        "  df['income'] = (df['income'] == \">50K\")\n",
        "  return\n",
        "\n",
        "add_features(df)"
      ],
      "metadata": {
        "id": "KLt14VUBucb1"
      },
      "execution_count": 10,
      "outputs": []
    },
    {
      "cell_type": "code",
      "source": [
        "df.head()"
      ],
      "metadata": {
        "colab": {
          "base_uri": "https://localhost:8080/",
          "height": 399
        },
        "id": "HFOV29xRucfL",
        "outputId": "6b1557a9-8327-43c8-fdae-173dff71da18"
      },
      "execution_count": 11,
      "outputs": [
        {
          "output_type": "execute_result",
          "data": {
            "text/plain": [
              "   age  workclass  fnlwgt     education  educational-num      marital-status  \\\n",
              "0   25    Private  226802          11th                7       Never-married   \n",
              "1   38    Private   89814       HS-grad                9  Married-civ-spouse   \n",
              "2   28  Local-gov  336951    Assoc-acdm               12  Married-civ-spouse   \n",
              "3   44    Private  160323  Some-college               10  Married-civ-spouse   \n",
              "4   18          ?  103497  Some-college               10       Never-married   \n",
              "\n",
              "          occupation relationship   race  gender  capital-gain  capital-loss  \\\n",
              "0  Machine-op-inspct    Own-child  Black    Male             0             0   \n",
              "1    Farming-fishing      Husband  White    Male             0             0   \n",
              "2    Protective-serv      Husband  White    Male             0             0   \n",
              "3  Machine-op-inspct      Husband  Black    Male          7688             0   \n",
              "4                  ?    Own-child  White  Female             0             0   \n",
              "\n",
              "   hours-per-week native-country  income  log-capital-gain  log-capital-loss  \n",
              "0              40  United-States   False          0.000000               0.0  \n",
              "1              50  United-States   False          0.000000               0.0  \n",
              "2              40  United-States    True          0.000000               0.0  \n",
              "3              40  United-States    True          8.947546               0.0  \n",
              "4              30  United-States   False          0.000000               0.0  "
            ],
            "text/html": [
              "\n",
              "  <div id=\"df-6fe965b2-c5d5-4681-aa57-4f5e475f9366\" class=\"colab-df-container\">\n",
              "    <div>\n",
              "<style scoped>\n",
              "    .dataframe tbody tr th:only-of-type {\n",
              "        vertical-align: middle;\n",
              "    }\n",
              "\n",
              "    .dataframe tbody tr th {\n",
              "        vertical-align: top;\n",
              "    }\n",
              "\n",
              "    .dataframe thead th {\n",
              "        text-align: right;\n",
              "    }\n",
              "</style>\n",
              "<table border=\"1\" class=\"dataframe\">\n",
              "  <thead>\n",
              "    <tr style=\"text-align: right;\">\n",
              "      <th></th>\n",
              "      <th>age</th>\n",
              "      <th>workclass</th>\n",
              "      <th>fnlwgt</th>\n",
              "      <th>education</th>\n",
              "      <th>educational-num</th>\n",
              "      <th>marital-status</th>\n",
              "      <th>occupation</th>\n",
              "      <th>relationship</th>\n",
              "      <th>race</th>\n",
              "      <th>gender</th>\n",
              "      <th>capital-gain</th>\n",
              "      <th>capital-loss</th>\n",
              "      <th>hours-per-week</th>\n",
              "      <th>native-country</th>\n",
              "      <th>income</th>\n",
              "      <th>log-capital-gain</th>\n",
              "      <th>log-capital-loss</th>\n",
              "    </tr>\n",
              "  </thead>\n",
              "  <tbody>\n",
              "    <tr>\n",
              "      <th>0</th>\n",
              "      <td>25</td>\n",
              "      <td>Private</td>\n",
              "      <td>226802</td>\n",
              "      <td>11th</td>\n",
              "      <td>7</td>\n",
              "      <td>Never-married</td>\n",
              "      <td>Machine-op-inspct</td>\n",
              "      <td>Own-child</td>\n",
              "      <td>Black</td>\n",
              "      <td>Male</td>\n",
              "      <td>0</td>\n",
              "      <td>0</td>\n",
              "      <td>40</td>\n",
              "      <td>United-States</td>\n",
              "      <td>False</td>\n",
              "      <td>0.000000</td>\n",
              "      <td>0.0</td>\n",
              "    </tr>\n",
              "    <tr>\n",
              "      <th>1</th>\n",
              "      <td>38</td>\n",
              "      <td>Private</td>\n",
              "      <td>89814</td>\n",
              "      <td>HS-grad</td>\n",
              "      <td>9</td>\n",
              "      <td>Married-civ-spouse</td>\n",
              "      <td>Farming-fishing</td>\n",
              "      <td>Husband</td>\n",
              "      <td>White</td>\n",
              "      <td>Male</td>\n",
              "      <td>0</td>\n",
              "      <td>0</td>\n",
              "      <td>50</td>\n",
              "      <td>United-States</td>\n",
              "      <td>False</td>\n",
              "      <td>0.000000</td>\n",
              "      <td>0.0</td>\n",
              "    </tr>\n",
              "    <tr>\n",
              "      <th>2</th>\n",
              "      <td>28</td>\n",
              "      <td>Local-gov</td>\n",
              "      <td>336951</td>\n",
              "      <td>Assoc-acdm</td>\n",
              "      <td>12</td>\n",
              "      <td>Married-civ-spouse</td>\n",
              "      <td>Protective-serv</td>\n",
              "      <td>Husband</td>\n",
              "      <td>White</td>\n",
              "      <td>Male</td>\n",
              "      <td>0</td>\n",
              "      <td>0</td>\n",
              "      <td>40</td>\n",
              "      <td>United-States</td>\n",
              "      <td>True</td>\n",
              "      <td>0.000000</td>\n",
              "      <td>0.0</td>\n",
              "    </tr>\n",
              "    <tr>\n",
              "      <th>3</th>\n",
              "      <td>44</td>\n",
              "      <td>Private</td>\n",
              "      <td>160323</td>\n",
              "      <td>Some-college</td>\n",
              "      <td>10</td>\n",
              "      <td>Married-civ-spouse</td>\n",
              "      <td>Machine-op-inspct</td>\n",
              "      <td>Husband</td>\n",
              "      <td>Black</td>\n",
              "      <td>Male</td>\n",
              "      <td>7688</td>\n",
              "      <td>0</td>\n",
              "      <td>40</td>\n",
              "      <td>United-States</td>\n",
              "      <td>True</td>\n",
              "      <td>8.947546</td>\n",
              "      <td>0.0</td>\n",
              "    </tr>\n",
              "    <tr>\n",
              "      <th>4</th>\n",
              "      <td>18</td>\n",
              "      <td>?</td>\n",
              "      <td>103497</td>\n",
              "      <td>Some-college</td>\n",
              "      <td>10</td>\n",
              "      <td>Never-married</td>\n",
              "      <td>?</td>\n",
              "      <td>Own-child</td>\n",
              "      <td>White</td>\n",
              "      <td>Female</td>\n",
              "      <td>0</td>\n",
              "      <td>0</td>\n",
              "      <td>30</td>\n",
              "      <td>United-States</td>\n",
              "      <td>False</td>\n",
              "      <td>0.000000</td>\n",
              "      <td>0.0</td>\n",
              "    </tr>\n",
              "  </tbody>\n",
              "</table>\n",
              "</div>\n",
              "    <div class=\"colab-df-buttons\">\n",
              "\n",
              "  <div class=\"colab-df-container\">\n",
              "    <button class=\"colab-df-convert\" onclick=\"convertToInteractive('df-6fe965b2-c5d5-4681-aa57-4f5e475f9366')\"\n",
              "            title=\"Convert this dataframe to an interactive table.\"\n",
              "            style=\"display:none;\">\n",
              "\n",
              "  <svg xmlns=\"http://www.w3.org/2000/svg\" height=\"24px\" viewBox=\"0 -960 960 960\">\n",
              "    <path d=\"M120-120v-720h720v720H120Zm60-500h600v-160H180v160Zm220 220h160v-160H400v160Zm0 220h160v-160H400v160ZM180-400h160v-160H180v160Zm440 0h160v-160H620v160ZM180-180h160v-160H180v160Zm440 0h160v-160H620v160Z\"/>\n",
              "  </svg>\n",
              "    </button>\n",
              "\n",
              "  <style>\n",
              "    .colab-df-container {\n",
              "      display:flex;\n",
              "      gap: 12px;\n",
              "    }\n",
              "\n",
              "    .colab-df-convert {\n",
              "      background-color: #E8F0FE;\n",
              "      border: none;\n",
              "      border-radius: 50%;\n",
              "      cursor: pointer;\n",
              "      display: none;\n",
              "      fill: #1967D2;\n",
              "      height: 32px;\n",
              "      padding: 0 0 0 0;\n",
              "      width: 32px;\n",
              "    }\n",
              "\n",
              "    .colab-df-convert:hover {\n",
              "      background-color: #E2EBFA;\n",
              "      box-shadow: 0px 1px 2px rgba(60, 64, 67, 0.3), 0px 1px 3px 1px rgba(60, 64, 67, 0.15);\n",
              "      fill: #174EA6;\n",
              "    }\n",
              "\n",
              "    .colab-df-buttons div {\n",
              "      margin-bottom: 4px;\n",
              "    }\n",
              "\n",
              "    [theme=dark] .colab-df-convert {\n",
              "      background-color: #3B4455;\n",
              "      fill: #D2E3FC;\n",
              "    }\n",
              "\n",
              "    [theme=dark] .colab-df-convert:hover {\n",
              "      background-color: #434B5C;\n",
              "      box-shadow: 0px 1px 3px 1px rgba(0, 0, 0, 0.15);\n",
              "      filter: drop-shadow(0px 1px 2px rgba(0, 0, 0, 0.3));\n",
              "      fill: #FFFFFF;\n",
              "    }\n",
              "  </style>\n",
              "\n",
              "    <script>\n",
              "      const buttonEl =\n",
              "        document.querySelector('#df-6fe965b2-c5d5-4681-aa57-4f5e475f9366 button.colab-df-convert');\n",
              "      buttonEl.style.display =\n",
              "        google.colab.kernel.accessAllowed ? 'block' : 'none';\n",
              "\n",
              "      async function convertToInteractive(key) {\n",
              "        const element = document.querySelector('#df-6fe965b2-c5d5-4681-aa57-4f5e475f9366');\n",
              "        const dataTable =\n",
              "          await google.colab.kernel.invokeFunction('convertToInteractive',\n",
              "                                                    [key], {});\n",
              "        if (!dataTable) return;\n",
              "\n",
              "        const docLinkHtml = 'Like what you see? Visit the ' +\n",
              "          '<a target=\"_blank\" href=https://colab.research.google.com/notebooks/data_table.ipynb>data table notebook</a>'\n",
              "          + ' to learn more about interactive tables.';\n",
              "        element.innerHTML = '';\n",
              "        dataTable['output_type'] = 'display_data';\n",
              "        await google.colab.output.renderOutput(dataTable, element);\n",
              "        const docLink = document.createElement('div');\n",
              "        docLink.innerHTML = docLinkHtml;\n",
              "        element.appendChild(docLink);\n",
              "      }\n",
              "    </script>\n",
              "  </div>\n",
              "\n",
              "\n",
              "<div id=\"df-5f220265-d013-47db-80d1-4a79c7e2c23b\">\n",
              "  <button class=\"colab-df-quickchart\" onclick=\"quickchart('df-5f220265-d013-47db-80d1-4a79c7e2c23b')\"\n",
              "            title=\"Suggest charts\"\n",
              "            style=\"display:none;\">\n",
              "\n",
              "<svg xmlns=\"http://www.w3.org/2000/svg\" height=\"24px\"viewBox=\"0 0 24 24\"\n",
              "     width=\"24px\">\n",
              "    <g>\n",
              "        <path d=\"M19 3H5c-1.1 0-2 .9-2 2v14c0 1.1.9 2 2 2h14c1.1 0 2-.9 2-2V5c0-1.1-.9-2-2-2zM9 17H7v-7h2v7zm4 0h-2V7h2v10zm4 0h-2v-4h2v4z\"/>\n",
              "    </g>\n",
              "</svg>\n",
              "  </button>\n",
              "\n",
              "<style>\n",
              "  .colab-df-quickchart {\n",
              "      --bg-color: #E8F0FE;\n",
              "      --fill-color: #1967D2;\n",
              "      --hover-bg-color: #E2EBFA;\n",
              "      --hover-fill-color: #174EA6;\n",
              "      --disabled-fill-color: #AAA;\n",
              "      --disabled-bg-color: #DDD;\n",
              "  }\n",
              "\n",
              "  [theme=dark] .colab-df-quickchart {\n",
              "      --bg-color: #3B4455;\n",
              "      --fill-color: #D2E3FC;\n",
              "      --hover-bg-color: #434B5C;\n",
              "      --hover-fill-color: #FFFFFF;\n",
              "      --disabled-bg-color: #3B4455;\n",
              "      --disabled-fill-color: #666;\n",
              "  }\n",
              "\n",
              "  .colab-df-quickchart {\n",
              "    background-color: var(--bg-color);\n",
              "    border: none;\n",
              "    border-radius: 50%;\n",
              "    cursor: pointer;\n",
              "    display: none;\n",
              "    fill: var(--fill-color);\n",
              "    height: 32px;\n",
              "    padding: 0;\n",
              "    width: 32px;\n",
              "  }\n",
              "\n",
              "  .colab-df-quickchart:hover {\n",
              "    background-color: var(--hover-bg-color);\n",
              "    box-shadow: 0 1px 2px rgba(60, 64, 67, 0.3), 0 1px 3px 1px rgba(60, 64, 67, 0.15);\n",
              "    fill: var(--button-hover-fill-color);\n",
              "  }\n",
              "\n",
              "  .colab-df-quickchart-complete:disabled,\n",
              "  .colab-df-quickchart-complete:disabled:hover {\n",
              "    background-color: var(--disabled-bg-color);\n",
              "    fill: var(--disabled-fill-color);\n",
              "    box-shadow: none;\n",
              "  }\n",
              "\n",
              "  .colab-df-spinner {\n",
              "    border: 2px solid var(--fill-color);\n",
              "    border-color: transparent;\n",
              "    border-bottom-color: var(--fill-color);\n",
              "    animation:\n",
              "      spin 1s steps(1) infinite;\n",
              "  }\n",
              "\n",
              "  @keyframes spin {\n",
              "    0% {\n",
              "      border-color: transparent;\n",
              "      border-bottom-color: var(--fill-color);\n",
              "      border-left-color: var(--fill-color);\n",
              "    }\n",
              "    20% {\n",
              "      border-color: transparent;\n",
              "      border-left-color: var(--fill-color);\n",
              "      border-top-color: var(--fill-color);\n",
              "    }\n",
              "    30% {\n",
              "      border-color: transparent;\n",
              "      border-left-color: var(--fill-color);\n",
              "      border-top-color: var(--fill-color);\n",
              "      border-right-color: var(--fill-color);\n",
              "    }\n",
              "    40% {\n",
              "      border-color: transparent;\n",
              "      border-right-color: var(--fill-color);\n",
              "      border-top-color: var(--fill-color);\n",
              "    }\n",
              "    60% {\n",
              "      border-color: transparent;\n",
              "      border-right-color: var(--fill-color);\n",
              "    }\n",
              "    80% {\n",
              "      border-color: transparent;\n",
              "      border-right-color: var(--fill-color);\n",
              "      border-bottom-color: var(--fill-color);\n",
              "    }\n",
              "    90% {\n",
              "      border-color: transparent;\n",
              "      border-bottom-color: var(--fill-color);\n",
              "    }\n",
              "  }\n",
              "</style>\n",
              "\n",
              "  <script>\n",
              "    async function quickchart(key) {\n",
              "      const quickchartButtonEl =\n",
              "        document.querySelector('#' + key + ' button');\n",
              "      quickchartButtonEl.disabled = true;  // To prevent multiple clicks.\n",
              "      quickchartButtonEl.classList.add('colab-df-spinner');\n",
              "      try {\n",
              "        const charts = await google.colab.kernel.invokeFunction(\n",
              "            'suggestCharts', [key], {});\n",
              "      } catch (error) {\n",
              "        console.error('Error during call to suggestCharts:', error);\n",
              "      }\n",
              "      quickchartButtonEl.classList.remove('colab-df-spinner');\n",
              "      quickchartButtonEl.classList.add('colab-df-quickchart-complete');\n",
              "    }\n",
              "    (() => {\n",
              "      let quickchartButtonEl =\n",
              "        document.querySelector('#df-5f220265-d013-47db-80d1-4a79c7e2c23b button');\n",
              "      quickchartButtonEl.style.display =\n",
              "        google.colab.kernel.accessAllowed ? 'block' : 'none';\n",
              "    })();\n",
              "  </script>\n",
              "</div>\n",
              "\n",
              "    </div>\n",
              "  </div>\n"
            ]
          },
          "metadata": {},
          "execution_count": 11
        }
      ]
    },
    {
      "cell_type": "code",
      "source": [
        "df.race"
      ],
      "metadata": {
        "colab": {
          "base_uri": "https://localhost:8080/"
        },
        "id": "dwohudbnuciq",
        "outputId": "6d89f84a-c513-4e26-c79c-cf3eb18a7c46"
      },
      "execution_count": 12,
      "outputs": [
        {
          "output_type": "execute_result",
          "data": {
            "text/plain": [
              "0        Black\n",
              "1        White\n",
              "2        White\n",
              "3        Black\n",
              "4        White\n",
              "         ...  \n",
              "48837    White\n",
              "48838    White\n",
              "48839    White\n",
              "48840    White\n",
              "48841    White\n",
              "Name: race, Length: 48842, dtype: category\n",
              "Categories (5, object): ['Amer-Indian-Eskimo', 'Asian-Pac-Islander', 'Black', 'Other', 'White']"
            ]
          },
          "metadata": {},
          "execution_count": 12
        }
      ]
    },
    {
      "cell_type": "markdown",
      "source": [
        "\n",
        "### .cat: This is an accessor in pandas for categorical data. It allows you to perform operations specific to categorical data on a Series.\n",
        "\n",
        "### .codes: This attribute is used to get the category codes of each element in a categorical column. It returns a new Series of integers representing the codes of the categories.\n"
      ],
      "metadata": {
        "id": "yeYS8wAFwsSN"
      }
    },
    {
      "cell_type": "code",
      "source": [
        "df.race.cat.codes.head()"
      ],
      "metadata": {
        "colab": {
          "base_uri": "https://localhost:8080/"
        },
        "id": "IE6cUII7wcFe",
        "outputId": "ba00461b-d77d-45f3-cda8-90b9e17d9bdd"
      },
      "execution_count": 15,
      "outputs": [
        {
          "output_type": "execute_result",
          "data": {
            "text/plain": [
              "0    2\n",
              "1    4\n",
              "2    4\n",
              "3    2\n",
              "4    4\n",
              "dtype: int8"
            ]
          },
          "metadata": {},
          "execution_count": 15
        }
      ]
    },
    {
      "cell_type": "code",
      "source": [
        "df['income'] = df['income'].astype(int)"
      ],
      "metadata": {
        "id": "MklHjvXFucl_"
      },
      "execution_count": 13,
      "outputs": []
    },
    {
      "cell_type": "code",
      "source": [
        "df.income"
      ],
      "metadata": {
        "colab": {
          "base_uri": "https://localhost:8080/"
        },
        "id": "KD3dghHfucsv",
        "outputId": "433b51d0-0f5a-48ba-ccd2-0c5d64f2e746"
      },
      "execution_count": 14,
      "outputs": [
        {
          "output_type": "execute_result",
          "data": {
            "text/plain": [
              "0        0\n",
              "1        0\n",
              "2        1\n",
              "3        1\n",
              "4        0\n",
              "        ..\n",
              "48837    0\n",
              "48838    1\n",
              "48839    0\n",
              "48840    0\n",
              "48841    1\n",
              "Name: income, Length: 48842, dtype: int64"
            ]
          },
          "metadata": {},
          "execution_count": 14
        }
      ]
    },
    {
      "cell_type": "code",
      "source": [
        "from sklearn.model_selection import train_test_split\n",
        "\n",
        "\n",
        "train_df, valid_df = train_test_split(df, test_size=0.2,random_state=42)\n",
        "train_df[categorical] = train_df[categorical].apply(lambda x: x.cat.codes)\n",
        "valid_df[categorical] = valid_df[categorical].apply(lambda x: x.cat.codes)"
      ],
      "metadata": {
        "id": "3HwopVo5uczi"
      },
      "execution_count": 16,
      "outputs": []
    },
    {
      "cell_type": "code",
      "source": [
        "train_df.head()"
      ],
      "metadata": {
        "colab": {
          "base_uri": "https://localhost:8080/",
          "height": 260
        },
        "id": "vxAEVuauuc22",
        "outputId": "4665b359-9637-480f-8d38-cf61eea6a1c3"
      },
      "execution_count": 17,
      "outputs": [
        {
          "output_type": "execute_result",
          "data": {
            "text/plain": [
              "       age  workclass  fnlwgt  education  educational-num  marital-status  \\\n",
              "37193   42          4  145175         15               10               2   \n",
              "31093   52          6  175029          0                6               2   \n",
              "33814   34          2  172664         11                9               2   \n",
              "14500   28          4  125791         11                9               4   \n",
              "23399   46          4   28419          8               11               4   \n",
              "\n",
              "       occupation  relationship  race  gender  capital-gain  capital-loss  \\\n",
              "37193           7             0     4       1             0             0   \n",
              "31093           3             0     4       1             0             0   \n",
              "33814           3             0     4       1             0             0   \n",
              "14500           1             1     4       0             0             0   \n",
              "23399          14             1     4       1             0             0   \n",
              "\n",
              "       hours-per-week  native-country  income  log-capital-gain  \\\n",
              "37193              40              39       0               0.0   \n",
              "31093              35              39       0               0.0   \n",
              "33814              40              39       0               0.0   \n",
              "14500              40              39       0               0.0   \n",
              "23399              50              39       0               0.0   \n",
              "\n",
              "       log-capital-loss  \n",
              "37193               0.0  \n",
              "31093               0.0  \n",
              "33814               0.0  \n",
              "14500               0.0  \n",
              "23399               0.0  "
            ],
            "text/html": [
              "\n",
              "  <div id=\"df-a58a2bf4-c23d-42e5-8861-8b9559095255\" class=\"colab-df-container\">\n",
              "    <div>\n",
              "<style scoped>\n",
              "    .dataframe tbody tr th:only-of-type {\n",
              "        vertical-align: middle;\n",
              "    }\n",
              "\n",
              "    .dataframe tbody tr th {\n",
              "        vertical-align: top;\n",
              "    }\n",
              "\n",
              "    .dataframe thead th {\n",
              "        text-align: right;\n",
              "    }\n",
              "</style>\n",
              "<table border=\"1\" class=\"dataframe\">\n",
              "  <thead>\n",
              "    <tr style=\"text-align: right;\">\n",
              "      <th></th>\n",
              "      <th>age</th>\n",
              "      <th>workclass</th>\n",
              "      <th>fnlwgt</th>\n",
              "      <th>education</th>\n",
              "      <th>educational-num</th>\n",
              "      <th>marital-status</th>\n",
              "      <th>occupation</th>\n",
              "      <th>relationship</th>\n",
              "      <th>race</th>\n",
              "      <th>gender</th>\n",
              "      <th>capital-gain</th>\n",
              "      <th>capital-loss</th>\n",
              "      <th>hours-per-week</th>\n",
              "      <th>native-country</th>\n",
              "      <th>income</th>\n",
              "      <th>log-capital-gain</th>\n",
              "      <th>log-capital-loss</th>\n",
              "    </tr>\n",
              "  </thead>\n",
              "  <tbody>\n",
              "    <tr>\n",
              "      <th>37193</th>\n",
              "      <td>42</td>\n",
              "      <td>4</td>\n",
              "      <td>145175</td>\n",
              "      <td>15</td>\n",
              "      <td>10</td>\n",
              "      <td>2</td>\n",
              "      <td>7</td>\n",
              "      <td>0</td>\n",
              "      <td>4</td>\n",
              "      <td>1</td>\n",
              "      <td>0</td>\n",
              "      <td>0</td>\n",
              "      <td>40</td>\n",
              "      <td>39</td>\n",
              "      <td>0</td>\n",
              "      <td>0.0</td>\n",
              "      <td>0.0</td>\n",
              "    </tr>\n",
              "    <tr>\n",
              "      <th>31093</th>\n",
              "      <td>52</td>\n",
              "      <td>6</td>\n",
              "      <td>175029</td>\n",
              "      <td>0</td>\n",
              "      <td>6</td>\n",
              "      <td>2</td>\n",
              "      <td>3</td>\n",
              "      <td>0</td>\n",
              "      <td>4</td>\n",
              "      <td>1</td>\n",
              "      <td>0</td>\n",
              "      <td>0</td>\n",
              "      <td>35</td>\n",
              "      <td>39</td>\n",
              "      <td>0</td>\n",
              "      <td>0.0</td>\n",
              "      <td>0.0</td>\n",
              "    </tr>\n",
              "    <tr>\n",
              "      <th>33814</th>\n",
              "      <td>34</td>\n",
              "      <td>2</td>\n",
              "      <td>172664</td>\n",
              "      <td>11</td>\n",
              "      <td>9</td>\n",
              "      <td>2</td>\n",
              "      <td>3</td>\n",
              "      <td>0</td>\n",
              "      <td>4</td>\n",
              "      <td>1</td>\n",
              "      <td>0</td>\n",
              "      <td>0</td>\n",
              "      <td>40</td>\n",
              "      <td>39</td>\n",
              "      <td>0</td>\n",
              "      <td>0.0</td>\n",
              "      <td>0.0</td>\n",
              "    </tr>\n",
              "    <tr>\n",
              "      <th>14500</th>\n",
              "      <td>28</td>\n",
              "      <td>4</td>\n",
              "      <td>125791</td>\n",
              "      <td>11</td>\n",
              "      <td>9</td>\n",
              "      <td>4</td>\n",
              "      <td>1</td>\n",
              "      <td>1</td>\n",
              "      <td>4</td>\n",
              "      <td>0</td>\n",
              "      <td>0</td>\n",
              "      <td>0</td>\n",
              "      <td>40</td>\n",
              "      <td>39</td>\n",
              "      <td>0</td>\n",
              "      <td>0.0</td>\n",
              "      <td>0.0</td>\n",
              "    </tr>\n",
              "    <tr>\n",
              "      <th>23399</th>\n",
              "      <td>46</td>\n",
              "      <td>4</td>\n",
              "      <td>28419</td>\n",
              "      <td>8</td>\n",
              "      <td>11</td>\n",
              "      <td>4</td>\n",
              "      <td>14</td>\n",
              "      <td>1</td>\n",
              "      <td>4</td>\n",
              "      <td>1</td>\n",
              "      <td>0</td>\n",
              "      <td>0</td>\n",
              "      <td>50</td>\n",
              "      <td>39</td>\n",
              "      <td>0</td>\n",
              "      <td>0.0</td>\n",
              "      <td>0.0</td>\n",
              "    </tr>\n",
              "  </tbody>\n",
              "</table>\n",
              "</div>\n",
              "    <div class=\"colab-df-buttons\">\n",
              "\n",
              "  <div class=\"colab-df-container\">\n",
              "    <button class=\"colab-df-convert\" onclick=\"convertToInteractive('df-a58a2bf4-c23d-42e5-8861-8b9559095255')\"\n",
              "            title=\"Convert this dataframe to an interactive table.\"\n",
              "            style=\"display:none;\">\n",
              "\n",
              "  <svg xmlns=\"http://www.w3.org/2000/svg\" height=\"24px\" viewBox=\"0 -960 960 960\">\n",
              "    <path d=\"M120-120v-720h720v720H120Zm60-500h600v-160H180v160Zm220 220h160v-160H400v160Zm0 220h160v-160H400v160ZM180-400h160v-160H180v160Zm440 0h160v-160H620v160ZM180-180h160v-160H180v160Zm440 0h160v-160H620v160Z\"/>\n",
              "  </svg>\n",
              "    </button>\n",
              "\n",
              "  <style>\n",
              "    .colab-df-container {\n",
              "      display:flex;\n",
              "      gap: 12px;\n",
              "    }\n",
              "\n",
              "    .colab-df-convert {\n",
              "      background-color: #E8F0FE;\n",
              "      border: none;\n",
              "      border-radius: 50%;\n",
              "      cursor: pointer;\n",
              "      display: none;\n",
              "      fill: #1967D2;\n",
              "      height: 32px;\n",
              "      padding: 0 0 0 0;\n",
              "      width: 32px;\n",
              "    }\n",
              "\n",
              "    .colab-df-convert:hover {\n",
              "      background-color: #E2EBFA;\n",
              "      box-shadow: 0px 1px 2px rgba(60, 64, 67, 0.3), 0px 1px 3px 1px rgba(60, 64, 67, 0.15);\n",
              "      fill: #174EA6;\n",
              "    }\n",
              "\n",
              "    .colab-df-buttons div {\n",
              "      margin-bottom: 4px;\n",
              "    }\n",
              "\n",
              "    [theme=dark] .colab-df-convert {\n",
              "      background-color: #3B4455;\n",
              "      fill: #D2E3FC;\n",
              "    }\n",
              "\n",
              "    [theme=dark] .colab-df-convert:hover {\n",
              "      background-color: #434B5C;\n",
              "      box-shadow: 0px 1px 3px 1px rgba(0, 0, 0, 0.15);\n",
              "      filter: drop-shadow(0px 1px 2px rgba(0, 0, 0, 0.3));\n",
              "      fill: #FFFFFF;\n",
              "    }\n",
              "  </style>\n",
              "\n",
              "    <script>\n",
              "      const buttonEl =\n",
              "        document.querySelector('#df-a58a2bf4-c23d-42e5-8861-8b9559095255 button.colab-df-convert');\n",
              "      buttonEl.style.display =\n",
              "        google.colab.kernel.accessAllowed ? 'block' : 'none';\n",
              "\n",
              "      async function convertToInteractive(key) {\n",
              "        const element = document.querySelector('#df-a58a2bf4-c23d-42e5-8861-8b9559095255');\n",
              "        const dataTable =\n",
              "          await google.colab.kernel.invokeFunction('convertToInteractive',\n",
              "                                                    [key], {});\n",
              "        if (!dataTable) return;\n",
              "\n",
              "        const docLinkHtml = 'Like what you see? Visit the ' +\n",
              "          '<a target=\"_blank\" href=https://colab.research.google.com/notebooks/data_table.ipynb>data table notebook</a>'\n",
              "          + ' to learn more about interactive tables.';\n",
              "        element.innerHTML = '';\n",
              "        dataTable['output_type'] = 'display_data';\n",
              "        await google.colab.output.renderOutput(dataTable, element);\n",
              "        const docLink = document.createElement('div');\n",
              "        docLink.innerHTML = docLinkHtml;\n",
              "        element.appendChild(docLink);\n",
              "      }\n",
              "    </script>\n",
              "  </div>\n",
              "\n",
              "\n",
              "<div id=\"df-97d1cea1-9bab-4177-a5c0-b2f30852c439\">\n",
              "  <button class=\"colab-df-quickchart\" onclick=\"quickchart('df-97d1cea1-9bab-4177-a5c0-b2f30852c439')\"\n",
              "            title=\"Suggest charts\"\n",
              "            style=\"display:none;\">\n",
              "\n",
              "<svg xmlns=\"http://www.w3.org/2000/svg\" height=\"24px\"viewBox=\"0 0 24 24\"\n",
              "     width=\"24px\">\n",
              "    <g>\n",
              "        <path d=\"M19 3H5c-1.1 0-2 .9-2 2v14c0 1.1.9 2 2 2h14c1.1 0 2-.9 2-2V5c0-1.1-.9-2-2-2zM9 17H7v-7h2v7zm4 0h-2V7h2v10zm4 0h-2v-4h2v4z\"/>\n",
              "    </g>\n",
              "</svg>\n",
              "  </button>\n",
              "\n",
              "<style>\n",
              "  .colab-df-quickchart {\n",
              "      --bg-color: #E8F0FE;\n",
              "      --fill-color: #1967D2;\n",
              "      --hover-bg-color: #E2EBFA;\n",
              "      --hover-fill-color: #174EA6;\n",
              "      --disabled-fill-color: #AAA;\n",
              "      --disabled-bg-color: #DDD;\n",
              "  }\n",
              "\n",
              "  [theme=dark] .colab-df-quickchart {\n",
              "      --bg-color: #3B4455;\n",
              "      --fill-color: #D2E3FC;\n",
              "      --hover-bg-color: #434B5C;\n",
              "      --hover-fill-color: #FFFFFF;\n",
              "      --disabled-bg-color: #3B4455;\n",
              "      --disabled-fill-color: #666;\n",
              "  }\n",
              "\n",
              "  .colab-df-quickchart {\n",
              "    background-color: var(--bg-color);\n",
              "    border: none;\n",
              "    border-radius: 50%;\n",
              "    cursor: pointer;\n",
              "    display: none;\n",
              "    fill: var(--fill-color);\n",
              "    height: 32px;\n",
              "    padding: 0;\n",
              "    width: 32px;\n",
              "  }\n",
              "\n",
              "  .colab-df-quickchart:hover {\n",
              "    background-color: var(--hover-bg-color);\n",
              "    box-shadow: 0 1px 2px rgba(60, 64, 67, 0.3), 0 1px 3px 1px rgba(60, 64, 67, 0.15);\n",
              "    fill: var(--button-hover-fill-color);\n",
              "  }\n",
              "\n",
              "  .colab-df-quickchart-complete:disabled,\n",
              "  .colab-df-quickchart-complete:disabled:hover {\n",
              "    background-color: var(--disabled-bg-color);\n",
              "    fill: var(--disabled-fill-color);\n",
              "    box-shadow: none;\n",
              "  }\n",
              "\n",
              "  .colab-df-spinner {\n",
              "    border: 2px solid var(--fill-color);\n",
              "    border-color: transparent;\n",
              "    border-bottom-color: var(--fill-color);\n",
              "    animation:\n",
              "      spin 1s steps(1) infinite;\n",
              "  }\n",
              "\n",
              "  @keyframes spin {\n",
              "    0% {\n",
              "      border-color: transparent;\n",
              "      border-bottom-color: var(--fill-color);\n",
              "      border-left-color: var(--fill-color);\n",
              "    }\n",
              "    20% {\n",
              "      border-color: transparent;\n",
              "      border-left-color: var(--fill-color);\n",
              "      border-top-color: var(--fill-color);\n",
              "    }\n",
              "    30% {\n",
              "      border-color: transparent;\n",
              "      border-left-color: var(--fill-color);\n",
              "      border-top-color: var(--fill-color);\n",
              "      border-right-color: var(--fill-color);\n",
              "    }\n",
              "    40% {\n",
              "      border-color: transparent;\n",
              "      border-right-color: var(--fill-color);\n",
              "      border-top-color: var(--fill-color);\n",
              "    }\n",
              "    60% {\n",
              "      border-color: transparent;\n",
              "      border-right-color: var(--fill-color);\n",
              "    }\n",
              "    80% {\n",
              "      border-color: transparent;\n",
              "      border-right-color: var(--fill-color);\n",
              "      border-bottom-color: var(--fill-color);\n",
              "    }\n",
              "    90% {\n",
              "      border-color: transparent;\n",
              "      border-bottom-color: var(--fill-color);\n",
              "    }\n",
              "  }\n",
              "</style>\n",
              "\n",
              "  <script>\n",
              "    async function quickchart(key) {\n",
              "      const quickchartButtonEl =\n",
              "        document.querySelector('#' + key + ' button');\n",
              "      quickchartButtonEl.disabled = true;  // To prevent multiple clicks.\n",
              "      quickchartButtonEl.classList.add('colab-df-spinner');\n",
              "      try {\n",
              "        const charts = await google.colab.kernel.invokeFunction(\n",
              "            'suggestCharts', [key], {});\n",
              "      } catch (error) {\n",
              "        console.error('Error during call to suggestCharts:', error);\n",
              "      }\n",
              "      quickchartButtonEl.classList.remove('colab-df-spinner');\n",
              "      quickchartButtonEl.classList.add('colab-df-quickchart-complete');\n",
              "    }\n",
              "    (() => {\n",
              "      let quickchartButtonEl =\n",
              "        document.querySelector('#df-97d1cea1-9bab-4177-a5c0-b2f30852c439 button');\n",
              "      quickchartButtonEl.style.display =\n",
              "        google.colab.kernel.accessAllowed ? 'block' : 'none';\n",
              "    })();\n",
              "  </script>\n",
              "</div>\n",
              "\n",
              "    </div>\n",
              "  </div>\n"
            ]
          },
          "metadata": {},
          "execution_count": 17
        }
      ]
    },
    {
      "cell_type": "code",
      "source": [
        "valid_df.head()"
      ],
      "metadata": {
        "colab": {
          "base_uri": "https://localhost:8080/",
          "height": 260
        },
        "id": "euQ6NfyQuc6h",
        "outputId": "6e54015a-7075-4146-8ab6-95d9896f4a2e"
      },
      "execution_count": 18,
      "outputs": [
        {
          "output_type": "execute_result",
          "data": {
            "text/plain": [
              "       age  workclass  fnlwgt  education  educational-num  marital-status  \\\n",
              "7762    56          4   33115         11                9               0   \n",
              "23881   25          4  112847         11                9               2   \n",
              "30507   43          4  170525          9               13               0   \n",
              "28911   32          4  186788         11                9               2   \n",
              "19484   39          4  277886          9               13               2   \n",
              "\n",
              "       occupation  relationship  race  gender  capital-gain  capital-loss  \\\n",
              "7762            8             4     4       0             0             0   \n",
              "23881          14             3     3       1             0             0   \n",
              "30507          10             1     4       0         14344             0   \n",
              "28911          14             0     4       1             0             0   \n",
              "19484          12             5     4       0             0             0   \n",
              "\n",
              "       hours-per-week  native-country  income  log-capital-gain  \\\n",
              "7762               40              39       0          0.000000   \n",
              "23881              40              39       0          0.000000   \n",
              "30507              40              39       1          9.571157   \n",
              "28911              40              39       0          0.000000   \n",
              "19484              30              39       0          0.000000   \n",
              "\n",
              "       log-capital-loss  \n",
              "7762                0.0  \n",
              "23881               0.0  \n",
              "30507               0.0  \n",
              "28911               0.0  \n",
              "19484               0.0  "
            ],
            "text/html": [
              "\n",
              "  <div id=\"df-40c6a92d-5b82-4c84-9e1a-3f1ac1792b5b\" class=\"colab-df-container\">\n",
              "    <div>\n",
              "<style scoped>\n",
              "    .dataframe tbody tr th:only-of-type {\n",
              "        vertical-align: middle;\n",
              "    }\n",
              "\n",
              "    .dataframe tbody tr th {\n",
              "        vertical-align: top;\n",
              "    }\n",
              "\n",
              "    .dataframe thead th {\n",
              "        text-align: right;\n",
              "    }\n",
              "</style>\n",
              "<table border=\"1\" class=\"dataframe\">\n",
              "  <thead>\n",
              "    <tr style=\"text-align: right;\">\n",
              "      <th></th>\n",
              "      <th>age</th>\n",
              "      <th>workclass</th>\n",
              "      <th>fnlwgt</th>\n",
              "      <th>education</th>\n",
              "      <th>educational-num</th>\n",
              "      <th>marital-status</th>\n",
              "      <th>occupation</th>\n",
              "      <th>relationship</th>\n",
              "      <th>race</th>\n",
              "      <th>gender</th>\n",
              "      <th>capital-gain</th>\n",
              "      <th>capital-loss</th>\n",
              "      <th>hours-per-week</th>\n",
              "      <th>native-country</th>\n",
              "      <th>income</th>\n",
              "      <th>log-capital-gain</th>\n",
              "      <th>log-capital-loss</th>\n",
              "    </tr>\n",
              "  </thead>\n",
              "  <tbody>\n",
              "    <tr>\n",
              "      <th>7762</th>\n",
              "      <td>56</td>\n",
              "      <td>4</td>\n",
              "      <td>33115</td>\n",
              "      <td>11</td>\n",
              "      <td>9</td>\n",
              "      <td>0</td>\n",
              "      <td>8</td>\n",
              "      <td>4</td>\n",
              "      <td>4</td>\n",
              "      <td>0</td>\n",
              "      <td>0</td>\n",
              "      <td>0</td>\n",
              "      <td>40</td>\n",
              "      <td>39</td>\n",
              "      <td>0</td>\n",
              "      <td>0.000000</td>\n",
              "      <td>0.0</td>\n",
              "    </tr>\n",
              "    <tr>\n",
              "      <th>23881</th>\n",
              "      <td>25</td>\n",
              "      <td>4</td>\n",
              "      <td>112847</td>\n",
              "      <td>11</td>\n",
              "      <td>9</td>\n",
              "      <td>2</td>\n",
              "      <td>14</td>\n",
              "      <td>3</td>\n",
              "      <td>3</td>\n",
              "      <td>1</td>\n",
              "      <td>0</td>\n",
              "      <td>0</td>\n",
              "      <td>40</td>\n",
              "      <td>39</td>\n",
              "      <td>0</td>\n",
              "      <td>0.000000</td>\n",
              "      <td>0.0</td>\n",
              "    </tr>\n",
              "    <tr>\n",
              "      <th>30507</th>\n",
              "      <td>43</td>\n",
              "      <td>4</td>\n",
              "      <td>170525</td>\n",
              "      <td>9</td>\n",
              "      <td>13</td>\n",
              "      <td>0</td>\n",
              "      <td>10</td>\n",
              "      <td>1</td>\n",
              "      <td>4</td>\n",
              "      <td>0</td>\n",
              "      <td>14344</td>\n",
              "      <td>0</td>\n",
              "      <td>40</td>\n",
              "      <td>39</td>\n",
              "      <td>1</td>\n",
              "      <td>9.571157</td>\n",
              "      <td>0.0</td>\n",
              "    </tr>\n",
              "    <tr>\n",
              "      <th>28911</th>\n",
              "      <td>32</td>\n",
              "      <td>4</td>\n",
              "      <td>186788</td>\n",
              "      <td>11</td>\n",
              "      <td>9</td>\n",
              "      <td>2</td>\n",
              "      <td>14</td>\n",
              "      <td>0</td>\n",
              "      <td>4</td>\n",
              "      <td>1</td>\n",
              "      <td>0</td>\n",
              "      <td>0</td>\n",
              "      <td>40</td>\n",
              "      <td>39</td>\n",
              "      <td>0</td>\n",
              "      <td>0.000000</td>\n",
              "      <td>0.0</td>\n",
              "    </tr>\n",
              "    <tr>\n",
              "      <th>19484</th>\n",
              "      <td>39</td>\n",
              "      <td>4</td>\n",
              "      <td>277886</td>\n",
              "      <td>9</td>\n",
              "      <td>13</td>\n",
              "      <td>2</td>\n",
              "      <td>12</td>\n",
              "      <td>5</td>\n",
              "      <td>4</td>\n",
              "      <td>0</td>\n",
              "      <td>0</td>\n",
              "      <td>0</td>\n",
              "      <td>30</td>\n",
              "      <td>39</td>\n",
              "      <td>0</td>\n",
              "      <td>0.000000</td>\n",
              "      <td>0.0</td>\n",
              "    </tr>\n",
              "  </tbody>\n",
              "</table>\n",
              "</div>\n",
              "    <div class=\"colab-df-buttons\">\n",
              "\n",
              "  <div class=\"colab-df-container\">\n",
              "    <button class=\"colab-df-convert\" onclick=\"convertToInteractive('df-40c6a92d-5b82-4c84-9e1a-3f1ac1792b5b')\"\n",
              "            title=\"Convert this dataframe to an interactive table.\"\n",
              "            style=\"display:none;\">\n",
              "\n",
              "  <svg xmlns=\"http://www.w3.org/2000/svg\" height=\"24px\" viewBox=\"0 -960 960 960\">\n",
              "    <path d=\"M120-120v-720h720v720H120Zm60-500h600v-160H180v160Zm220 220h160v-160H400v160Zm0 220h160v-160H400v160ZM180-400h160v-160H180v160Zm440 0h160v-160H620v160ZM180-180h160v-160H180v160Zm440 0h160v-160H620v160Z\"/>\n",
              "  </svg>\n",
              "    </button>\n",
              "\n",
              "  <style>\n",
              "    .colab-df-container {\n",
              "      display:flex;\n",
              "      gap: 12px;\n",
              "    }\n",
              "\n",
              "    .colab-df-convert {\n",
              "      background-color: #E8F0FE;\n",
              "      border: none;\n",
              "      border-radius: 50%;\n",
              "      cursor: pointer;\n",
              "      display: none;\n",
              "      fill: #1967D2;\n",
              "      height: 32px;\n",
              "      padding: 0 0 0 0;\n",
              "      width: 32px;\n",
              "    }\n",
              "\n",
              "    .colab-df-convert:hover {\n",
              "      background-color: #E2EBFA;\n",
              "      box-shadow: 0px 1px 2px rgba(60, 64, 67, 0.3), 0px 1px 3px 1px rgba(60, 64, 67, 0.15);\n",
              "      fill: #174EA6;\n",
              "    }\n",
              "\n",
              "    .colab-df-buttons div {\n",
              "      margin-bottom: 4px;\n",
              "    }\n",
              "\n",
              "    [theme=dark] .colab-df-convert {\n",
              "      background-color: #3B4455;\n",
              "      fill: #D2E3FC;\n",
              "    }\n",
              "\n",
              "    [theme=dark] .colab-df-convert:hover {\n",
              "      background-color: #434B5C;\n",
              "      box-shadow: 0px 1px 3px 1px rgba(0, 0, 0, 0.15);\n",
              "      filter: drop-shadow(0px 1px 2px rgba(0, 0, 0, 0.3));\n",
              "      fill: #FFFFFF;\n",
              "    }\n",
              "  </style>\n",
              "\n",
              "    <script>\n",
              "      const buttonEl =\n",
              "        document.querySelector('#df-40c6a92d-5b82-4c84-9e1a-3f1ac1792b5b button.colab-df-convert');\n",
              "      buttonEl.style.display =\n",
              "        google.colab.kernel.accessAllowed ? 'block' : 'none';\n",
              "\n",
              "      async function convertToInteractive(key) {\n",
              "        const element = document.querySelector('#df-40c6a92d-5b82-4c84-9e1a-3f1ac1792b5b');\n",
              "        const dataTable =\n",
              "          await google.colab.kernel.invokeFunction('convertToInteractive',\n",
              "                                                    [key], {});\n",
              "        if (!dataTable) return;\n",
              "\n",
              "        const docLinkHtml = 'Like what you see? Visit the ' +\n",
              "          '<a target=\"_blank\" href=https://colab.research.google.com/notebooks/data_table.ipynb>data table notebook</a>'\n",
              "          + ' to learn more about interactive tables.';\n",
              "        element.innerHTML = '';\n",
              "        dataTable['output_type'] = 'display_data';\n",
              "        await google.colab.output.renderOutput(dataTable, element);\n",
              "        const docLink = document.createElement('div');\n",
              "        docLink.innerHTML = docLinkHtml;\n",
              "        element.appendChild(docLink);\n",
              "      }\n",
              "    </script>\n",
              "  </div>\n",
              "\n",
              "\n",
              "<div id=\"df-2d1c6a1d-57f9-45a3-92e2-cc656f36bd62\">\n",
              "  <button class=\"colab-df-quickchart\" onclick=\"quickchart('df-2d1c6a1d-57f9-45a3-92e2-cc656f36bd62')\"\n",
              "            title=\"Suggest charts\"\n",
              "            style=\"display:none;\">\n",
              "\n",
              "<svg xmlns=\"http://www.w3.org/2000/svg\" height=\"24px\"viewBox=\"0 0 24 24\"\n",
              "     width=\"24px\">\n",
              "    <g>\n",
              "        <path d=\"M19 3H5c-1.1 0-2 .9-2 2v14c0 1.1.9 2 2 2h14c1.1 0 2-.9 2-2V5c0-1.1-.9-2-2-2zM9 17H7v-7h2v7zm4 0h-2V7h2v10zm4 0h-2v-4h2v4z\"/>\n",
              "    </g>\n",
              "</svg>\n",
              "  </button>\n",
              "\n",
              "<style>\n",
              "  .colab-df-quickchart {\n",
              "      --bg-color: #E8F0FE;\n",
              "      --fill-color: #1967D2;\n",
              "      --hover-bg-color: #E2EBFA;\n",
              "      --hover-fill-color: #174EA6;\n",
              "      --disabled-fill-color: #AAA;\n",
              "      --disabled-bg-color: #DDD;\n",
              "  }\n",
              "\n",
              "  [theme=dark] .colab-df-quickchart {\n",
              "      --bg-color: #3B4455;\n",
              "      --fill-color: #D2E3FC;\n",
              "      --hover-bg-color: #434B5C;\n",
              "      --hover-fill-color: #FFFFFF;\n",
              "      --disabled-bg-color: #3B4455;\n",
              "      --disabled-fill-color: #666;\n",
              "  }\n",
              "\n",
              "  .colab-df-quickchart {\n",
              "    background-color: var(--bg-color);\n",
              "    border: none;\n",
              "    border-radius: 50%;\n",
              "    cursor: pointer;\n",
              "    display: none;\n",
              "    fill: var(--fill-color);\n",
              "    height: 32px;\n",
              "    padding: 0;\n",
              "    width: 32px;\n",
              "  }\n",
              "\n",
              "  .colab-df-quickchart:hover {\n",
              "    background-color: var(--hover-bg-color);\n",
              "    box-shadow: 0 1px 2px rgba(60, 64, 67, 0.3), 0 1px 3px 1px rgba(60, 64, 67, 0.15);\n",
              "    fill: var(--button-hover-fill-color);\n",
              "  }\n",
              "\n",
              "  .colab-df-quickchart-complete:disabled,\n",
              "  .colab-df-quickchart-complete:disabled:hover {\n",
              "    background-color: var(--disabled-bg-color);\n",
              "    fill: var(--disabled-fill-color);\n",
              "    box-shadow: none;\n",
              "  }\n",
              "\n",
              "  .colab-df-spinner {\n",
              "    border: 2px solid var(--fill-color);\n",
              "    border-color: transparent;\n",
              "    border-bottom-color: var(--fill-color);\n",
              "    animation:\n",
              "      spin 1s steps(1) infinite;\n",
              "  }\n",
              "\n",
              "  @keyframes spin {\n",
              "    0% {\n",
              "      border-color: transparent;\n",
              "      border-bottom-color: var(--fill-color);\n",
              "      border-left-color: var(--fill-color);\n",
              "    }\n",
              "    20% {\n",
              "      border-color: transparent;\n",
              "      border-left-color: var(--fill-color);\n",
              "      border-top-color: var(--fill-color);\n",
              "    }\n",
              "    30% {\n",
              "      border-color: transparent;\n",
              "      border-left-color: var(--fill-color);\n",
              "      border-top-color: var(--fill-color);\n",
              "      border-right-color: var(--fill-color);\n",
              "    }\n",
              "    40% {\n",
              "      border-color: transparent;\n",
              "      border-right-color: var(--fill-color);\n",
              "      border-top-color: var(--fill-color);\n",
              "    }\n",
              "    60% {\n",
              "      border-color: transparent;\n",
              "      border-right-color: var(--fill-color);\n",
              "    }\n",
              "    80% {\n",
              "      border-color: transparent;\n",
              "      border-right-color: var(--fill-color);\n",
              "      border-bottom-color: var(--fill-color);\n",
              "    }\n",
              "    90% {\n",
              "      border-color: transparent;\n",
              "      border-bottom-color: var(--fill-color);\n",
              "    }\n",
              "  }\n",
              "</style>\n",
              "\n",
              "  <script>\n",
              "    async function quickchart(key) {\n",
              "      const quickchartButtonEl =\n",
              "        document.querySelector('#' + key + ' button');\n",
              "      quickchartButtonEl.disabled = true;  // To prevent multiple clicks.\n",
              "      quickchartButtonEl.classList.add('colab-df-spinner');\n",
              "      try {\n",
              "        const charts = await google.colab.kernel.invokeFunction(\n",
              "            'suggestCharts', [key], {});\n",
              "      } catch (error) {\n",
              "        console.error('Error during call to suggestCharts:', error);\n",
              "      }\n",
              "      quickchartButtonEl.classList.remove('colab-df-spinner');\n",
              "      quickchartButtonEl.classList.add('colab-df-quickchart-complete');\n",
              "    }\n",
              "    (() => {\n",
              "      let quickchartButtonEl =\n",
              "        document.querySelector('#df-2d1c6a1d-57f9-45a3-92e2-cc656f36bd62 button');\n",
              "      quickchartButtonEl.style.display =\n",
              "        google.colab.kernel.accessAllowed ? 'block' : 'none';\n",
              "    })();\n",
              "  </script>\n",
              "</div>\n",
              "\n",
              "    </div>\n",
              "  </div>\n"
            ]
          },
          "metadata": {},
          "execution_count": 18
        }
      ]
    },
    {
      "cell_type": "markdown",
      "source": [
        "# Binary Splits"
      ],
      "metadata": {
        "id": "HnSFlmhHxXe6"
      }
    },
    {
      "cell_type": "code",
      "source": [
        "df.gender.head()"
      ],
      "metadata": {
        "colab": {
          "base_uri": "https://localhost:8080/"
        },
        "id": "XtfnJySYuc-C",
        "outputId": "a264a6e5-af3d-4f6d-a9f1-2573a945399a"
      },
      "execution_count": 19,
      "outputs": [
        {
          "output_type": "execute_result",
          "data": {
            "text/plain": [
              "0      Male\n",
              "1      Male\n",
              "2      Male\n",
              "3      Male\n",
              "4    Female\n",
              "Name: gender, dtype: category\n",
              "Categories (2, object): ['Female', 'Male']"
            ]
          },
          "metadata": {},
          "execution_count": 19
        }
      ]
    },
    {
      "cell_type": "code",
      "source": [
        "valid_df.gender.head()"
      ],
      "metadata": {
        "colab": {
          "base_uri": "https://localhost:8080/"
        },
        "id": "kBfCaTtyxb4B",
        "outputId": "babd5cc5-1e93-41e6-ba60-ef75193583cb"
      },
      "execution_count": 20,
      "outputs": [
        {
          "output_type": "execute_result",
          "data": {
            "text/plain": [
              "7762     0\n",
              "23881    1\n",
              "30507    0\n",
              "28911    1\n",
              "19484    0\n",
              "Name: gender, dtype: int8"
            ]
          },
          "metadata": {},
          "execution_count": 20
        }
      ]
    },
    {
      "cell_type": "code",
      "source": [
        "preds = (valid_df.gender == 1)\n",
        "from sklearn.metrics import mean_absolute_error\n",
        "mean_absolute_error(valid_df.income, preds)"
      ],
      "metadata": {
        "colab": {
          "base_uri": "https://localhost:8080/"
        },
        "id": "o5mhNwgsxe5E",
        "outputId": "6461b03a-356f-4b36-abbf-53230ab61444"
      },
      "execution_count": 22,
      "outputs": [
        {
          "output_type": "execute_result",
          "data": {
            "text/plain": [
              "0.5002559115569659"
            ]
          },
          "metadata": {},
          "execution_count": 22
        }
      ]
    },
    {
      "cell_type": "code",
      "source": [
        "preds = valid_df.workclass == 4\n",
        "from sklearn.metrics import mean_absolute_error\n",
        "mean_absolute_error(valid_df.income, preds)"
      ],
      "metadata": {
        "colab": {
          "base_uri": "https://localhost:8080/"
        },
        "id": "AmkCmY8exe2C",
        "outputId": "6f570042-d223-45f3-a26b-d0281586a91e"
      },
      "execution_count": 23,
      "outputs": [
        {
          "output_type": "execute_result",
          "data": {
            "text/plain": [
              "0.6283140546627086"
            ]
          },
          "metadata": {},
          "execution_count": 23
        }
      ]
    },
    {
      "cell_type": "code",
      "source": [
        "df.race.head()"
      ],
      "metadata": {
        "colab": {
          "base_uri": "https://localhost:8080/"
        },
        "id": "8kmga8jexeyT",
        "outputId": "92a384b1-69e1-488a-e74a-8c1deb846455"
      },
      "execution_count": 24,
      "outputs": [
        {
          "output_type": "execute_result",
          "data": {
            "text/plain": [
              "0    Black\n",
              "1    White\n",
              "2    White\n",
              "3    Black\n",
              "4    White\n",
              "Name: race, dtype: category\n",
              "Categories (5, object): ['Amer-Indian-Eskimo', 'Asian-Pac-Islander', 'Black', 'Other', 'White']"
            ]
          },
          "metadata": {},
          "execution_count": 24
        }
      ]
    },
    {
      "cell_type": "code",
      "source": [
        "valid_df.race.head()"
      ],
      "metadata": {
        "colab": {
          "base_uri": "https://localhost:8080/"
        },
        "id": "MNV-qrJtxeu_",
        "outputId": "09022144-00e6-49a5-faf5-af23d72983f1"
      },
      "execution_count": 25,
      "outputs": [
        {
          "output_type": "execute_result",
          "data": {
            "text/plain": [
              "7762     4\n",
              "23881    3\n",
              "30507    4\n",
              "28911    4\n",
              "19484    4\n",
              "Name: race, dtype: int8"
            ]
          },
          "metadata": {},
          "execution_count": 25
        }
      ]
    },
    {
      "cell_type": "markdown",
      "source": [
        "# Decision Tree Intuition"
      ],
      "metadata": {
        "id": "X3aEcbqcyMiN"
      }
    },
    {
      "cell_type": "code",
      "source": [
        "preds = []\n",
        "for idx, row in valid_df.iterrows():\n",
        "  gender = row['gender']\n",
        "  race = row['race']\n",
        "  if race == 4 and gender == 1:\n",
        "    preds.append(1)\n",
        "  else:\n",
        "    preds.append(0)"
      ],
      "metadata": {
        "id": "T2vgDp8Wxei8"
      },
      "execution_count": 26,
      "outputs": []
    },
    {
      "cell_type": "code",
      "source": [
        "from sklearn.metrics import mean_absolute_error\n",
        "mean_absolute_error(valid_df.income, preds)"
      ],
      "metadata": {
        "colab": {
          "base_uri": "https://localhost:8080/"
        },
        "id": "SOrSdpbZxefV",
        "outputId": "521f1e2a-0df3-412b-8319-3e450a7b82bf"
      },
      "execution_count": 27,
      "outputs": [
        {
          "output_type": "execute_result",
          "data": {
            "text/plain": [
              "0.44999488176886066"
            ]
          },
          "metadata": {},
          "execution_count": 27
        }
      ]
    },
    {
      "cell_type": "markdown",
      "source": [
        "# Decision Tree"
      ],
      "metadata": {
        "id": "a9rEphEMyhDh"
      }
    },
    {
      "cell_type": "code",
      "source": [
        "from sklearn.tree import DecisionTreeClassifier, export_graphviz\n",
        "\n",
        "model = DecisionTreeClassifier(max_leaf_nodes=5)\n",
        "model.fit(train_df[categorical+continuous], train_df[target])"
      ],
      "metadata": {
        "colab": {
          "base_uri": "https://localhost:8080/",
          "height": 74
        },
        "id": "PzQfeje5xecO",
        "outputId": "0c5b1cbb-655b-4a37-cea2-4c8d8f9521af"
      },
      "execution_count": 28,
      "outputs": [
        {
          "output_type": "execute_result",
          "data": {
            "text/plain": [
              "DecisionTreeClassifier(max_leaf_nodes=5)"
            ],
            "text/html": [
              "<style>#sk-container-id-1 {color: black;background-color: white;}#sk-container-id-1 pre{padding: 0;}#sk-container-id-1 div.sk-toggleable {background-color: white;}#sk-container-id-1 label.sk-toggleable__label {cursor: pointer;display: block;width: 100%;margin-bottom: 0;padding: 0.3em;box-sizing: border-box;text-align: center;}#sk-container-id-1 label.sk-toggleable__label-arrow:before {content: \"▸\";float: left;margin-right: 0.25em;color: #696969;}#sk-container-id-1 label.sk-toggleable__label-arrow:hover:before {color: black;}#sk-container-id-1 div.sk-estimator:hover label.sk-toggleable__label-arrow:before {color: black;}#sk-container-id-1 div.sk-toggleable__content {max-height: 0;max-width: 0;overflow: hidden;text-align: left;background-color: #f0f8ff;}#sk-container-id-1 div.sk-toggleable__content pre {margin: 0.2em;color: black;border-radius: 0.25em;background-color: #f0f8ff;}#sk-container-id-1 input.sk-toggleable__control:checked~div.sk-toggleable__content {max-height: 200px;max-width: 100%;overflow: auto;}#sk-container-id-1 input.sk-toggleable__control:checked~label.sk-toggleable__label-arrow:before {content: \"▾\";}#sk-container-id-1 div.sk-estimator input.sk-toggleable__control:checked~label.sk-toggleable__label {background-color: #d4ebff;}#sk-container-id-1 div.sk-label input.sk-toggleable__control:checked~label.sk-toggleable__label {background-color: #d4ebff;}#sk-container-id-1 input.sk-hidden--visually {border: 0;clip: rect(1px 1px 1px 1px);clip: rect(1px, 1px, 1px, 1px);height: 1px;margin: -1px;overflow: hidden;padding: 0;position: absolute;width: 1px;}#sk-container-id-1 div.sk-estimator {font-family: monospace;background-color: #f0f8ff;border: 1px dotted black;border-radius: 0.25em;box-sizing: border-box;margin-bottom: 0.5em;}#sk-container-id-1 div.sk-estimator:hover {background-color: #d4ebff;}#sk-container-id-1 div.sk-parallel-item::after {content: \"\";width: 100%;border-bottom: 1px solid gray;flex-grow: 1;}#sk-container-id-1 div.sk-label:hover label.sk-toggleable__label {background-color: #d4ebff;}#sk-container-id-1 div.sk-serial::before {content: \"\";position: absolute;border-left: 1px solid gray;box-sizing: border-box;top: 0;bottom: 0;left: 50%;z-index: 0;}#sk-container-id-1 div.sk-serial {display: flex;flex-direction: column;align-items: center;background-color: white;padding-right: 0.2em;padding-left: 0.2em;position: relative;}#sk-container-id-1 div.sk-item {position: relative;z-index: 1;}#sk-container-id-1 div.sk-parallel {display: flex;align-items: stretch;justify-content: center;background-color: white;position: relative;}#sk-container-id-1 div.sk-item::before, #sk-container-id-1 div.sk-parallel-item::before {content: \"\";position: absolute;border-left: 1px solid gray;box-sizing: border-box;top: 0;bottom: 0;left: 50%;z-index: -1;}#sk-container-id-1 div.sk-parallel-item {display: flex;flex-direction: column;z-index: 1;position: relative;background-color: white;}#sk-container-id-1 div.sk-parallel-item:first-child::after {align-self: flex-end;width: 50%;}#sk-container-id-1 div.sk-parallel-item:last-child::after {align-self: flex-start;width: 50%;}#sk-container-id-1 div.sk-parallel-item:only-child::after {width: 0;}#sk-container-id-1 div.sk-dashed-wrapped {border: 1px dashed gray;margin: 0 0.4em 0.5em 0.4em;box-sizing: border-box;padding-bottom: 0.4em;background-color: white;}#sk-container-id-1 div.sk-label label {font-family: monospace;font-weight: bold;display: inline-block;line-height: 1.2em;}#sk-container-id-1 div.sk-label-container {text-align: center;}#sk-container-id-1 div.sk-container {/* jupyter's `normalize.less` sets `[hidden] { display: none; }` but bootstrap.min.css set `[hidden] { display: none !important; }` so we also need the `!important` here to be able to override the default hidden behavior on the sphinx rendered scikit-learn.org. See: https://github.com/scikit-learn/scikit-learn/issues/21755 */display: inline-block !important;position: relative;}#sk-container-id-1 div.sk-text-repr-fallback {display: none;}</style><div id=\"sk-container-id-1\" class=\"sk-top-container\"><div class=\"sk-text-repr-fallback\"><pre>DecisionTreeClassifier(max_leaf_nodes=5)</pre><b>In a Jupyter environment, please rerun this cell to show the HTML representation or trust the notebook. <br />On GitHub, the HTML representation is unable to render, please try loading this page with nbviewer.org.</b></div><div class=\"sk-container\" hidden><div class=\"sk-item\"><div class=\"sk-estimator sk-toggleable\"><input class=\"sk-toggleable__control sk-hidden--visually\" id=\"sk-estimator-id-1\" type=\"checkbox\" checked><label for=\"sk-estimator-id-1\" class=\"sk-toggleable__label sk-toggleable__label-arrow\">DecisionTreeClassifier</label><div class=\"sk-toggleable__content\"><pre>DecisionTreeClassifier(max_leaf_nodes=5)</pre></div></div></div></div></div>"
            ]
          },
          "metadata": {},
          "execution_count": 28
        }
      ]
    },
    {
      "cell_type": "code",
      "source": [
        "import graphviz, re\n",
        "\n",
        "def draw_tree(model, df, size=10, ratio=0.6, precision=2, **kwargs):\n",
        "\n",
        "  viz = export_graphviz(model, feature_names=df.columns, filled=True, rounded=True,\n",
        "                        special_characters=True, precision=precision, **kwargs)\n",
        "  return graphviz.Source(re.sub('Tree {', f'Tree {{ size={size}; ratio={ratio}', viz))"
      ],
      "metadata": {
        "id": "72AKeFi4yfiS"
      },
      "execution_count": 30,
      "outputs": []
    },
    {
      "cell_type": "code",
      "source": [
        "draw_tree(model, train_df[categorical+continuous])"
      ],
      "metadata": {
        "colab": {
          "base_uri": "https://localhost:8080/",
          "height": 575
        },
        "id": "giCvOEdEyfe2",
        "outputId": "eef3ab38-21af-4587-cd73-0736bcddbe7d"
      },
      "execution_count": 31,
      "outputs": [
        {
          "output_type": "execute_result",
          "data": {
            "image/svg+xml": "<?xml version=\"1.0\" encoding=\"UTF-8\" standalone=\"no\"?>\n<!DOCTYPE svg PUBLIC \"-//W3C//DTD SVG 1.1//EN\"\n \"http://www.w3.org/Graphics/SVG/1.1/DTD/svg11.dtd\">\n<!-- Generated by graphviz version 2.43.0 (0)\n -->\n<!-- Title: Tree Pages: 1 -->\n<svg width=\"687pt\" height=\"415pt\"\n viewBox=\"0.00 0.00 686.50 414.80\" xmlns=\"http://www.w3.org/2000/svg\" xmlns:xlink=\"http://www.w3.org/1999/xlink\">\n<g id=\"graph0\" class=\"graph\" transform=\"scale(1 1) rotate(0) translate(4 410.8)\">\n<title>Tree</title>\n<polygon fill=\"white\" stroke=\"transparent\" points=\"-4,4 -4,-410.8 682.5,-410.8 682.5,4 -4,4\"/>\n<!-- 0 -->\n<g id=\"node1\" class=\"node\">\n<title>0</title>\n<path fill=\"#eda978\" stroke=\"black\" d=\"M447.5,-403C447.5,-403 324.5,-403 324.5,-403 318.5,-403 312.5,-397 312.5,-391 312.5,-391 312.5,-347 312.5,-347 312.5,-341 318.5,-335 324.5,-335 324.5,-335 447.5,-335 447.5,-335 453.5,-335 459.5,-341 459.5,-347 459.5,-347 459.5,-391 459.5,-391 459.5,-397 453.5,-403 447.5,-403\"/>\n<text text-anchor=\"start\" x=\"334.5\" y=\"-387.8\" font-family=\"Helvetica,sans-Serif\" font-size=\"14.00\">relationship ≤ 0.5</text>\n<text text-anchor=\"start\" x=\"354\" y=\"-372.8\" font-family=\"Helvetica,sans-Serif\" font-size=\"14.00\">gini = 0.37</text>\n<text text-anchor=\"start\" x=\"333.5\" y=\"-357.8\" font-family=\"Helvetica,sans-Serif\" font-size=\"14.00\">samples = 39073</text>\n<text text-anchor=\"start\" x=\"320.5\" y=\"-342.8\" font-family=\"Helvetica,sans-Serif\" font-size=\"14.00\">value = [29676, 9397]</text>\n</g>\n<!-- 1 -->\n<g id=\"node2\" class=\"node\">\n<title>1</title>\n<path fill=\"#fae7da\" stroke=\"black\" d=\"M368,-287C368,-287 234,-287 234,-287 228,-287 222,-281 222,-275 222,-275 222,-231 222,-231 222,-225 228,-219 234,-219 234,-219 368,-219 368,-219 374,-219 380,-225 380,-231 380,-231 380,-275 380,-275 380,-281 374,-287 368,-287\"/>\n<text text-anchor=\"start\" x=\"230\" y=\"-271.8\" font-family=\"Helvetica,sans-Serif\" font-size=\"14.00\">educational&#45;num ≤ 12.5</text>\n<text text-anchor=\"start\" x=\"269\" y=\"-256.8\" font-family=\"Helvetica,sans-Serif\" font-size=\"14.00\">gini = 0.49</text>\n<text text-anchor=\"start\" x=\"248.5\" y=\"-241.8\" font-family=\"Helvetica,sans-Serif\" font-size=\"14.00\">samples = 15869</text>\n<text text-anchor=\"start\" x=\"239\" y=\"-226.8\" font-family=\"Helvetica,sans-Serif\" font-size=\"14.00\">value = [8752, 7117]</text>\n</g>\n<!-- 0&#45;&gt;1 -->\n<g id=\"edge1\" class=\"edge\">\n<title>0&#45;&gt;1</title>\n<path fill=\"none\" stroke=\"black\" d=\"M361.19,-334.72C352.02,-322.43 341.52,-308.35 331.88,-295.42\"/>\n<polygon fill=\"black\" stroke=\"black\" points=\"334.48,-293.05 325.7,-287.12 328.87,-297.23 334.48,-293.05\"/>\n<text text-anchor=\"middle\" x=\"322.09\" y=\"-308.16\" font-family=\"Helvetica,sans-Serif\" font-size=\"14.00\">True</text>\n</g>\n<!-- 2 -->\n<g id=\"node7\" class=\"node\">\n<title>2</title>\n<path fill=\"#e88f4f\" stroke=\"black\" d=\"M534.5,-287C534.5,-287 409.5,-287 409.5,-287 403.5,-287 397.5,-281 397.5,-275 397.5,-275 397.5,-231 397.5,-231 397.5,-225 403.5,-219 409.5,-219 409.5,-219 534.5,-219 534.5,-219 540.5,-219 546.5,-225 546.5,-231 546.5,-231 546.5,-275 546.5,-275 546.5,-281 540.5,-287 534.5,-287\"/>\n<text text-anchor=\"start\" x=\"405.5\" y=\"-271.8\" font-family=\"Helvetica,sans-Serif\" font-size=\"14.00\">log&#45;capital&#45;gain ≤ 8.86</text>\n<text text-anchor=\"start\" x=\"440\" y=\"-256.8\" font-family=\"Helvetica,sans-Serif\" font-size=\"14.00\">gini = 0.18</text>\n<text text-anchor=\"start\" x=\"419.5\" y=\"-241.8\" font-family=\"Helvetica,sans-Serif\" font-size=\"14.00\">samples = 23204</text>\n<text text-anchor=\"start\" x=\"406.5\" y=\"-226.8\" font-family=\"Helvetica,sans-Serif\" font-size=\"14.00\">value = [20924, 2280]</text>\n</g>\n<!-- 0&#45;&gt;2 -->\n<g id=\"edge6\" class=\"edge\">\n<title>0&#45;&gt;2</title>\n<path fill=\"none\" stroke=\"black\" d=\"M411.11,-334.72C420.38,-322.43 431,-308.35 440.75,-295.42\"/>\n<polygon fill=\"black\" stroke=\"black\" points=\"443.78,-297.22 447.01,-287.12 438.19,-293 443.78,-297.22\"/>\n<text text-anchor=\"middle\" x=\"450.48\" y=\"-308.18\" font-family=\"Helvetica,sans-Serif\" font-size=\"14.00\">False</text>\n</g>\n<!-- 3 -->\n<g id=\"node3\" class=\"node\">\n<title>3</title>\n<path fill=\"#f2c09c\" stroke=\"black\" d=\"M203.5,-171C203.5,-171 78.5,-171 78.5,-171 72.5,-171 66.5,-165 66.5,-159 66.5,-159 66.5,-115 66.5,-115 66.5,-109 72.5,-103 78.5,-103 78.5,-103 203.5,-103 203.5,-103 209.5,-103 215.5,-109 215.5,-115 215.5,-115 215.5,-159 215.5,-159 215.5,-165 209.5,-171 203.5,-171\"/>\n<text text-anchor=\"start\" x=\"74.5\" y=\"-155.8\" font-family=\"Helvetica,sans-Serif\" font-size=\"14.00\">log&#45;capital&#45;gain ≤ 8.54</text>\n<text text-anchor=\"start\" x=\"109\" y=\"-140.8\" font-family=\"Helvetica,sans-Serif\" font-size=\"14.00\">gini = 0.44</text>\n<text text-anchor=\"start\" x=\"88.5\" y=\"-125.8\" font-family=\"Helvetica,sans-Serif\" font-size=\"14.00\">samples = 11142</text>\n<text text-anchor=\"start\" x=\"79\" y=\"-110.8\" font-family=\"Helvetica,sans-Serif\" font-size=\"14.00\">value = [7435, 3707]</text>\n</g>\n<!-- 1&#45;&gt;3 -->\n<g id=\"edge2\" class=\"edge\">\n<title>1&#45;&gt;3</title>\n<path fill=\"none\" stroke=\"black\" d=\"M254.29,-218.72C235.97,-205.67 214.82,-190.6 195.78,-177.03\"/>\n<polygon fill=\"black\" stroke=\"black\" points=\"197.67,-174.08 187.49,-171.12 193.6,-179.78 197.67,-174.08\"/>\n</g>\n<!-- 4 -->\n<g id=\"node6\" class=\"node\">\n<title>4</title>\n<path fill=\"#85c3ef\" stroke=\"black\" d=\"M362,-163.5C362,-163.5 246,-163.5 246,-163.5 240,-163.5 234,-157.5 234,-151.5 234,-151.5 234,-122.5 234,-122.5 234,-116.5 240,-110.5 246,-110.5 246,-110.5 362,-110.5 362,-110.5 368,-110.5 374,-116.5 374,-122.5 374,-122.5 374,-151.5 374,-151.5 374,-157.5 368,-163.5 362,-163.5\"/>\n<text text-anchor=\"start\" x=\"276\" y=\"-148.3\" font-family=\"Helvetica,sans-Serif\" font-size=\"14.00\">gini = 0.4</text>\n<text text-anchor=\"start\" x=\"255.5\" y=\"-133.3\" font-family=\"Helvetica,sans-Serif\" font-size=\"14.00\">samples = 4727</text>\n<text text-anchor=\"start\" x=\"242\" y=\"-118.3\" font-family=\"Helvetica,sans-Serif\" font-size=\"14.00\">value = [1317, 3410]</text>\n</g>\n<!-- 1&#45;&gt;4 -->\n<g id=\"edge5\" class=\"edge\">\n<title>1&#45;&gt;4</title>\n<path fill=\"none\" stroke=\"black\" d=\"M301.88,-218.72C302.25,-204.55 302.68,-187.99 303.06,-173.58\"/>\n<polygon fill=\"black\" stroke=\"black\" points=\"306.56,-173.61 303.33,-163.52 299.57,-173.43 306.56,-173.61\"/>\n</g>\n<!-- 7 -->\n<g id=\"node4\" class=\"node\">\n<title>7</title>\n<path fill=\"#f0b78e\" stroke=\"black\" d=\"M128,-56.5C128,-56.5 12,-56.5 12,-56.5 6,-56.5 0,-50.5 0,-44.5 0,-44.5 0,-15.5 0,-15.5 0,-9.5 6,-3.5 12,-3.5 12,-3.5 128,-3.5 128,-3.5 134,-3.5 140,-9.5 140,-15.5 140,-15.5 140,-44.5 140,-44.5 140,-50.5 134,-56.5 128,-56.5\"/>\n<text text-anchor=\"start\" x=\"38\" y=\"-41.3\" font-family=\"Helvetica,sans-Serif\" font-size=\"14.00\">gini = 0.42</text>\n<text text-anchor=\"start\" x=\"17.5\" y=\"-26.3\" font-family=\"Helvetica,sans-Serif\" font-size=\"14.00\">samples = 10613</text>\n<text text-anchor=\"start\" x=\"8\" y=\"-11.3\" font-family=\"Helvetica,sans-Serif\" font-size=\"14.00\">value = [7426, 3187]</text>\n</g>\n<!-- 3&#45;&gt;7 -->\n<g id=\"edge3\" class=\"edge\">\n<title>3&#45;&gt;7</title>\n<path fill=\"none\" stroke=\"black\" d=\"M118.54,-102.78C110.43,-90.79 101.27,-77.24 93.11,-65.17\"/>\n<polygon fill=\"black\" stroke=\"black\" points=\"95.87,-63.01 87.37,-56.69 90.07,-66.93 95.87,-63.01\"/>\n</g>\n<!-- 8 -->\n<g id=\"node5\" class=\"node\">\n<title>8</title>\n<path fill=\"#3c9fe5\" stroke=\"black\" d=\"M256,-56.5C256,-56.5 170,-56.5 170,-56.5 164,-56.5 158,-50.5 158,-44.5 158,-44.5 158,-15.5 158,-15.5 158,-9.5 164,-3.5 170,-3.5 170,-3.5 256,-3.5 256,-3.5 262,-3.5 268,-9.5 268,-15.5 268,-15.5 268,-44.5 268,-44.5 268,-50.5 262,-56.5 256,-56.5\"/>\n<text text-anchor=\"start\" x=\"181\" y=\"-41.3\" font-family=\"Helvetica,sans-Serif\" font-size=\"14.00\">gini = 0.03</text>\n<text text-anchor=\"start\" x=\"168\" y=\"-26.3\" font-family=\"Helvetica,sans-Serif\" font-size=\"14.00\">samples = 529</text>\n<text text-anchor=\"start\" x=\"166\" y=\"-11.3\" font-family=\"Helvetica,sans-Serif\" font-size=\"14.00\">value = [9, 520]</text>\n</g>\n<!-- 3&#45;&gt;8 -->\n<g id=\"edge4\" class=\"edge\">\n<title>3&#45;&gt;8</title>\n<path fill=\"none\" stroke=\"black\" d=\"M163.78,-102.78C172,-90.79 181.29,-77.24 189.57,-65.17\"/>\n<polygon fill=\"black\" stroke=\"black\" points=\"192.62,-66.91 195.39,-56.69 186.84,-62.95 192.62,-66.91\"/>\n</g>\n<!-- 5 -->\n<g id=\"node8\" class=\"node\">\n<title>5</title>\n<path fill=\"#e78c4a\" stroke=\"black\" d=\"M531.5,-163.5C531.5,-163.5 408.5,-163.5 408.5,-163.5 402.5,-163.5 396.5,-157.5 396.5,-151.5 396.5,-151.5 396.5,-122.5 396.5,-122.5 396.5,-116.5 402.5,-110.5 408.5,-110.5 408.5,-110.5 531.5,-110.5 531.5,-110.5 537.5,-110.5 543.5,-116.5 543.5,-122.5 543.5,-122.5 543.5,-151.5 543.5,-151.5 543.5,-157.5 537.5,-163.5 531.5,-163.5\"/>\n<text text-anchor=\"start\" x=\"438\" y=\"-148.3\" font-family=\"Helvetica,sans-Serif\" font-size=\"14.00\">gini = 0.15</text>\n<text text-anchor=\"start\" x=\"417.5\" y=\"-133.3\" font-family=\"Helvetica,sans-Serif\" font-size=\"14.00\">samples = 22702</text>\n<text text-anchor=\"start\" x=\"404.5\" y=\"-118.3\" font-family=\"Helvetica,sans-Serif\" font-size=\"14.00\">value = [20910, 1792]</text>\n</g>\n<!-- 2&#45;&gt;5 -->\n<g id=\"edge7\" class=\"edge\">\n<title>2&#45;&gt;5</title>\n<path fill=\"none\" stroke=\"black\" d=\"M471.42,-218.72C471.17,-204.55 470.88,-187.99 470.62,-173.58\"/>\n<polygon fill=\"black\" stroke=\"black\" points=\"474.12,-173.46 470.45,-163.52 467.12,-173.58 474.12,-173.46\"/>\n</g>\n<!-- 6 -->\n<g id=\"node9\" class=\"node\">\n<title>6</title>\n<path fill=\"#3fa0e6\" stroke=\"black\" d=\"M666.5,-163.5C666.5,-163.5 573.5,-163.5 573.5,-163.5 567.5,-163.5 561.5,-157.5 561.5,-151.5 561.5,-151.5 561.5,-122.5 561.5,-122.5 561.5,-116.5 567.5,-110.5 573.5,-110.5 573.5,-110.5 666.5,-110.5 666.5,-110.5 672.5,-110.5 678.5,-116.5 678.5,-122.5 678.5,-122.5 678.5,-151.5 678.5,-151.5 678.5,-157.5 672.5,-163.5 666.5,-163.5\"/>\n<text text-anchor=\"start\" x=\"588\" y=\"-148.3\" font-family=\"Helvetica,sans-Serif\" font-size=\"14.00\">gini = 0.05</text>\n<text text-anchor=\"start\" x=\"575\" y=\"-133.3\" font-family=\"Helvetica,sans-Serif\" font-size=\"14.00\">samples = 502</text>\n<text text-anchor=\"start\" x=\"569.5\" y=\"-118.3\" font-family=\"Helvetica,sans-Serif\" font-size=\"14.00\">value = [14, 488]</text>\n</g>\n<!-- 2&#45;&gt;6 -->\n<g id=\"edge8\" class=\"edge\">\n<title>2&#45;&gt;6</title>\n<path fill=\"none\" stroke=\"black\" d=\"M515.21,-218.72C535.3,-203.24 559.09,-184.92 578.91,-169.65\"/>\n<polygon fill=\"black\" stroke=\"black\" points=\"581.08,-172.4 586.86,-163.52 576.81,-166.85 581.08,-172.4\"/>\n</g>\n</g>\n</svg>\n",
            "text/plain": [
              "<graphviz.sources.Source at 0x7ffa99023940>"
            ]
          },
          "metadata": {},
          "execution_count": 31
        }
      ]
    },
    {
      "cell_type": "code",
      "source": [
        "preds = model.predict(valid_df[categorical+continuous])\n",
        "mean_absolute_error(valid_df.income, preds)"
      ],
      "metadata": {
        "colab": {
          "base_uri": "https://localhost:8080/"
        },
        "id": "R93dQSWLyfbb",
        "outputId": "444a585a-f19c-4be3-c773-1474bcc65899"
      },
      "execution_count": 32,
      "outputs": [
        {
          "output_type": "execute_result",
          "data": {
            "text/plain": [
              "0.15508240352134303"
            ]
          },
          "metadata": {},
          "execution_count": 32
        }
      ]
    },
    {
      "cell_type": "code",
      "source": [
        "model = DecisionTreeClassifier(min_samples_leaf=500)\n",
        "model.fit(train_df[categorical+continuous], train_df[target])\n",
        "draw_tree(model, train_df[categorical+continuous], size=30)"
      ],
      "metadata": {
        "colab": {
          "base_uri": "https://localhost:8080/",
          "height": 1000
        },
        "id": "ZPQxeBkryfX_",
        "outputId": "a2015fe1-622f-4784-8e2a-446366dcf377"
      },
      "execution_count": 36,
      "outputs": [
        {
          "output_type": "execute_result",
          "data": {
            "image/svg+xml": "<?xml version=\"1.0\" encoding=\"UTF-8\" standalone=\"no\"?>\n<!DOCTYPE svg PUBLIC \"-//W3C//DTD SVG 1.1//EN\"\n \"http://www.w3.org/Graphics/SVG/1.1/DTD/svg11.dtd\">\n<!-- Generated by graphviz version 2.43.0 (0)\n -->\n<!-- Title: Tree Pages: 1 -->\n<svg width=\"2160pt\" height=\"1298pt\"\n viewBox=\"0.00 0.00 2160.00 1298.14\" xmlns=\"http://www.w3.org/2000/svg\" xmlns:xlink=\"http://www.w3.org/1999/xlink\">\n<g id=\"graph0\" class=\"graph\" transform=\"scale(1.49 1.49) rotate(0) translate(4 1934.8)\">\n<title>Tree</title>\n<polygon fill=\"white\" stroke=\"transparent\" points=\"-4,4 -4,-1934.8 3222,-1934.8 3222,4 -4,4\"/>\n<!-- 0 -->\n<g id=\"node1\" class=\"node\">\n<title>0</title>\n<path fill=\"#eda978\" stroke=\"black\" d=\"M1942,-1910C1942,-1910 1819,-1910 1819,-1910 1813,-1910 1807,-1904 1807,-1898 1807,-1898 1807,-1854 1807,-1854 1807,-1848 1813,-1842 1819,-1842 1819,-1842 1942,-1842 1942,-1842 1948,-1842 1954,-1848 1954,-1854 1954,-1854 1954,-1898 1954,-1898 1954,-1904 1948,-1910 1942,-1910\"/>\n<text text-anchor=\"start\" x=\"1829\" y=\"-1894.8\" font-family=\"Helvetica,sans-Serif\" font-size=\"14.00\">relationship ≤ 0.5</text>\n<text text-anchor=\"start\" x=\"1848.5\" y=\"-1879.8\" font-family=\"Helvetica,sans-Serif\" font-size=\"14.00\">gini = 0.37</text>\n<text text-anchor=\"start\" x=\"1828\" y=\"-1864.8\" font-family=\"Helvetica,sans-Serif\" font-size=\"14.00\">samples = 39073</text>\n<text text-anchor=\"start\" x=\"1815\" y=\"-1849.8\" font-family=\"Helvetica,sans-Serif\" font-size=\"14.00\">value = [29676, 9397]</text>\n</g>\n<!-- 1 -->\n<g id=\"node2\" class=\"node\">\n<title>1</title>\n<path fill=\"#fae7da\" stroke=\"black\" d=\"M1297.5,-1742C1297.5,-1742 1163.5,-1742 1163.5,-1742 1157.5,-1742 1151.5,-1736 1151.5,-1730 1151.5,-1730 1151.5,-1686 1151.5,-1686 1151.5,-1680 1157.5,-1674 1163.5,-1674 1163.5,-1674 1297.5,-1674 1297.5,-1674 1303.5,-1674 1309.5,-1680 1309.5,-1686 1309.5,-1686 1309.5,-1730 1309.5,-1730 1309.5,-1736 1303.5,-1742 1297.5,-1742\"/>\n<text text-anchor=\"start\" x=\"1159.5\" y=\"-1726.8\" font-family=\"Helvetica,sans-Serif\" font-size=\"14.00\">educational&#45;num ≤ 12.5</text>\n<text text-anchor=\"start\" x=\"1198.5\" y=\"-1711.8\" font-family=\"Helvetica,sans-Serif\" font-size=\"14.00\">gini = 0.49</text>\n<text text-anchor=\"start\" x=\"1178\" y=\"-1696.8\" font-family=\"Helvetica,sans-Serif\" font-size=\"14.00\">samples = 15869</text>\n<text text-anchor=\"start\" x=\"1168.5\" y=\"-1681.8\" font-family=\"Helvetica,sans-Serif\" font-size=\"14.00\">value = [8752, 7117]</text>\n</g>\n<!-- 0&#45;&gt;1 -->\n<g id=\"edge1\" class=\"edge\">\n<title>0&#45;&gt;1</title>\n<path fill=\"none\" stroke=\"black\" d=\"M1806.89,-1856.2C1686.7,-1825.51 1448.81,-1764.75 1319.4,-1731.7\"/>\n<polygon fill=\"black\" stroke=\"black\" points=\"1320.06,-1728.26 1309.51,-1729.18 1318.33,-1735.04 1320.06,-1728.26\"/>\n<text text-anchor=\"middle\" x=\"1322.26\" y=\"-1746.98\" font-family=\"Helvetica,sans-Serif\" font-size=\"14.00\">True</text>\n</g>\n<!-- 48 -->\n<g id=\"node49\" class=\"node\">\n<title>48</title>\n<path fill=\"#e88f4f\" stroke=\"black\" d=\"M2526,-1742C2526,-1742 2401,-1742 2401,-1742 2395,-1742 2389,-1736 2389,-1730 2389,-1730 2389,-1686 2389,-1686 2389,-1680 2395,-1674 2401,-1674 2401,-1674 2526,-1674 2526,-1674 2532,-1674 2538,-1680 2538,-1686 2538,-1686 2538,-1730 2538,-1730 2538,-1736 2532,-1742 2526,-1742\"/>\n<text text-anchor=\"start\" x=\"2397\" y=\"-1726.8\" font-family=\"Helvetica,sans-Serif\" font-size=\"14.00\">log&#45;capital&#45;gain ≤ 8.86</text>\n<text text-anchor=\"start\" x=\"2431.5\" y=\"-1711.8\" font-family=\"Helvetica,sans-Serif\" font-size=\"14.00\">gini = 0.18</text>\n<text text-anchor=\"start\" x=\"2411\" y=\"-1696.8\" font-family=\"Helvetica,sans-Serif\" font-size=\"14.00\">samples = 23204</text>\n<text text-anchor=\"start\" x=\"2398\" y=\"-1681.8\" font-family=\"Helvetica,sans-Serif\" font-size=\"14.00\">value = [20924, 2280]</text>\n</g>\n<!-- 0&#45;&gt;48 -->\n<g id=\"edge48\" class=\"edge\">\n<title>0&#45;&gt;48</title>\n<path fill=\"none\" stroke=\"black\" d=\"M1954.04,-1854.06C2062.46,-1823.19 2264.67,-1765.61 2379.03,-1733.05\"/>\n<polygon fill=\"black\" stroke=\"black\" points=\"2380.14,-1736.38 2388.8,-1730.27 2378.22,-1729.64 2380.14,-1736.38\"/>\n<text text-anchor=\"middle\" x=\"2376.64\" y=\"-1748.41\" font-family=\"Helvetica,sans-Serif\" font-size=\"14.00\">False</text>\n</g>\n<!-- 2 -->\n<g id=\"node3\" class=\"node\">\n<title>2</title>\n<path fill=\"#f2c09c\" stroke=\"black\" d=\"M1061,-1574C1061,-1574 936,-1574 936,-1574 930,-1574 924,-1568 924,-1562 924,-1562 924,-1518 924,-1518 924,-1512 930,-1506 936,-1506 936,-1506 1061,-1506 1061,-1506 1067,-1506 1073,-1512 1073,-1518 1073,-1518 1073,-1562 1073,-1562 1073,-1568 1067,-1574 1061,-1574\"/>\n<text text-anchor=\"start\" x=\"932\" y=\"-1558.8\" font-family=\"Helvetica,sans-Serif\" font-size=\"14.00\">log&#45;capital&#45;gain ≤ 8.54</text>\n<text text-anchor=\"start\" x=\"966.5\" y=\"-1543.8\" font-family=\"Helvetica,sans-Serif\" font-size=\"14.00\">gini = 0.44</text>\n<text text-anchor=\"start\" x=\"946\" y=\"-1528.8\" font-family=\"Helvetica,sans-Serif\" font-size=\"14.00\">samples = 11142</text>\n<text text-anchor=\"start\" x=\"936.5\" y=\"-1513.8\" font-family=\"Helvetica,sans-Serif\" font-size=\"14.00\">value = [7435, 3707]</text>\n</g>\n<!-- 1&#45;&gt;2 -->\n<g id=\"edge2\" class=\"edge\">\n<title>1&#45;&gt;2</title>\n<path fill=\"none\" stroke=\"black\" d=\"M1184.11,-1673.81C1146.33,-1646.78 1092.93,-1608.56 1053.09,-1580.06\"/>\n<polygon fill=\"black\" stroke=\"black\" points=\"1054.98,-1577.11 1044.81,-1574.14 1050.91,-1582.8 1054.98,-1577.11\"/>\n</g>\n<!-- 35 -->\n<g id=\"node36\" class=\"node\">\n<title>35</title>\n<path fill=\"#85c3ef\" stroke=\"black\" d=\"M1293,-1574C1293,-1574 1168,-1574 1168,-1574 1162,-1574 1156,-1568 1156,-1562 1156,-1562 1156,-1518 1156,-1518 1156,-1512 1162,-1506 1168,-1506 1168,-1506 1293,-1506 1293,-1506 1299,-1506 1305,-1512 1305,-1518 1305,-1518 1305,-1562 1305,-1562 1305,-1568 1299,-1574 1293,-1574\"/>\n<text text-anchor=\"start\" x=\"1164\" y=\"-1558.8\" font-family=\"Helvetica,sans-Serif\" font-size=\"14.00\">log&#45;capital&#45;gain ≤ 8.54</text>\n<text text-anchor=\"start\" x=\"1202.5\" y=\"-1543.8\" font-family=\"Helvetica,sans-Serif\" font-size=\"14.00\">gini = 0.4</text>\n<text text-anchor=\"start\" x=\"1182\" y=\"-1528.8\" font-family=\"Helvetica,sans-Serif\" font-size=\"14.00\">samples = 4727</text>\n<text text-anchor=\"start\" x=\"1168.5\" y=\"-1513.8\" font-family=\"Helvetica,sans-Serif\" font-size=\"14.00\">value = [1317, 3410]</text>\n</g>\n<!-- 1&#45;&gt;35 -->\n<g id=\"edge35\" class=\"edge\">\n<title>1&#45;&gt;35</title>\n<path fill=\"none\" stroke=\"black\" d=\"M1230.5,-1673.81C1230.5,-1648.13 1230.5,-1612.37 1230.5,-1584.43\"/>\n<polygon fill=\"black\" stroke=\"black\" points=\"1234,-1584.14 1230.5,-1574.14 1227,-1584.14 1234,-1584.14\"/>\n</g>\n<!-- 3 -->\n<g id=\"node4\" class=\"node\">\n<title>3</title>\n<path fill=\"#f0b78e\" stroke=\"black\" d=\"M644,-1407C644,-1407 517,-1407 517,-1407 511,-1407 505,-1401 505,-1395 505,-1395 505,-1351 505,-1351 505,-1345 511,-1339 517,-1339 517,-1339 644,-1339 644,-1339 650,-1339 656,-1345 656,-1351 656,-1351 656,-1395 656,-1395 656,-1401 650,-1407 644,-1407\"/>\n<text text-anchor=\"start\" x=\"513\" y=\"-1391.8\" font-family=\"Helvetica,sans-Serif\" font-size=\"14.00\">educational&#45;num ≤ 8.5</text>\n<text text-anchor=\"start\" x=\"548.5\" y=\"-1376.8\" font-family=\"Helvetica,sans-Serif\" font-size=\"14.00\">gini = 0.42</text>\n<text text-anchor=\"start\" x=\"528\" y=\"-1361.8\" font-family=\"Helvetica,sans-Serif\" font-size=\"14.00\">samples = 10613</text>\n<text text-anchor=\"start\" x=\"518.5\" y=\"-1346.8\" font-family=\"Helvetica,sans-Serif\" font-size=\"14.00\">value = [7426, 3187]</text>\n</g>\n<!-- 2&#45;&gt;3 -->\n<g id=\"edge3\" class=\"edge\">\n<title>2&#45;&gt;3</title>\n<path fill=\"none\" stroke=\"black\" d=\"M923.77,-1509.5C851.37,-1480.92 741.69,-1437.63 665.88,-1407.7\"/>\n<polygon fill=\"black\" stroke=\"black\" points=\"666.93,-1404.36 656.35,-1403.94 664.36,-1410.87 666.93,-1404.36\"/>\n</g>\n<!-- 34 -->\n<g id=\"node35\" class=\"node\">\n<title>34</title>\n<path fill=\"#3c9fe5\" stroke=\"black\" d=\"M1041.5,-1399.5C1041.5,-1399.5 955.5,-1399.5 955.5,-1399.5 949.5,-1399.5 943.5,-1393.5 943.5,-1387.5 943.5,-1387.5 943.5,-1358.5 943.5,-1358.5 943.5,-1352.5 949.5,-1346.5 955.5,-1346.5 955.5,-1346.5 1041.5,-1346.5 1041.5,-1346.5 1047.5,-1346.5 1053.5,-1352.5 1053.5,-1358.5 1053.5,-1358.5 1053.5,-1387.5 1053.5,-1387.5 1053.5,-1393.5 1047.5,-1399.5 1041.5,-1399.5\"/>\n<text text-anchor=\"start\" x=\"966.5\" y=\"-1384.3\" font-family=\"Helvetica,sans-Serif\" font-size=\"14.00\">gini = 0.03</text>\n<text text-anchor=\"start\" x=\"953.5\" y=\"-1369.3\" font-family=\"Helvetica,sans-Serif\" font-size=\"14.00\">samples = 529</text>\n<text text-anchor=\"start\" x=\"951.5\" y=\"-1354.3\" font-family=\"Helvetica,sans-Serif\" font-size=\"14.00\">value = [9, 520]</text>\n</g>\n<!-- 2&#45;&gt;34 -->\n<g id=\"edge34\" class=\"edge\">\n<title>2&#45;&gt;34</title>\n<path fill=\"none\" stroke=\"black\" d=\"M998.5,-1505.61C998.5,-1477.8 998.5,-1438.3 998.5,-1409.83\"/>\n<polygon fill=\"black\" stroke=\"black\" points=\"1002,-1409.51 998.5,-1399.51 995,-1409.51 1002,-1409.51\"/>\n</g>\n<!-- 4 -->\n<g id=\"node5\" class=\"node\">\n<title>4</title>\n<path fill=\"#e89051\" stroke=\"black\" d=\"M264.5,-1239C264.5,-1239 156.5,-1239 156.5,-1239 150.5,-1239 144.5,-1233 144.5,-1227 144.5,-1227 144.5,-1183 144.5,-1183 144.5,-1177 150.5,-1171 156.5,-1171 156.5,-1171 264.5,-1171 264.5,-1171 270.5,-1171 276.5,-1177 276.5,-1183 276.5,-1183 276.5,-1227 276.5,-1227 276.5,-1233 270.5,-1239 264.5,-1239\"/>\n<text text-anchor=\"start\" x=\"178.5\" y=\"-1223.8\" font-family=\"Helvetica,sans-Serif\" font-size=\"14.00\">age ≤ 36.5</text>\n<text text-anchor=\"start\" x=\"178.5\" y=\"-1208.8\" font-family=\"Helvetica,sans-Serif\" font-size=\"14.00\">gini = 0.19</text>\n<text text-anchor=\"start\" x=\"162\" y=\"-1193.8\" font-family=\"Helvetica,sans-Serif\" font-size=\"14.00\">samples = 1818</text>\n<text text-anchor=\"start\" x=\"152.5\" y=\"-1178.8\" font-family=\"Helvetica,sans-Serif\" font-size=\"14.00\">value = [1623, 195]</text>\n</g>\n<!-- 3&#45;&gt;4 -->\n<g id=\"edge4\" class=\"edge\">\n<title>3&#45;&gt;4</title>\n<path fill=\"none\" stroke=\"black\" d=\"M506.51,-1338.81C442.49,-1310.08 350.33,-1268.73 285.9,-1239.83\"/>\n<polygon fill=\"black\" stroke=\"black\" points=\"287.16,-1236.56 276.6,-1235.66 284.29,-1242.94 287.16,-1236.56\"/>\n</g>\n<!-- 9 -->\n<g id=\"node10\" class=\"node\">\n<title>9</title>\n<path fill=\"#f2c29f\" stroke=\"black\" d=\"M638.5,-1239C638.5,-1239 522.5,-1239 522.5,-1239 516.5,-1239 510.5,-1233 510.5,-1227 510.5,-1227 510.5,-1183 510.5,-1183 510.5,-1177 516.5,-1171 522.5,-1171 522.5,-1171 638.5,-1171 638.5,-1171 644.5,-1171 650.5,-1177 650.5,-1183 650.5,-1183 650.5,-1227 650.5,-1227 650.5,-1233 644.5,-1239 638.5,-1239\"/>\n<text text-anchor=\"start\" x=\"548.5\" y=\"-1223.8\" font-family=\"Helvetica,sans-Serif\" font-size=\"14.00\">age ≤ 35.5</text>\n<text text-anchor=\"start\" x=\"548.5\" y=\"-1208.8\" font-family=\"Helvetica,sans-Serif\" font-size=\"14.00\">gini = 0.45</text>\n<text text-anchor=\"start\" x=\"532\" y=\"-1193.8\" font-family=\"Helvetica,sans-Serif\" font-size=\"14.00\">samples = 8795</text>\n<text text-anchor=\"start\" x=\"518.5\" y=\"-1178.8\" font-family=\"Helvetica,sans-Serif\" font-size=\"14.00\">value = [5803, 2992]</text>\n</g>\n<!-- 3&#45;&gt;9 -->\n<g id=\"edge9\" class=\"edge\">\n<title>3&#45;&gt;9</title>\n<path fill=\"none\" stroke=\"black\" d=\"M580.5,-1338.81C580.5,-1313.13 580.5,-1277.37 580.5,-1249.43\"/>\n<polygon fill=\"black\" stroke=\"black\" points=\"584,-1249.14 580.5,-1239.14 577,-1249.14 584,-1249.14\"/>\n</g>\n<!-- 5 -->\n<g id=\"node6\" class=\"node\">\n<title>5</title>\n<path fill=\"#e78946\" stroke=\"black\" d=\"M105,-1063.5C105,-1063.5 12,-1063.5 12,-1063.5 6,-1063.5 0,-1057.5 0,-1051.5 0,-1051.5 0,-1022.5 0,-1022.5 0,-1016.5 6,-1010.5 12,-1010.5 12,-1010.5 105,-1010.5 105,-1010.5 111,-1010.5 117,-1016.5 117,-1022.5 117,-1022.5 117,-1051.5 117,-1051.5 117,-1057.5 111,-1063.5 105,-1063.5\"/>\n<text text-anchor=\"start\" x=\"26.5\" y=\"-1048.3\" font-family=\"Helvetica,sans-Serif\" font-size=\"14.00\">gini = 0.11</text>\n<text text-anchor=\"start\" x=\"13.5\" y=\"-1033.3\" font-family=\"Helvetica,sans-Serif\" font-size=\"14.00\">samples = 505</text>\n<text text-anchor=\"start\" x=\"8\" y=\"-1018.3\" font-family=\"Helvetica,sans-Serif\" font-size=\"14.00\">value = [475, 30]</text>\n</g>\n<!-- 4&#45;&gt;5 -->\n<g id=\"edge5\" class=\"edge\">\n<title>4&#45;&gt;5</title>\n<path fill=\"none\" stroke=\"black\" d=\"M180.11,-1170.81C153.54,-1141.8 115.19,-1099.91 88.69,-1070.97\"/>\n<polygon fill=\"black\" stroke=\"black\" points=\"91.22,-1068.55 81.88,-1063.54 86.05,-1073.27 91.22,-1068.55\"/>\n</g>\n<!-- 6 -->\n<g id=\"node7\" class=\"node\">\n<title>6</title>\n<path fill=\"#e99355\" stroke=\"black\" d=\"M274,-1071C274,-1071 147,-1071 147,-1071 141,-1071 135,-1065 135,-1059 135,-1059 135,-1015 135,-1015 135,-1009 141,-1003 147,-1003 147,-1003 274,-1003 274,-1003 280,-1003 286,-1009 286,-1015 286,-1015 286,-1059 286,-1059 286,-1065 280,-1071 274,-1071\"/>\n<text text-anchor=\"start\" x=\"143\" y=\"-1055.8\" font-family=\"Helvetica,sans-Serif\" font-size=\"14.00\">educational&#45;num ≤ 4.5</text>\n<text text-anchor=\"start\" x=\"178.5\" y=\"-1040.8\" font-family=\"Helvetica,sans-Serif\" font-size=\"14.00\">gini = 0.22</text>\n<text text-anchor=\"start\" x=\"162\" y=\"-1025.8\" font-family=\"Helvetica,sans-Serif\" font-size=\"14.00\">samples = 1313</text>\n<text text-anchor=\"start\" x=\"152.5\" y=\"-1010.8\" font-family=\"Helvetica,sans-Serif\" font-size=\"14.00\">value = [1148, 165]</text>\n</g>\n<!-- 4&#45;&gt;6 -->\n<g id=\"edge6\" class=\"edge\">\n<title>4&#45;&gt;6</title>\n<path fill=\"none\" stroke=\"black\" d=\"M210.5,-1170.81C210.5,-1145.13 210.5,-1109.37 210.5,-1081.43\"/>\n<polygon fill=\"black\" stroke=\"black\" points=\"214,-1081.14 210.5,-1071.14 207,-1081.14 214,-1081.14\"/>\n</g>\n<!-- 7 -->\n<g id=\"node8\" class=\"node\">\n<title>7</title>\n<path fill=\"#e78c4a\" stroke=\"black\" d=\"M118,-895.5C118,-895.5 25,-895.5 25,-895.5 19,-895.5 13,-889.5 13,-883.5 13,-883.5 13,-854.5 13,-854.5 13,-848.5 19,-842.5 25,-842.5 25,-842.5 118,-842.5 118,-842.5 124,-842.5 130,-848.5 130,-854.5 130,-854.5 130,-883.5 130,-883.5 130,-889.5 124,-895.5 118,-895.5\"/>\n<text text-anchor=\"start\" x=\"39.5\" y=\"-880.3\" font-family=\"Helvetica,sans-Serif\" font-size=\"14.00\">gini = 0.15</text>\n<text text-anchor=\"start\" x=\"26.5\" y=\"-865.3\" font-family=\"Helvetica,sans-Serif\" font-size=\"14.00\">samples = 570</text>\n<text text-anchor=\"start\" x=\"21\" y=\"-850.3\" font-family=\"Helvetica,sans-Serif\" font-size=\"14.00\">value = [525, 45]</text>\n</g>\n<!-- 6&#45;&gt;7 -->\n<g id=\"edge7\" class=\"edge\">\n<title>6&#45;&gt;7</title>\n<path fill=\"none\" stroke=\"black\" d=\"M182.71,-1002.81C158.52,-973.92 123.64,-932.26 99.41,-903.34\"/>\n<polygon fill=\"black\" stroke=\"black\" points=\"101.99,-900.96 92.88,-895.54 96.62,-905.45 101.99,-900.96\"/>\n</g>\n<!-- 8 -->\n<g id=\"node9\" class=\"node\">\n<title>8</title>\n<path fill=\"#ea995f\" stroke=\"black\" d=\"M261,-895.5C261,-895.5 160,-895.5 160,-895.5 154,-895.5 148,-889.5 148,-883.5 148,-883.5 148,-854.5 148,-854.5 148,-848.5 154,-842.5 160,-842.5 160,-842.5 261,-842.5 261,-842.5 267,-842.5 273,-848.5 273,-854.5 273,-854.5 273,-883.5 273,-883.5 273,-889.5 267,-895.5 261,-895.5\"/>\n<text text-anchor=\"start\" x=\"178.5\" y=\"-880.3\" font-family=\"Helvetica,sans-Serif\" font-size=\"14.00\">gini = 0.27</text>\n<text text-anchor=\"start\" x=\"165.5\" y=\"-865.3\" font-family=\"Helvetica,sans-Serif\" font-size=\"14.00\">samples = 743</text>\n<text text-anchor=\"start\" x=\"156\" y=\"-850.3\" font-family=\"Helvetica,sans-Serif\" font-size=\"14.00\">value = [623, 120]</text>\n</g>\n<!-- 6&#45;&gt;8 -->\n<g id=\"edge8\" class=\"edge\">\n<title>6&#45;&gt;8</title>\n<path fill=\"none\" stroke=\"black\" d=\"M210.5,-1002.81C210.5,-974.66 210.5,-934.39 210.5,-905.59\"/>\n<polygon fill=\"black\" stroke=\"black\" points=\"214,-905.54 210.5,-895.54 207,-905.54 214,-905.54\"/>\n</g>\n<!-- 10 -->\n<g id=\"node11\" class=\"node\">\n<title>10</title>\n<path fill=\"#eda672\" stroke=\"black\" d=\"M554.5,-1071C554.5,-1071 446.5,-1071 446.5,-1071 440.5,-1071 434.5,-1065 434.5,-1059 434.5,-1059 434.5,-1015 434.5,-1015 434.5,-1009 440.5,-1003 446.5,-1003 446.5,-1003 554.5,-1003 554.5,-1003 560.5,-1003 566.5,-1009 566.5,-1015 566.5,-1015 566.5,-1059 566.5,-1059 566.5,-1065 560.5,-1071 554.5,-1071\"/>\n<text text-anchor=\"start\" x=\"468.5\" y=\"-1055.8\" font-family=\"Helvetica,sans-Serif\" font-size=\"14.00\">age ≤ 27.5</text>\n<text text-anchor=\"start\" x=\"468.5\" y=\"-1040.8\" font-family=\"Helvetica,sans-Serif\" font-size=\"14.00\">gini = 0.35</text>\n<text text-anchor=\"start\" x=\"452\" y=\"-1025.8\" font-family=\"Helvetica,sans-Serif\" font-size=\"14.00\">samples = 2761</text>\n<text text-anchor=\"start\" x=\"442.5\" y=\"-1010.8\" font-family=\"Helvetica,sans-Serif\" font-size=\"14.00\">value = [2140, 621]</text>\n</g>\n<!-- 9&#45;&gt;10 -->\n<g id=\"edge10\" class=\"edge\">\n<title>9&#45;&gt;10</title>\n<path fill=\"none\" stroke=\"black\" d=\"M564.5,-1170.81C551.97,-1144.79 534.44,-1108.43 520.9,-1080.32\"/>\n<polygon fill=\"black\" stroke=\"black\" points=\"523.96,-1078.63 516.47,-1071.14 517.66,-1081.66 523.96,-1078.63\"/>\n</g>\n<!-- 17 -->\n<g id=\"node18\" class=\"node\">\n<title>17</title>\n<path fill=\"#f6d3b9\" stroke=\"black\" d=\"M724.5,-1071C724.5,-1071 596.5,-1071 596.5,-1071 590.5,-1071 584.5,-1065 584.5,-1059 584.5,-1059 584.5,-1015 584.5,-1015 584.5,-1009 590.5,-1003 596.5,-1003 596.5,-1003 724.5,-1003 724.5,-1003 730.5,-1003 736.5,-1009 736.5,-1015 736.5,-1015 736.5,-1059 736.5,-1059 736.5,-1065 730.5,-1071 724.5,-1071\"/>\n<text text-anchor=\"start\" x=\"592.5\" y=\"-1055.8\" font-family=\"Helvetica,sans-Serif\" font-size=\"14.00\">hours&#45;per&#45;week ≤ 34.5</text>\n<text text-anchor=\"start\" x=\"628.5\" y=\"-1040.8\" font-family=\"Helvetica,sans-Serif\" font-size=\"14.00\">gini = 0.48</text>\n<text text-anchor=\"start\" x=\"612\" y=\"-1025.8\" font-family=\"Helvetica,sans-Serif\" font-size=\"14.00\">samples = 6034</text>\n<text text-anchor=\"start\" x=\"598.5\" y=\"-1010.8\" font-family=\"Helvetica,sans-Serif\" font-size=\"14.00\">value = [3663, 2371]</text>\n</g>\n<!-- 9&#45;&gt;17 -->\n<g id=\"edge17\" class=\"edge\">\n<title>9&#45;&gt;17</title>\n<path fill=\"none\" stroke=\"black\" d=\"M596.5,-1170.81C609.03,-1144.79 626.56,-1108.43 640.1,-1080.32\"/>\n<polygon fill=\"black\" stroke=\"black\" points=\"643.34,-1081.66 644.53,-1071.14 637.04,-1078.63 643.34,-1081.66\"/>\n</g>\n<!-- 11 -->\n<g id=\"node12\" class=\"node\">\n<title>11</title>\n<path fill=\"#e99355\" stroke=\"black\" d=\"M396,-895.5C396,-895.5 303,-895.5 303,-895.5 297,-895.5 291,-889.5 291,-883.5 291,-883.5 291,-854.5 291,-854.5 291,-848.5 297,-842.5 303,-842.5 303,-842.5 396,-842.5 396,-842.5 402,-842.5 408,-848.5 408,-854.5 408,-854.5 408,-883.5 408,-883.5 408,-889.5 402,-895.5 396,-895.5\"/>\n<text text-anchor=\"start\" x=\"317.5\" y=\"-880.3\" font-family=\"Helvetica,sans-Serif\" font-size=\"14.00\">gini = 0.22</text>\n<text text-anchor=\"start\" x=\"304.5\" y=\"-865.3\" font-family=\"Helvetica,sans-Serif\" font-size=\"14.00\">samples = 742</text>\n<text text-anchor=\"start\" x=\"299\" y=\"-850.3\" font-family=\"Helvetica,sans-Serif\" font-size=\"14.00\">value = [651, 91]</text>\n</g>\n<!-- 10&#45;&gt;11 -->\n<g id=\"edge11\" class=\"edge\">\n<title>10&#45;&gt;11</title>\n<path fill=\"none\" stroke=\"black\" d=\"M470.31,-1002.81C443.92,-973.8 405.81,-931.91 379.49,-902.97\"/>\n<polygon fill=\"black\" stroke=\"black\" points=\"382.05,-900.58 372.73,-895.54 376.87,-905.29 382.05,-900.58\"/>\n</g>\n<!-- 12 -->\n<g id=\"node13\" class=\"node\">\n<title>12</title>\n<path fill=\"#eeae7f\" stroke=\"black\" d=\"M566.5,-903C566.5,-903 438.5,-903 438.5,-903 432.5,-903 426.5,-897 426.5,-891 426.5,-891 426.5,-847 426.5,-847 426.5,-841 432.5,-835 438.5,-835 438.5,-835 566.5,-835 566.5,-835 572.5,-835 578.5,-841 578.5,-847 578.5,-847 578.5,-891 578.5,-891 578.5,-897 572.5,-903 566.5,-903\"/>\n<text text-anchor=\"start\" x=\"434.5\" y=\"-887.8\" font-family=\"Helvetica,sans-Serif\" font-size=\"14.00\">hours&#45;per&#45;week ≤ 40.5</text>\n<text text-anchor=\"start\" x=\"470.5\" y=\"-872.8\" font-family=\"Helvetica,sans-Serif\" font-size=\"14.00\">gini = 0.39</text>\n<text text-anchor=\"start\" x=\"454\" y=\"-857.8\" font-family=\"Helvetica,sans-Serif\" font-size=\"14.00\">samples = 2019</text>\n<text text-anchor=\"start\" x=\"444.5\" y=\"-842.8\" font-family=\"Helvetica,sans-Serif\" font-size=\"14.00\">value = [1489, 530]</text>\n</g>\n<!-- 10&#45;&gt;12 -->\n<g id=\"edge12\" class=\"edge\">\n<title>10&#45;&gt;12</title>\n<path fill=\"none\" stroke=\"black\" d=\"M500.9,-1002.81C501.21,-977.13 501.64,-941.37 501.98,-913.43\"/>\n<polygon fill=\"black\" stroke=\"black\" points=\"505.48,-913.18 502.1,-903.14 498.48,-913.09 505.48,-913.18\"/>\n</g>\n<!-- 13 -->\n<g id=\"node14\" class=\"node\">\n<title>13</title>\n<path fill=\"#eca36f\" stroke=\"black\" d=\"M408,-736C408,-736 307,-736 307,-736 301,-736 295,-730 295,-724 295,-724 295,-680 295,-680 295,-674 301,-668 307,-668 307,-668 408,-668 408,-668 414,-668 420,-674 420,-680 420,-680 420,-724 420,-724 420,-730 414,-736 408,-736\"/>\n<text text-anchor=\"start\" x=\"304\" y=\"-720.8\" font-family=\"Helvetica,sans-Serif\" font-size=\"14.00\">fnlwgt ≤ 176979.5</text>\n<text text-anchor=\"start\" x=\"325.5\" y=\"-705.8\" font-family=\"Helvetica,sans-Serif\" font-size=\"14.00\">gini = 0.34</text>\n<text text-anchor=\"start\" x=\"309\" y=\"-690.8\" font-family=\"Helvetica,sans-Serif\" font-size=\"14.00\">samples = 1190</text>\n<text text-anchor=\"start\" x=\"303\" y=\"-675.8\" font-family=\"Helvetica,sans-Serif\" font-size=\"14.00\">value = [935, 255]</text>\n</g>\n<!-- 12&#45;&gt;13 -->\n<g id=\"edge13\" class=\"edge\">\n<title>12&#45;&gt;13</title>\n<path fill=\"none\" stroke=\"black\" d=\"M473.16,-834.61C450.09,-808.36 417.85,-771.67 393.27,-743.7\"/>\n<polygon fill=\"black\" stroke=\"black\" points=\"395.78,-741.26 386.55,-736.06 390.52,-745.88 395.78,-741.26\"/>\n</g>\n<!-- 16 -->\n<g id=\"node17\" class=\"node\">\n<title>16</title>\n<path fill=\"#f2c09b\" stroke=\"black\" d=\"M553,-728.5C553,-728.5 452,-728.5 452,-728.5 446,-728.5 440,-722.5 440,-716.5 440,-716.5 440,-687.5 440,-687.5 440,-681.5 446,-675.5 452,-675.5 452,-675.5 553,-675.5 553,-675.5 559,-675.5 565,-681.5 565,-687.5 565,-687.5 565,-716.5 565,-716.5 565,-722.5 559,-728.5 553,-728.5\"/>\n<text text-anchor=\"start\" x=\"470.5\" y=\"-713.3\" font-family=\"Helvetica,sans-Serif\" font-size=\"14.00\">gini = 0.44</text>\n<text text-anchor=\"start\" x=\"457.5\" y=\"-698.3\" font-family=\"Helvetica,sans-Serif\" font-size=\"14.00\">samples = 829</text>\n<text text-anchor=\"start\" x=\"448\" y=\"-683.3\" font-family=\"Helvetica,sans-Serif\" font-size=\"14.00\">value = [554, 275]</text>\n</g>\n<!-- 12&#45;&gt;16 -->\n<g id=\"edge16\" class=\"edge\">\n<title>12&#45;&gt;16</title>\n<path fill=\"none\" stroke=\"black\" d=\"M502.5,-834.61C502.5,-806.8 502.5,-767.3 502.5,-738.83\"/>\n<polygon fill=\"black\" stroke=\"black\" points=\"506,-738.51 502.5,-728.51 499,-738.51 506,-738.51\"/>\n</g>\n<!-- 14 -->\n<g id=\"node15\" class=\"node\">\n<title>14</title>\n<path fill=\"#eb9f68\" stroke=\"black\" d=\"M265,-560.5C265,-560.5 164,-560.5 164,-560.5 158,-560.5 152,-554.5 152,-548.5 152,-548.5 152,-519.5 152,-519.5 152,-513.5 158,-507.5 164,-507.5 164,-507.5 265,-507.5 265,-507.5 271,-507.5 277,-513.5 277,-519.5 277,-519.5 277,-548.5 277,-548.5 277,-554.5 271,-560.5 265,-560.5\"/>\n<text text-anchor=\"start\" x=\"182.5\" y=\"-545.3\" font-family=\"Helvetica,sans-Serif\" font-size=\"14.00\">gini = 0.31</text>\n<text text-anchor=\"start\" x=\"169.5\" y=\"-530.3\" font-family=\"Helvetica,sans-Serif\" font-size=\"14.00\">samples = 582</text>\n<text text-anchor=\"start\" x=\"160\" y=\"-515.3\" font-family=\"Helvetica,sans-Serif\" font-size=\"14.00\">value = [470, 112]</text>\n</g>\n<!-- 13&#45;&gt;14 -->\n<g id=\"edge14\" class=\"edge\">\n<title>13&#45;&gt;14</title>\n<path fill=\"none\" stroke=\"black\" d=\"M328.91,-667.81C304.02,-638.92 268.14,-597.26 243.22,-568.34\"/>\n<polygon fill=\"black\" stroke=\"black\" points=\"245.68,-565.83 236.5,-560.54 240.37,-570.4 245.68,-565.83\"/>\n</g>\n<!-- 15 -->\n<g id=\"node16\" class=\"node\">\n<title>15</title>\n<path fill=\"#eda876\" stroke=\"black\" d=\"M408,-560.5C408,-560.5 307,-560.5 307,-560.5 301,-560.5 295,-554.5 295,-548.5 295,-548.5 295,-519.5 295,-519.5 295,-513.5 301,-507.5 307,-507.5 307,-507.5 408,-507.5 408,-507.5 414,-507.5 420,-513.5 420,-519.5 420,-519.5 420,-548.5 420,-548.5 420,-554.5 414,-560.5 408,-560.5\"/>\n<text text-anchor=\"start\" x=\"325.5\" y=\"-545.3\" font-family=\"Helvetica,sans-Serif\" font-size=\"14.00\">gini = 0.36</text>\n<text text-anchor=\"start\" x=\"312.5\" y=\"-530.3\" font-family=\"Helvetica,sans-Serif\" font-size=\"14.00\">samples = 608</text>\n<text text-anchor=\"start\" x=\"303\" y=\"-515.3\" font-family=\"Helvetica,sans-Serif\" font-size=\"14.00\">value = [465, 143]</text>\n</g>\n<!-- 13&#45;&gt;15 -->\n<g id=\"edge15\" class=\"edge\">\n<title>13&#45;&gt;15</title>\n<path fill=\"none\" stroke=\"black\" d=\"M357.5,-667.81C357.5,-639.66 357.5,-599.39 357.5,-570.59\"/>\n<polygon fill=\"black\" stroke=\"black\" points=\"361,-570.54 357.5,-560.54 354,-570.54 361,-570.54\"/>\n</g>\n<!-- 18 -->\n<g id=\"node19\" class=\"node\">\n<title>18</title>\n<path fill=\"#e99558\" stroke=\"black\" d=\"M705,-895.5C705,-895.5 612,-895.5 612,-895.5 606,-895.5 600,-889.5 600,-883.5 600,-883.5 600,-854.5 600,-854.5 600,-848.5 606,-842.5 612,-842.5 612,-842.5 705,-842.5 705,-842.5 711,-842.5 717,-848.5 717,-854.5 717,-854.5 717,-883.5 717,-883.5 717,-889.5 711,-895.5 705,-895.5\"/>\n<text text-anchor=\"start\" x=\"626.5\" y=\"-880.3\" font-family=\"Helvetica,sans-Serif\" font-size=\"14.00\">gini = 0.23</text>\n<text text-anchor=\"start\" x=\"613.5\" y=\"-865.3\" font-family=\"Helvetica,sans-Serif\" font-size=\"14.00\">samples = 544</text>\n<text text-anchor=\"start\" x=\"608\" y=\"-850.3\" font-family=\"Helvetica,sans-Serif\" font-size=\"14.00\">value = [471, 73]</text>\n</g>\n<!-- 17&#45;&gt;18 -->\n<g id=\"edge18\" class=\"edge\">\n<title>17&#45;&gt;18</title>\n<path fill=\"none\" stroke=\"black\" d=\"M660.1,-1002.81C659.76,-974.66 659.28,-934.39 658.93,-905.59\"/>\n<polygon fill=\"black\" stroke=\"black\" points=\"662.43,-905.49 658.81,-895.54 655.43,-905.58 662.43,-905.49\"/>\n</g>\n<!-- 19 -->\n<g id=\"node20\" class=\"node\">\n<title>19</title>\n<path fill=\"#f8dcc8\" stroke=\"black\" d=\"M874,-903C874,-903 747,-903 747,-903 741,-903 735,-897 735,-891 735,-891 735,-847 735,-847 735,-841 741,-835 747,-835 747,-835 874,-835 874,-835 880,-835 886,-841 886,-847 886,-847 886,-891 886,-891 886,-897 880,-903 874,-903\"/>\n<text text-anchor=\"start\" x=\"743\" y=\"-887.8\" font-family=\"Helvetica,sans-Serif\" font-size=\"14.00\">educational&#45;num ≤ 9.5</text>\n<text text-anchor=\"start\" x=\"778.5\" y=\"-872.8\" font-family=\"Helvetica,sans-Serif\" font-size=\"14.00\">gini = 0.49</text>\n<text text-anchor=\"start\" x=\"762\" y=\"-857.8\" font-family=\"Helvetica,sans-Serif\" font-size=\"14.00\">samples = 5490</text>\n<text text-anchor=\"start\" x=\"748.5\" y=\"-842.8\" font-family=\"Helvetica,sans-Serif\" font-size=\"14.00\">value = [3192, 2298]</text>\n</g>\n<!-- 17&#45;&gt;19 -->\n<g id=\"edge19\" class=\"edge\">\n<title>17&#45;&gt;19</title>\n<path fill=\"none\" stroke=\"black\" d=\"M690.49,-1002.81C714.41,-976.34 748.01,-939.16 773.57,-910.86\"/>\n<polygon fill=\"black\" stroke=\"black\" points=\"776.45,-912.9 780.56,-903.14 771.26,-908.21 776.45,-912.9\"/>\n</g>\n<!-- 20 -->\n<g id=\"node21\" class=\"node\">\n<title>20</title>\n<path fill=\"#f4c9aa\" stroke=\"black\" d=\"M721.5,-736C721.5,-736 605.5,-736 605.5,-736 599.5,-736 593.5,-730 593.5,-724 593.5,-724 593.5,-680 593.5,-680 593.5,-674 599.5,-668 605.5,-668 605.5,-668 721.5,-668 721.5,-668 727.5,-668 733.5,-674 733.5,-680 733.5,-680 733.5,-724 733.5,-724 733.5,-730 727.5,-736 721.5,-736\"/>\n<text text-anchor=\"start\" x=\"616.5\" y=\"-720.8\" font-family=\"Helvetica,sans-Serif\" font-size=\"14.00\">workclass ≤ 5.5</text>\n<text text-anchor=\"start\" x=\"631.5\" y=\"-705.8\" font-family=\"Helvetica,sans-Serif\" font-size=\"14.00\">gini = 0.46</text>\n<text text-anchor=\"start\" x=\"615\" y=\"-690.8\" font-family=\"Helvetica,sans-Serif\" font-size=\"14.00\">samples = 3051</text>\n<text text-anchor=\"start\" x=\"601.5\" y=\"-675.8\" font-family=\"Helvetica,sans-Serif\" font-size=\"14.00\">value = [1943, 1108]</text>\n</g>\n<!-- 19&#45;&gt;20 -->\n<g id=\"edge20\" class=\"edge\">\n<title>19&#45;&gt;20</title>\n<path fill=\"none\" stroke=\"black\" d=\"M780.75,-834.61C757.36,-808.36 724.68,-771.67 699.76,-743.7\"/>\n<polygon fill=\"black\" stroke=\"black\" points=\"702.22,-741.2 692.95,-736.06 696.99,-745.85 702.22,-741.2\"/>\n</g>\n<!-- 27 -->\n<g id=\"node28\" class=\"node\">\n<title>27</title>\n<path fill=\"#fef9f6\" stroke=\"black\" d=\"M879.5,-736C879.5,-736 763.5,-736 763.5,-736 757.5,-736 751.5,-730 751.5,-724 751.5,-724 751.5,-680 751.5,-680 751.5,-674 757.5,-668 763.5,-668 763.5,-668 879.5,-668 879.5,-668 885.5,-668 891.5,-674 891.5,-680 891.5,-680 891.5,-724 891.5,-724 891.5,-730 885.5,-736 879.5,-736\"/>\n<text text-anchor=\"start\" x=\"768\" y=\"-720.8\" font-family=\"Helvetica,sans-Serif\" font-size=\"14.00\">fnlwgt ≤ 118783.5</text>\n<text text-anchor=\"start\" x=\"793.5\" y=\"-705.8\" font-family=\"Helvetica,sans-Serif\" font-size=\"14.00\">gini = 0.5</text>\n<text text-anchor=\"start\" x=\"773\" y=\"-690.8\" font-family=\"Helvetica,sans-Serif\" font-size=\"14.00\">samples = 2439</text>\n<text text-anchor=\"start\" x=\"759.5\" y=\"-675.8\" font-family=\"Helvetica,sans-Serif\" font-size=\"14.00\">value = [1249, 1190]</text>\n</g>\n<!-- 19&#45;&gt;27 -->\n<g id=\"edge27\" class=\"edge\">\n<title>19&#45;&gt;27</title>\n<path fill=\"none\" stroke=\"black\" d=\"M812.73,-834.61C814.42,-809.14 816.78,-773.86 818.62,-746.23\"/>\n<polygon fill=\"black\" stroke=\"black\" points=\"822.12,-746.27 819.3,-736.06 815.14,-745.8 822.12,-746.27\"/>\n</g>\n<!-- 21 -->\n<g id=\"node22\" class=\"node\">\n<title>21</title>\n<path fill=\"#f5cfb4\" stroke=\"black\" d=\"M578.5,-568C578.5,-568 450.5,-568 450.5,-568 444.5,-568 438.5,-562 438.5,-556 438.5,-556 438.5,-512 438.5,-512 438.5,-506 444.5,-500 450.5,-500 450.5,-500 578.5,-500 578.5,-500 584.5,-500 590.5,-506 590.5,-512 590.5,-512 590.5,-556 590.5,-556 590.5,-562 584.5,-568 578.5,-568\"/>\n<text text-anchor=\"start\" x=\"446.5\" y=\"-552.8\" font-family=\"Helvetica,sans-Serif\" font-size=\"14.00\">hours&#45;per&#45;week ≤ 40.5</text>\n<text text-anchor=\"start\" x=\"482.5\" y=\"-537.8\" font-family=\"Helvetica,sans-Serif\" font-size=\"14.00\">gini = 0.47</text>\n<text text-anchor=\"start\" x=\"466\" y=\"-522.8\" font-family=\"Helvetica,sans-Serif\" font-size=\"14.00\">samples = 2551</text>\n<text text-anchor=\"start\" x=\"456.5\" y=\"-507.8\" font-family=\"Helvetica,sans-Serif\" font-size=\"14.00\">value = [1574, 977]</text>\n</g>\n<!-- 20&#45;&gt;21 -->\n<g id=\"edge21\" class=\"edge\">\n<title>20&#45;&gt;21</title>\n<path fill=\"none\" stroke=\"black\" d=\"M633.71,-667.81C609.95,-641.34 576.58,-604.16 551.18,-575.86\"/>\n<polygon fill=\"black\" stroke=\"black\" points=\"553.53,-573.24 544.24,-568.14 548.32,-577.92 553.53,-573.24\"/>\n</g>\n<!-- 26 -->\n<g id=\"node27\" class=\"node\">\n<title>26</title>\n<path fill=\"#eeae7f\" stroke=\"black\" d=\"M722,-560.5C722,-560.5 621,-560.5 621,-560.5 615,-560.5 609,-554.5 609,-548.5 609,-548.5 609,-519.5 609,-519.5 609,-513.5 615,-507.5 621,-507.5 621,-507.5 722,-507.5 722,-507.5 728,-507.5 734,-513.5 734,-519.5 734,-519.5 734,-548.5 734,-548.5 734,-554.5 728,-560.5 722,-560.5\"/>\n<text text-anchor=\"start\" x=\"639.5\" y=\"-545.3\" font-family=\"Helvetica,sans-Serif\" font-size=\"14.00\">gini = 0.39</text>\n<text text-anchor=\"start\" x=\"626.5\" y=\"-530.3\" font-family=\"Helvetica,sans-Serif\" font-size=\"14.00\">samples = 500</text>\n<text text-anchor=\"start\" x=\"617\" y=\"-515.3\" font-family=\"Helvetica,sans-Serif\" font-size=\"14.00\">value = [369, 131]</text>\n</g>\n<!-- 20&#45;&gt;26 -->\n<g id=\"edge26\" class=\"edge\">\n<title>20&#45;&gt;26</title>\n<path fill=\"none\" stroke=\"black\" d=\"M665.1,-667.81C666.46,-639.66 668.4,-599.39 669.79,-570.59\"/>\n<polygon fill=\"black\" stroke=\"black\" points=\"673.28,-570.69 670.27,-560.54 666.29,-570.36 673.28,-570.69\"/>\n</g>\n<!-- 22 -->\n<g id=\"node23\" class=\"node\">\n<title>22</title>\n<path fill=\"#f2c2a0\" stroke=\"black\" d=\"M495.5,-400C495.5,-400 387.5,-400 387.5,-400 381.5,-400 375.5,-394 375.5,-388 375.5,-388 375.5,-344 375.5,-344 375.5,-338 381.5,-332 387.5,-332 387.5,-332 495.5,-332 495.5,-332 501.5,-332 507.5,-338 507.5,-344 507.5,-344 507.5,-388 507.5,-388 507.5,-394 501.5,-400 495.5,-400\"/>\n<text text-anchor=\"start\" x=\"409.5\" y=\"-384.8\" font-family=\"Helvetica,sans-Serif\" font-size=\"14.00\">age ≤ 48.5</text>\n<text text-anchor=\"start\" x=\"409.5\" y=\"-369.8\" font-family=\"Helvetica,sans-Serif\" font-size=\"14.00\">gini = 0.45</text>\n<text text-anchor=\"start\" x=\"393\" y=\"-354.8\" font-family=\"Helvetica,sans-Serif\" font-size=\"14.00\">samples = 1622</text>\n<text text-anchor=\"start\" x=\"383.5\" y=\"-339.8\" font-family=\"Helvetica,sans-Serif\" font-size=\"14.00\">value = [1068, 554]</text>\n</g>\n<!-- 21&#45;&gt;22 -->\n<g id=\"edge22\" class=\"edge\">\n<title>21&#45;&gt;22</title>\n<path fill=\"none\" stroke=\"black\" d=\"M499.9,-499.81C488.46,-473.79 472.47,-437.43 460.11,-409.32\"/>\n<polygon fill=\"black\" stroke=\"black\" points=\"463.3,-407.88 456.07,-400.14 456.89,-410.7 463.3,-407.88\"/>\n</g>\n<!-- 25 -->\n<g id=\"node26\" class=\"node\">\n<title>25</title>\n<path fill=\"#fbeadf\" stroke=\"black\" d=\"M639,-392.5C639,-392.5 538,-392.5 538,-392.5 532,-392.5 526,-386.5 526,-380.5 526,-380.5 526,-351.5 526,-351.5 526,-345.5 532,-339.5 538,-339.5 538,-339.5 639,-339.5 639,-339.5 645,-339.5 651,-345.5 651,-351.5 651,-351.5 651,-380.5 651,-380.5 651,-386.5 645,-392.5 639,-392.5\"/>\n<text text-anchor=\"start\" x=\"560.5\" y=\"-377.3\" font-family=\"Helvetica,sans-Serif\" font-size=\"14.00\">gini = 0.5</text>\n<text text-anchor=\"start\" x=\"543.5\" y=\"-362.3\" font-family=\"Helvetica,sans-Serif\" font-size=\"14.00\">samples = 929</text>\n<text text-anchor=\"start\" x=\"534\" y=\"-347.3\" font-family=\"Helvetica,sans-Serif\" font-size=\"14.00\">value = [506, 423]</text>\n</g>\n<!-- 21&#45;&gt;25 -->\n<g id=\"edge25\" class=\"edge\">\n<title>21&#45;&gt;25</title>\n<path fill=\"none\" stroke=\"black\" d=\"M529.3,-499.81C541.95,-471.41 560.11,-430.68 572.97,-401.83\"/>\n<polygon fill=\"black\" stroke=\"black\" points=\"576.24,-403.09 577.12,-392.54 569.85,-400.24 576.24,-403.09\"/>\n</g>\n<!-- 23 -->\n<g id=\"node24\" class=\"node\">\n<title>23</title>\n<path fill=\"#f1b991\" stroke=\"black\" d=\"M421,-224.5C421,-224.5 320,-224.5 320,-224.5 314,-224.5 308,-218.5 308,-212.5 308,-212.5 308,-183.5 308,-183.5 308,-177.5 314,-171.5 320,-171.5 320,-171.5 421,-171.5 421,-171.5 427,-171.5 433,-177.5 433,-183.5 433,-183.5 433,-212.5 433,-212.5 433,-218.5 427,-224.5 421,-224.5\"/>\n<text text-anchor=\"start\" x=\"338.5\" y=\"-209.3\" font-family=\"Helvetica,sans-Serif\" font-size=\"14.00\">gini = 0.43</text>\n<text text-anchor=\"start\" x=\"325.5\" y=\"-194.3\" font-family=\"Helvetica,sans-Serif\" font-size=\"14.00\">samples = 849</text>\n<text text-anchor=\"start\" x=\"316\" y=\"-179.3\" font-family=\"Helvetica,sans-Serif\" font-size=\"14.00\">value = [588, 261]</text>\n</g>\n<!-- 22&#45;&gt;23 -->\n<g id=\"edge23\" class=\"edge\">\n<title>22&#45;&gt;23</title>\n<path fill=\"none\" stroke=\"black\" d=\"M427.3,-331.81C415.16,-303.41 397.74,-262.68 385.4,-233.83\"/>\n<polygon fill=\"black\" stroke=\"black\" points=\"388.57,-232.35 381.42,-224.54 382.14,-235.11 388.57,-232.35\"/>\n</g>\n<!-- 24 -->\n<g id=\"node25\" class=\"node\">\n<title>24</title>\n<path fill=\"#f5ceb2\" stroke=\"black\" d=\"M564,-224.5C564,-224.5 463,-224.5 463,-224.5 457,-224.5 451,-218.5 451,-212.5 451,-212.5 451,-183.5 451,-183.5 451,-177.5 457,-171.5 463,-171.5 463,-171.5 564,-171.5 564,-171.5 570,-171.5 576,-177.5 576,-183.5 576,-183.5 576,-212.5 576,-212.5 576,-218.5 570,-224.5 564,-224.5\"/>\n<text text-anchor=\"start\" x=\"481.5\" y=\"-209.3\" font-family=\"Helvetica,sans-Serif\" font-size=\"14.00\">gini = 0.47</text>\n<text text-anchor=\"start\" x=\"468.5\" y=\"-194.3\" font-family=\"Helvetica,sans-Serif\" font-size=\"14.00\">samples = 773</text>\n<text text-anchor=\"start\" x=\"459\" y=\"-179.3\" font-family=\"Helvetica,sans-Serif\" font-size=\"14.00\">value = [480, 293]</text>\n</g>\n<!-- 22&#45;&gt;24 -->\n<g id=\"edge24\" class=\"edge\">\n<title>22&#45;&gt;24</title>\n<path fill=\"none\" stroke=\"black\" d=\"M455.9,-331.81C468.21,-303.41 485.88,-262.68 498.39,-233.83\"/>\n<polygon fill=\"black\" stroke=\"black\" points=\"501.66,-235.1 502.42,-224.54 495.23,-232.32 501.66,-235.1\"/>\n</g>\n<!-- 28 -->\n<g id=\"node29\" class=\"node\">\n<title>28</title>\n<path fill=\"#f7d8c2\" stroke=\"black\" d=\"M865,-560.5C865,-560.5 764,-560.5 764,-560.5 758,-560.5 752,-554.5 752,-548.5 752,-548.5 752,-519.5 752,-519.5 752,-513.5 758,-507.5 764,-507.5 764,-507.5 865,-507.5 865,-507.5 871,-507.5 877,-513.5 877,-519.5 877,-519.5 877,-548.5 877,-548.5 877,-554.5 871,-560.5 865,-560.5\"/>\n<text text-anchor=\"start\" x=\"782.5\" y=\"-545.3\" font-family=\"Helvetica,sans-Serif\" font-size=\"14.00\">gini = 0.48</text>\n<text text-anchor=\"start\" x=\"769.5\" y=\"-530.3\" font-family=\"Helvetica,sans-Serif\" font-size=\"14.00\">samples = 707</text>\n<text text-anchor=\"start\" x=\"760\" y=\"-515.3\" font-family=\"Helvetica,sans-Serif\" font-size=\"14.00\">value = [418, 289]</text>\n</g>\n<!-- 27&#45;&gt;28 -->\n<g id=\"edge28\" class=\"edge\">\n<title>27&#45;&gt;28</title>\n<path fill=\"none\" stroke=\"black\" d=\"M820.1,-667.81C818.91,-639.66 817.22,-599.39 816,-570.59\"/>\n<polygon fill=\"black\" stroke=\"black\" points=\"819.5,-570.38 815.58,-560.54 812.5,-570.67 819.5,-570.38\"/>\n</g>\n<!-- 29 -->\n<g id=\"node30\" class=\"node\">\n<title>29</title>\n<path fill=\"#f0f7fd\" stroke=\"black\" d=\"M1008,-568C1008,-568 907,-568 907,-568 901,-568 895,-562 895,-556 895,-556 895,-512 895,-512 895,-506 901,-500 907,-500 907,-500 1008,-500 1008,-500 1014,-500 1020,-506 1020,-512 1020,-512 1020,-556 1020,-556 1020,-562 1014,-568 1008,-568\"/>\n<text text-anchor=\"start\" x=\"907.5\" y=\"-552.8\" font-family=\"Helvetica,sans-Serif\" font-size=\"14.00\">occupation ≤ 9.0</text>\n<text text-anchor=\"start\" x=\"929.5\" y=\"-537.8\" font-family=\"Helvetica,sans-Serif\" font-size=\"14.00\">gini = 0.5</text>\n<text text-anchor=\"start\" x=\"909\" y=\"-522.8\" font-family=\"Helvetica,sans-Serif\" font-size=\"14.00\">samples = 1732</text>\n<text text-anchor=\"start\" x=\"903\" y=\"-507.8\" font-family=\"Helvetica,sans-Serif\" font-size=\"14.00\">value = [831, 901]</text>\n</g>\n<!-- 27&#45;&gt;29 -->\n<g id=\"edge29\" class=\"edge\">\n<title>27&#45;&gt;29</title>\n<path fill=\"none\" stroke=\"black\" d=\"M848.69,-667.81C870.28,-641.46 900.58,-604.48 923.72,-576.23\"/>\n<polygon fill=\"black\" stroke=\"black\" points=\"926.72,-578.09 930.35,-568.14 921.31,-573.65 926.72,-578.09\"/>\n</g>\n<!-- 30 -->\n<g id=\"node31\" class=\"node\">\n<title>30</title>\n<path fill=\"#fdf7f3\" stroke=\"black\" d=\"M865,-400C865,-400 764,-400 764,-400 758,-400 752,-394 752,-388 752,-388 752,-344 752,-344 752,-338 758,-332 764,-332 764,-332 865,-332 865,-332 871,-332 877,-338 877,-344 877,-344 877,-388 877,-388 877,-394 871,-400 865,-400\"/>\n<text text-anchor=\"start\" x=\"761\" y=\"-384.8\" font-family=\"Helvetica,sans-Serif\" font-size=\"14.00\">fnlwgt ≤ 203484.0</text>\n<text text-anchor=\"start\" x=\"786.5\" y=\"-369.8\" font-family=\"Helvetica,sans-Serif\" font-size=\"14.00\">gini = 0.5</text>\n<text text-anchor=\"start\" x=\"766\" y=\"-354.8\" font-family=\"Helvetica,sans-Serif\" font-size=\"14.00\">samples = 1085</text>\n<text text-anchor=\"start\" x=\"760\" y=\"-339.8\" font-family=\"Helvetica,sans-Serif\" font-size=\"14.00\">value = [560, 525]</text>\n</g>\n<!-- 29&#45;&gt;30 -->\n<g id=\"edge30\" class=\"edge\">\n<title>29&#45;&gt;30</title>\n<path fill=\"none\" stroke=\"black\" d=\"M928.91,-499.81C906.11,-473.34 874.08,-436.16 849.7,-407.86\"/>\n<polygon fill=\"black\" stroke=\"black\" points=\"852.22,-405.43 843.04,-400.14 846.92,-410 852.22,-405.43\"/>\n</g>\n<!-- 33 -->\n<g id=\"node34\" class=\"node\">\n<title>33</title>\n<path fill=\"#c8e4f8\" stroke=\"black\" d=\"M1008,-392.5C1008,-392.5 907,-392.5 907,-392.5 901,-392.5 895,-386.5 895,-380.5 895,-380.5 895,-351.5 895,-351.5 895,-345.5 901,-339.5 907,-339.5 907,-339.5 1008,-339.5 1008,-339.5 1014,-339.5 1020,-345.5 1020,-351.5 1020,-351.5 1020,-380.5 1020,-380.5 1020,-386.5 1014,-392.5 1008,-392.5\"/>\n<text text-anchor=\"start\" x=\"925.5\" y=\"-377.3\" font-family=\"Helvetica,sans-Serif\" font-size=\"14.00\">gini = 0.49</text>\n<text text-anchor=\"start\" x=\"912.5\" y=\"-362.3\" font-family=\"Helvetica,sans-Serif\" font-size=\"14.00\">samples = 647</text>\n<text text-anchor=\"start\" x=\"903\" y=\"-347.3\" font-family=\"Helvetica,sans-Serif\" font-size=\"14.00\">value = [271, 376]</text>\n</g>\n<!-- 29&#45;&gt;33 -->\n<g id=\"edge33\" class=\"edge\">\n<title>29&#45;&gt;33</title>\n<path fill=\"none\" stroke=\"black\" d=\"M957.5,-499.81C957.5,-471.66 957.5,-431.39 957.5,-402.59\"/>\n<polygon fill=\"black\" stroke=\"black\" points=\"961,-402.54 957.5,-392.54 954,-402.54 961,-402.54\"/>\n</g>\n<!-- 31 -->\n<g id=\"node32\" class=\"node\">\n<title>31</title>\n<path fill=\"#fbeade\" stroke=\"black\" d=\"M823,-224.5C823,-224.5 722,-224.5 722,-224.5 716,-224.5 710,-218.5 710,-212.5 710,-212.5 710,-183.5 710,-183.5 710,-177.5 716,-171.5 722,-171.5 722,-171.5 823,-171.5 823,-171.5 829,-171.5 835,-177.5 835,-183.5 835,-183.5 835,-212.5 835,-212.5 835,-218.5 829,-224.5 823,-224.5\"/>\n<text text-anchor=\"start\" x=\"744.5\" y=\"-209.3\" font-family=\"Helvetica,sans-Serif\" font-size=\"14.00\">gini = 0.5</text>\n<text text-anchor=\"start\" x=\"727.5\" y=\"-194.3\" font-family=\"Helvetica,sans-Serif\" font-size=\"14.00\">samples = 579</text>\n<text text-anchor=\"start\" x=\"718\" y=\"-179.3\" font-family=\"Helvetica,sans-Serif\" font-size=\"14.00\">value = [316, 263]</text>\n</g>\n<!-- 30&#45;&gt;31 -->\n<g id=\"edge31\" class=\"edge\">\n<title>30&#45;&gt;31</title>\n<path fill=\"none\" stroke=\"black\" d=\"M806.1,-331.81C798.98,-303.66 788.79,-263.39 781.5,-234.59\"/>\n<polygon fill=\"black\" stroke=\"black\" points=\"784.81,-233.37 778.96,-224.54 778.02,-235.09 784.81,-233.37\"/>\n</g>\n<!-- 32 -->\n<g id=\"node33\" class=\"node\">\n<title>32</title>\n<path fill=\"#f1f8fd\" stroke=\"black\" d=\"M966,-224.5C966,-224.5 865,-224.5 865,-224.5 859,-224.5 853,-218.5 853,-212.5 853,-212.5 853,-183.5 853,-183.5 853,-177.5 859,-171.5 865,-171.5 865,-171.5 966,-171.5 966,-171.5 972,-171.5 978,-177.5 978,-183.5 978,-183.5 978,-212.5 978,-212.5 978,-218.5 972,-224.5 966,-224.5\"/>\n<text text-anchor=\"start\" x=\"887.5\" y=\"-209.3\" font-family=\"Helvetica,sans-Serif\" font-size=\"14.00\">gini = 0.5</text>\n<text text-anchor=\"start\" x=\"870.5\" y=\"-194.3\" font-family=\"Helvetica,sans-Serif\" font-size=\"14.00\">samples = 506</text>\n<text text-anchor=\"start\" x=\"861\" y=\"-179.3\" font-family=\"Helvetica,sans-Serif\" font-size=\"14.00\">value = [244, 262]</text>\n</g>\n<!-- 30&#45;&gt;32 -->\n<g id=\"edge32\" class=\"edge\">\n<title>30&#45;&gt;32</title>\n<path fill=\"none\" stroke=\"black\" d=\"M834.7,-331.81C852.12,-303.17 877.18,-261.97 894.76,-233.08\"/>\n<polygon fill=\"black\" stroke=\"black\" points=\"897.76,-234.9 899.96,-224.54 891.78,-231.26 897.76,-234.9\"/>\n</g>\n<!-- 36 -->\n<g id=\"node37\" class=\"node\">\n<title>36</title>\n<path fill=\"#9acdf2\" stroke=\"black\" d=\"M1252.5,-1407C1252.5,-1407 1124.5,-1407 1124.5,-1407 1118.5,-1407 1112.5,-1401 1112.5,-1395 1112.5,-1395 1112.5,-1351 1112.5,-1351 1112.5,-1345 1118.5,-1339 1124.5,-1339 1124.5,-1339 1252.5,-1339 1252.5,-1339 1258.5,-1339 1264.5,-1345 1264.5,-1351 1264.5,-1351 1264.5,-1395 1264.5,-1395 1264.5,-1401 1258.5,-1407 1252.5,-1407\"/>\n<text text-anchor=\"start\" x=\"1120.5\" y=\"-1391.8\" font-family=\"Helvetica,sans-Serif\" font-size=\"14.00\">hours&#45;per&#45;week ≤ 41.5</text>\n<text text-anchor=\"start\" x=\"1156.5\" y=\"-1376.8\" font-family=\"Helvetica,sans-Serif\" font-size=\"14.00\">gini = 0.44</text>\n<text text-anchor=\"start\" x=\"1140\" y=\"-1361.8\" font-family=\"Helvetica,sans-Serif\" font-size=\"14.00\">samples = 3999</text>\n<text text-anchor=\"start\" x=\"1126.5\" y=\"-1346.8\" font-family=\"Helvetica,sans-Serif\" font-size=\"14.00\">value = [1315, 2684]</text>\n</g>\n<!-- 35&#45;&gt;36 -->\n<g id=\"edge36\" class=\"edge\">\n<title>35&#45;&gt;36</title>\n<path fill=\"none\" stroke=\"black\" d=\"M1222,-1505.61C1215.49,-1480.03 1206.46,-1444.55 1199.41,-1416.87\"/>\n<polygon fill=\"black\" stroke=\"black\" points=\"1202.77,-1415.89 1196.91,-1407.06 1195.99,-1417.61 1202.77,-1415.89\"/>\n</g>\n<!-- 47 -->\n<g id=\"node48\" class=\"node\">\n<title>47</title>\n<path fill=\"#3a9de5\" stroke=\"black\" d=\"M1380.5,-1399.5C1380.5,-1399.5 1294.5,-1399.5 1294.5,-1399.5 1288.5,-1399.5 1282.5,-1393.5 1282.5,-1387.5 1282.5,-1387.5 1282.5,-1358.5 1282.5,-1358.5 1282.5,-1352.5 1288.5,-1346.5 1294.5,-1346.5 1294.5,-1346.5 1380.5,-1346.5 1380.5,-1346.5 1386.5,-1346.5 1392.5,-1352.5 1392.5,-1358.5 1392.5,-1358.5 1392.5,-1387.5 1392.5,-1387.5 1392.5,-1393.5 1386.5,-1399.5 1380.5,-1399.5\"/>\n<text text-anchor=\"start\" x=\"1305.5\" y=\"-1384.3\" font-family=\"Helvetica,sans-Serif\" font-size=\"14.00\">gini = 0.01</text>\n<text text-anchor=\"start\" x=\"1292.5\" y=\"-1369.3\" font-family=\"Helvetica,sans-Serif\" font-size=\"14.00\">samples = 728</text>\n<text text-anchor=\"start\" x=\"1290.5\" y=\"-1354.3\" font-family=\"Helvetica,sans-Serif\" font-size=\"14.00\">value = [2, 726]</text>\n</g>\n<!-- 35&#45;&gt;47 -->\n<g id=\"edge47\" class=\"edge\">\n<title>35&#45;&gt;47</title>\n<path fill=\"none\" stroke=\"black\" d=\"M1252.15,-1505.61C1270.58,-1477.19 1296.94,-1436.55 1315.47,-1407.97\"/>\n<polygon fill=\"black\" stroke=\"black\" points=\"1318.45,-1409.81 1320.96,-1399.51 1312.58,-1406 1318.45,-1409.81\"/>\n</g>\n<!-- 37 -->\n<g id=\"node38\" class=\"node\">\n<title>37</title>\n<path fill=\"#bbddf6\" stroke=\"black\" d=\"M1160.5,-1239C1160.5,-1239 1052.5,-1239 1052.5,-1239 1046.5,-1239 1040.5,-1233 1040.5,-1227 1040.5,-1227 1040.5,-1183 1040.5,-1183 1040.5,-1177 1046.5,-1171 1052.5,-1171 1052.5,-1171 1160.5,-1171 1160.5,-1171 1166.5,-1171 1172.5,-1177 1172.5,-1183 1172.5,-1183 1172.5,-1227 1172.5,-1227 1172.5,-1233 1166.5,-1239 1160.5,-1239\"/>\n<text text-anchor=\"start\" x=\"1074.5\" y=\"-1223.8\" font-family=\"Helvetica,sans-Serif\" font-size=\"14.00\">age ≤ 36.5</text>\n<text text-anchor=\"start\" x=\"1074.5\" y=\"-1208.8\" font-family=\"Helvetica,sans-Serif\" font-size=\"14.00\">gini = 0.48</text>\n<text text-anchor=\"start\" x=\"1058\" y=\"-1193.8\" font-family=\"Helvetica,sans-Serif\" font-size=\"14.00\">samples = 1992</text>\n<text text-anchor=\"start\" x=\"1048.5\" y=\"-1178.8\" font-family=\"Helvetica,sans-Serif\" font-size=\"14.00\">value = [788, 1204]</text>\n</g>\n<!-- 36&#45;&gt;37 -->\n<g id=\"edge37\" class=\"edge\">\n<title>36&#45;&gt;37</title>\n<path fill=\"none\" stroke=\"black\" d=\"M1172.1,-1338.81C1159.25,-1312.79 1141.29,-1276.43 1127.41,-1248.32\"/>\n<polygon fill=\"black\" stroke=\"black\" points=\"1130.44,-1246.55 1122.87,-1239.14 1124.16,-1249.65 1130.44,-1246.55\"/>\n</g>\n<!-- 42 -->\n<g id=\"node43\" class=\"node\">\n<title>42</title>\n<path fill=\"#80c0ee\" stroke=\"black\" d=\"M1336.5,-1239C1336.5,-1239 1202.5,-1239 1202.5,-1239 1196.5,-1239 1190.5,-1233 1190.5,-1227 1190.5,-1227 1190.5,-1183 1190.5,-1183 1190.5,-1177 1196.5,-1171 1202.5,-1171 1202.5,-1171 1336.5,-1171 1336.5,-1171 1342.5,-1171 1348.5,-1177 1348.5,-1183 1348.5,-1183 1348.5,-1227 1348.5,-1227 1348.5,-1233 1342.5,-1239 1336.5,-1239\"/>\n<text text-anchor=\"start\" x=\"1198.5\" y=\"-1223.8\" font-family=\"Helvetica,sans-Serif\" font-size=\"14.00\">educational&#45;num ≤ 13.5</text>\n<text text-anchor=\"start\" x=\"1237.5\" y=\"-1208.8\" font-family=\"Helvetica,sans-Serif\" font-size=\"14.00\">gini = 0.39</text>\n<text text-anchor=\"start\" x=\"1221\" y=\"-1193.8\" font-family=\"Helvetica,sans-Serif\" font-size=\"14.00\">samples = 2007</text>\n<text text-anchor=\"start\" x=\"1211.5\" y=\"-1178.8\" font-family=\"Helvetica,sans-Serif\" font-size=\"14.00\">value = [527, 1480]</text>\n</g>\n<!-- 36&#45;&gt;42 -->\n<g id=\"edge42\" class=\"edge\">\n<title>36&#45;&gt;42</title>\n<path fill=\"none\" stroke=\"black\" d=\"M1204.7,-1338.81C1217.39,-1312.79 1235.14,-1276.43 1248.85,-1248.32\"/>\n<polygon fill=\"black\" stroke=\"black\" points=\"1252.09,-1249.66 1253.33,-1239.14 1245.8,-1246.59 1252.09,-1249.66\"/>\n</g>\n<!-- 38 -->\n<g id=\"node39\" class=\"node\">\n<title>38</title>\n<path fill=\"#fef9f5\" stroke=\"black\" d=\"M1022,-1063.5C1022,-1063.5 921,-1063.5 921,-1063.5 915,-1063.5 909,-1057.5 909,-1051.5 909,-1051.5 909,-1022.5 909,-1022.5 909,-1016.5 915,-1010.5 921,-1010.5 921,-1010.5 1022,-1010.5 1022,-1010.5 1028,-1010.5 1034,-1016.5 1034,-1022.5 1034,-1022.5 1034,-1051.5 1034,-1051.5 1034,-1057.5 1028,-1063.5 1022,-1063.5\"/>\n<text text-anchor=\"start\" x=\"943.5\" y=\"-1048.3\" font-family=\"Helvetica,sans-Serif\" font-size=\"14.00\">gini = 0.5</text>\n<text text-anchor=\"start\" x=\"926.5\" y=\"-1033.3\" font-family=\"Helvetica,sans-Serif\" font-size=\"14.00\">samples = 527</text>\n<text text-anchor=\"start\" x=\"917\" y=\"-1018.3\" font-family=\"Helvetica,sans-Serif\" font-size=\"14.00\">value = [270, 257]</text>\n</g>\n<!-- 37&#45;&gt;38 -->\n<g id=\"edge38\" class=\"edge\">\n<title>37&#45;&gt;38</title>\n<path fill=\"none\" stroke=\"black\" d=\"M1079.51,-1170.81C1056.01,-1141.92 1022.14,-1100.26 998.61,-1071.34\"/>\n<polygon fill=\"black\" stroke=\"black\" points=\"1001.29,-1069.09 992.27,-1063.54 995.86,-1073.5 1001.29,-1069.09\"/>\n</g>\n<!-- 39 -->\n<g id=\"node40\" class=\"node\">\n<title>39</title>\n<path fill=\"#a5d3f3\" stroke=\"black\" d=\"M1165,-1071C1165,-1071 1064,-1071 1064,-1071 1058,-1071 1052,-1065 1052,-1059 1052,-1059 1052,-1015 1052,-1015 1052,-1009 1058,-1003 1064,-1003 1064,-1003 1165,-1003 1165,-1003 1171,-1003 1177,-1009 1177,-1015 1177,-1015 1177,-1059 1177,-1059 1177,-1065 1171,-1071 1165,-1071\"/>\n<text text-anchor=\"start\" x=\"1064.5\" y=\"-1055.8\" font-family=\"Helvetica,sans-Serif\" font-size=\"14.00\">occupation ≤ 9.0</text>\n<text text-anchor=\"start\" x=\"1082.5\" y=\"-1040.8\" font-family=\"Helvetica,sans-Serif\" font-size=\"14.00\">gini = 0.46</text>\n<text text-anchor=\"start\" x=\"1066\" y=\"-1025.8\" font-family=\"Helvetica,sans-Serif\" font-size=\"14.00\">samples = 1465</text>\n<text text-anchor=\"start\" x=\"1060\" y=\"-1010.8\" font-family=\"Helvetica,sans-Serif\" font-size=\"14.00\">value = [518, 947]</text>\n</g>\n<!-- 37&#45;&gt;39 -->\n<g id=\"edge39\" class=\"edge\">\n<title>37&#45;&gt;39</title>\n<path fill=\"none\" stroke=\"black\" d=\"M1108.1,-1170.81C1109.34,-1145.13 1111.06,-1109.37 1112.41,-1081.43\"/>\n<polygon fill=\"black\" stroke=\"black\" points=\"1115.92,-1081.29 1112.9,-1071.14 1108.93,-1080.96 1115.92,-1081.29\"/>\n</g>\n<!-- 40 -->\n<g id=\"node41\" class=\"node\">\n<title>40</title>\n<path fill=\"#cce6f8\" stroke=\"black\" d=\"M1024,-895.5C1024,-895.5 923,-895.5 923,-895.5 917,-895.5 911,-889.5 911,-883.5 911,-883.5 911,-854.5 911,-854.5 911,-848.5 917,-842.5 923,-842.5 923,-842.5 1024,-842.5 1024,-842.5 1030,-842.5 1036,-848.5 1036,-854.5 1036,-854.5 1036,-883.5 1036,-883.5 1036,-889.5 1030,-895.5 1024,-895.5\"/>\n<text text-anchor=\"start\" x=\"941.5\" y=\"-880.3\" font-family=\"Helvetica,sans-Serif\" font-size=\"14.00\">gini = 0.49</text>\n<text text-anchor=\"start\" x=\"928.5\" y=\"-865.3\" font-family=\"Helvetica,sans-Serif\" font-size=\"14.00\">samples = 693</text>\n<text text-anchor=\"start\" x=\"919\" y=\"-850.3\" font-family=\"Helvetica,sans-Serif\" font-size=\"14.00\">value = [295, 398]</text>\n</g>\n<!-- 39&#45;&gt;40 -->\n<g id=\"edge40\" class=\"edge\">\n<title>39&#45;&gt;40</title>\n<path fill=\"none\" stroke=\"black\" d=\"M1086.31,-1002.81C1061.77,-973.92 1026.39,-932.26 1001.82,-903.34\"/>\n<polygon fill=\"black\" stroke=\"black\" points=\"1004.33,-900.89 995.19,-895.54 999,-905.42 1004.33,-900.89\"/>\n</g>\n<!-- 41 -->\n<g id=\"node42\" class=\"node\">\n<title>41</title>\n<path fill=\"#89c5f0\" stroke=\"black\" d=\"M1167,-895.5C1167,-895.5 1066,-895.5 1066,-895.5 1060,-895.5 1054,-889.5 1054,-883.5 1054,-883.5 1054,-854.5 1054,-854.5 1054,-848.5 1060,-842.5 1066,-842.5 1066,-842.5 1167,-842.5 1167,-842.5 1173,-842.5 1179,-848.5 1179,-854.5 1179,-854.5 1179,-883.5 1179,-883.5 1179,-889.5 1173,-895.5 1167,-895.5\"/>\n<text text-anchor=\"start\" x=\"1084.5\" y=\"-880.3\" font-family=\"Helvetica,sans-Serif\" font-size=\"14.00\">gini = 0.41</text>\n<text text-anchor=\"start\" x=\"1071.5\" y=\"-865.3\" font-family=\"Helvetica,sans-Serif\" font-size=\"14.00\">samples = 772</text>\n<text text-anchor=\"start\" x=\"1062\" y=\"-850.3\" font-family=\"Helvetica,sans-Serif\" font-size=\"14.00\">value = [223, 549]</text>\n</g>\n<!-- 39&#45;&gt;41 -->\n<g id=\"edge41\" class=\"edge\">\n<title>39&#45;&gt;41</title>\n<path fill=\"none\" stroke=\"black\" d=\"M1114.9,-1002.81C1115.24,-974.66 1115.72,-934.39 1116.07,-905.59\"/>\n<polygon fill=\"black\" stroke=\"black\" points=\"1119.57,-905.58 1116.19,-895.54 1112.57,-905.49 1119.57,-905.58\"/>\n</g>\n<!-- 43 -->\n<g id=\"node44\" class=\"node\">\n<title>43</title>\n<path fill=\"#90c8f0\" stroke=\"black\" d=\"M1317,-1071C1317,-1071 1216,-1071 1216,-1071 1210,-1071 1204,-1065 1204,-1059 1204,-1059 1204,-1015 1204,-1015 1204,-1009 1210,-1003 1216,-1003 1216,-1003 1317,-1003 1317,-1003 1323,-1003 1329,-1009 1329,-1015 1329,-1015 1329,-1059 1329,-1059 1329,-1065 1323,-1071 1317,-1071\"/>\n<text text-anchor=\"start\" x=\"1216.5\" y=\"-1055.8\" font-family=\"Helvetica,sans-Serif\" font-size=\"14.00\">occupation ≤ 4.5</text>\n<text text-anchor=\"start\" x=\"1234.5\" y=\"-1040.8\" font-family=\"Helvetica,sans-Serif\" font-size=\"14.00\">gini = 0.42</text>\n<text text-anchor=\"start\" x=\"1218\" y=\"-1025.8\" font-family=\"Helvetica,sans-Serif\" font-size=\"14.00\">samples = 1234</text>\n<text text-anchor=\"start\" x=\"1212\" y=\"-1010.8\" font-family=\"Helvetica,sans-Serif\" font-size=\"14.00\">value = [377, 857]</text>\n</g>\n<!-- 42&#45;&gt;43 -->\n<g id=\"edge43\" class=\"edge\">\n<title>42&#45;&gt;43</title>\n<path fill=\"none\" stroke=\"black\" d=\"M1268.9,-1170.81C1268.44,-1145.13 1267.79,-1109.37 1267.28,-1081.43\"/>\n<polygon fill=\"black\" stroke=\"black\" points=\"1270.78,-1081.07 1267.1,-1071.14 1263.78,-1081.2 1270.78,-1081.07\"/>\n</g>\n<!-- 46 -->\n<g id=\"node47\" class=\"node\">\n<title>46</title>\n<path fill=\"#69b5eb\" stroke=\"black\" d=\"M1460,-1063.5C1460,-1063.5 1359,-1063.5 1359,-1063.5 1353,-1063.5 1347,-1057.5 1347,-1051.5 1347,-1051.5 1347,-1022.5 1347,-1022.5 1347,-1016.5 1353,-1010.5 1359,-1010.5 1359,-1010.5 1460,-1010.5 1460,-1010.5 1466,-1010.5 1472,-1016.5 1472,-1022.5 1472,-1022.5 1472,-1051.5 1472,-1051.5 1472,-1057.5 1466,-1063.5 1460,-1063.5\"/>\n<text text-anchor=\"start\" x=\"1377.5\" y=\"-1048.3\" font-family=\"Helvetica,sans-Serif\" font-size=\"14.00\">gini = 0.31</text>\n<text text-anchor=\"start\" x=\"1364.5\" y=\"-1033.3\" font-family=\"Helvetica,sans-Serif\" font-size=\"14.00\">samples = 773</text>\n<text text-anchor=\"start\" x=\"1355\" y=\"-1018.3\" font-family=\"Helvetica,sans-Serif\" font-size=\"14.00\">value = [150, 623]</text>\n</g>\n<!-- 42&#45;&gt;46 -->\n<g id=\"edge46\" class=\"edge\">\n<title>42&#45;&gt;46</title>\n<path fill=\"none\" stroke=\"black\" d=\"M1297.49,-1170.81C1321.86,-1141.92 1356.99,-1100.26 1381.39,-1071.34\"/>\n<polygon fill=\"black\" stroke=\"black\" points=\"1384.19,-1073.44 1387.96,-1063.54 1378.84,-1068.92 1384.19,-1073.44\"/>\n</g>\n<!-- 44 -->\n<g id=\"node45\" class=\"node\">\n<title>44</title>\n<path fill=\"#7bbeee\" stroke=\"black\" d=\"M1313,-895.5C1313,-895.5 1212,-895.5 1212,-895.5 1206,-895.5 1200,-889.5 1200,-883.5 1200,-883.5 1200,-854.5 1200,-854.5 1200,-848.5 1206,-842.5 1212,-842.5 1212,-842.5 1313,-842.5 1313,-842.5 1319,-842.5 1325,-848.5 1325,-854.5 1325,-854.5 1325,-883.5 1325,-883.5 1325,-889.5 1319,-895.5 1313,-895.5\"/>\n<text text-anchor=\"start\" x=\"1230.5\" y=\"-880.3\" font-family=\"Helvetica,sans-Serif\" font-size=\"14.00\">gini = 0.38</text>\n<text text-anchor=\"start\" x=\"1217.5\" y=\"-865.3\" font-family=\"Helvetica,sans-Serif\" font-size=\"14.00\">samples = 561</text>\n<text text-anchor=\"start\" x=\"1208\" y=\"-850.3\" font-family=\"Helvetica,sans-Serif\" font-size=\"14.00\">value = [141, 420]</text>\n</g>\n<!-- 43&#45;&gt;44 -->\n<g id=\"edge44\" class=\"edge\">\n<title>43&#45;&gt;44</title>\n<path fill=\"none\" stroke=\"black\" d=\"M1265.7,-1002.81C1265.02,-974.66 1264.05,-934.39 1263.36,-905.59\"/>\n<polygon fill=\"black\" stroke=\"black\" points=\"1266.86,-905.45 1263.12,-895.54 1259.86,-905.62 1266.86,-905.45\"/>\n</g>\n<!-- 45 -->\n<g id=\"node46\" class=\"node\">\n<title>45</title>\n<path fill=\"#a4d2f3\" stroke=\"black\" d=\"M1456,-895.5C1456,-895.5 1355,-895.5 1355,-895.5 1349,-895.5 1343,-889.5 1343,-883.5 1343,-883.5 1343,-854.5 1343,-854.5 1343,-848.5 1349,-842.5 1355,-842.5 1355,-842.5 1456,-842.5 1456,-842.5 1462,-842.5 1468,-848.5 1468,-854.5 1468,-854.5 1468,-883.5 1468,-883.5 1468,-889.5 1462,-895.5 1456,-895.5\"/>\n<text text-anchor=\"start\" x=\"1373.5\" y=\"-880.3\" font-family=\"Helvetica,sans-Serif\" font-size=\"14.00\">gini = 0.46</text>\n<text text-anchor=\"start\" x=\"1360.5\" y=\"-865.3\" font-family=\"Helvetica,sans-Serif\" font-size=\"14.00\">samples = 673</text>\n<text text-anchor=\"start\" x=\"1351\" y=\"-850.3\" font-family=\"Helvetica,sans-Serif\" font-size=\"14.00\">value = [236, 437]</text>\n</g>\n<!-- 43&#45;&gt;45 -->\n<g id=\"edge45\" class=\"edge\">\n<title>43&#45;&gt;45</title>\n<path fill=\"none\" stroke=\"black\" d=\"M1294.29,-1002.81C1318.48,-973.92 1353.36,-932.26 1377.59,-903.34\"/>\n<polygon fill=\"black\" stroke=\"black\" points=\"1380.38,-905.45 1384.12,-895.54 1375.01,-900.96 1380.38,-905.45\"/>\n</g>\n<!-- 49 -->\n<g id=\"node50\" class=\"node\">\n<title>49</title>\n<path fill=\"#e78c4a\" stroke=\"black\" d=\"M2525,-1574C2525,-1574 2402,-1574 2402,-1574 2396,-1574 2390,-1568 2390,-1562 2390,-1562 2390,-1518 2390,-1518 2390,-1512 2396,-1506 2402,-1506 2402,-1506 2525,-1506 2525,-1506 2531,-1506 2537,-1512 2537,-1518 2537,-1518 2537,-1562 2537,-1562 2537,-1568 2531,-1574 2525,-1574\"/>\n<text text-anchor=\"start\" x=\"2412\" y=\"-1558.8\" font-family=\"Helvetica,sans-Serif\" font-size=\"14.00\">relationship ≤ 4.5</text>\n<text text-anchor=\"start\" x=\"2431.5\" y=\"-1543.8\" font-family=\"Helvetica,sans-Serif\" font-size=\"14.00\">gini = 0.15</text>\n<text text-anchor=\"start\" x=\"2411\" y=\"-1528.8\" font-family=\"Helvetica,sans-Serif\" font-size=\"14.00\">samples = 22702</text>\n<text text-anchor=\"start\" x=\"2398\" y=\"-1513.8\" font-family=\"Helvetica,sans-Serif\" font-size=\"14.00\">value = [20910, 1792]</text>\n</g>\n<!-- 48&#45;&gt;49 -->\n<g id=\"edge49\" class=\"edge\">\n<title>48&#45;&gt;49</title>\n<path fill=\"none\" stroke=\"black\" d=\"M2463.5,-1673.81C2463.5,-1648.13 2463.5,-1612.37 2463.5,-1584.43\"/>\n<polygon fill=\"black\" stroke=\"black\" points=\"2467,-1584.14 2463.5,-1574.14 2460,-1584.14 2467,-1584.14\"/>\n</g>\n<!-- 108 -->\n<g id=\"node109\" class=\"node\">\n<title>108</title>\n<path fill=\"#3fa0e6\" stroke=\"black\" d=\"M2660,-1566.5C2660,-1566.5 2567,-1566.5 2567,-1566.5 2561,-1566.5 2555,-1560.5 2555,-1554.5 2555,-1554.5 2555,-1525.5 2555,-1525.5 2555,-1519.5 2561,-1513.5 2567,-1513.5 2567,-1513.5 2660,-1513.5 2660,-1513.5 2666,-1513.5 2672,-1519.5 2672,-1525.5 2672,-1525.5 2672,-1554.5 2672,-1554.5 2672,-1560.5 2666,-1566.5 2660,-1566.5\"/>\n<text text-anchor=\"start\" x=\"2581.5\" y=\"-1551.3\" font-family=\"Helvetica,sans-Serif\" font-size=\"14.00\">gini = 0.05</text>\n<text text-anchor=\"start\" x=\"2568.5\" y=\"-1536.3\" font-family=\"Helvetica,sans-Serif\" font-size=\"14.00\">samples = 502</text>\n<text text-anchor=\"start\" x=\"2563\" y=\"-1521.3\" font-family=\"Helvetica,sans-Serif\" font-size=\"14.00\">value = [14, 488]</text>\n</g>\n<!-- 48&#45;&gt;108 -->\n<g id=\"edge108\" class=\"edge\">\n<title>48&#45;&gt;108</title>\n<path fill=\"none\" stroke=\"black\" d=\"M2493.49,-1673.81C2519.71,-1644.8 2557.56,-1602.91 2583.71,-1573.97\"/>\n<polygon fill=\"black\" stroke=\"black\" points=\"2586.32,-1576.3 2590.43,-1566.54 2581.12,-1571.61 2586.32,-1576.3\"/>\n</g>\n<!-- 50 -->\n<g id=\"node51\" class=\"node\">\n<title>50</title>\n<path fill=\"#e68843\" stroke=\"black\" d=\"M2530.5,-1407C2530.5,-1407 2396.5,-1407 2396.5,-1407 2390.5,-1407 2384.5,-1401 2384.5,-1395 2384.5,-1395 2384.5,-1351 2384.5,-1351 2384.5,-1345 2390.5,-1339 2396.5,-1339 2396.5,-1339 2530.5,-1339 2530.5,-1339 2536.5,-1339 2542.5,-1345 2542.5,-1351 2542.5,-1351 2542.5,-1395 2542.5,-1395 2542.5,-1401 2536.5,-1407 2530.5,-1407\"/>\n<text text-anchor=\"start\" x=\"2392.5\" y=\"-1391.8\" font-family=\"Helvetica,sans-Serif\" font-size=\"14.00\">educational&#45;num ≤ 12.5</text>\n<text text-anchor=\"start\" x=\"2435.5\" y=\"-1376.8\" font-family=\"Helvetica,sans-Serif\" font-size=\"14.00\">gini = 0.1</text>\n<text text-anchor=\"start\" x=\"2411\" y=\"-1361.8\" font-family=\"Helvetica,sans-Serif\" font-size=\"14.00\">samples = 20994</text>\n<text text-anchor=\"start\" x=\"2398\" y=\"-1346.8\" font-family=\"Helvetica,sans-Serif\" font-size=\"14.00\">value = [19942, 1052]</text>\n</g>\n<!-- 49&#45;&gt;50 -->\n<g id=\"edge50\" class=\"edge\">\n<title>49&#45;&gt;50</title>\n<path fill=\"none\" stroke=\"black\" d=\"M2463.5,-1505.61C2463.5,-1480.14 2463.5,-1444.86 2463.5,-1417.23\"/>\n<polygon fill=\"black\" stroke=\"black\" points=\"2467,-1417.06 2463.5,-1407.06 2460,-1417.06 2467,-1417.06\"/>\n</g>\n<!-- 103 -->\n<g id=\"node104\" class=\"node\">\n<title>103</title>\n<path fill=\"#f9e1d0\" stroke=\"black\" d=\"M3079.5,-1407C3079.5,-1407 2945.5,-1407 2945.5,-1407 2939.5,-1407 2933.5,-1401 2933.5,-1395 2933.5,-1395 2933.5,-1351 2933.5,-1351 2933.5,-1345 2939.5,-1339 2945.5,-1339 2945.5,-1339 3079.5,-1339 3079.5,-1339 3085.5,-1339 3091.5,-1345 3091.5,-1351 3091.5,-1351 3091.5,-1395 3091.5,-1395 3091.5,-1401 3085.5,-1407 3079.5,-1407\"/>\n<text text-anchor=\"start\" x=\"2941.5\" y=\"-1391.8\" font-family=\"Helvetica,sans-Serif\" font-size=\"14.00\">educational&#45;num ≤ 10.5</text>\n<text text-anchor=\"start\" x=\"2980.5\" y=\"-1376.8\" font-family=\"Helvetica,sans-Serif\" font-size=\"14.00\">gini = 0.49</text>\n<text text-anchor=\"start\" x=\"2964\" y=\"-1361.8\" font-family=\"Helvetica,sans-Serif\" font-size=\"14.00\">samples = 1708</text>\n<text text-anchor=\"start\" x=\"2958\" y=\"-1346.8\" font-family=\"Helvetica,sans-Serif\" font-size=\"14.00\">value = [968, 740]</text>\n</g>\n<!-- 49&#45;&gt;103 -->\n<g id=\"edge103\" class=\"edge\">\n<title>49&#45;&gt;103</title>\n<path fill=\"none\" stroke=\"black\" d=\"M2537.12,-1508.94C2539.94,-1507.93 2542.74,-1506.94 2545.5,-1506 2675.26,-1461.69 2828.77,-1420.38 2923.39,-1396.15\"/>\n<polygon fill=\"black\" stroke=\"black\" points=\"2924.39,-1399.51 2933.21,-1393.64 2922.65,-1392.73 2924.39,-1399.51\"/>\n</g>\n<!-- 51 -->\n<g id=\"node52\" class=\"node\">\n<title>51</title>\n<path fill=\"#e6843e\" stroke=\"black\" d=\"M2319.5,-1239C2319.5,-1239 2203.5,-1239 2203.5,-1239 2197.5,-1239 2191.5,-1233 2191.5,-1227 2191.5,-1227 2191.5,-1183 2191.5,-1183 2191.5,-1177 2197.5,-1171 2203.5,-1171 2203.5,-1171 2319.5,-1171 2319.5,-1171 2325.5,-1171 2331.5,-1177 2331.5,-1183 2331.5,-1183 2331.5,-1227 2331.5,-1227 2331.5,-1233 2325.5,-1239 2319.5,-1239\"/>\n<text text-anchor=\"start\" x=\"2229.5\" y=\"-1223.8\" font-family=\"Helvetica,sans-Serif\" font-size=\"14.00\">age ≤ 33.5</text>\n<text text-anchor=\"start\" x=\"2229.5\" y=\"-1208.8\" font-family=\"Helvetica,sans-Serif\" font-size=\"14.00\">gini = 0.05</text>\n<text text-anchor=\"start\" x=\"2209\" y=\"-1193.8\" font-family=\"Helvetica,sans-Serif\" font-size=\"14.00\">samples = 16853</text>\n<text text-anchor=\"start\" x=\"2199.5\" y=\"-1178.8\" font-family=\"Helvetica,sans-Serif\" font-size=\"14.00\">value = [16437, 416]</text>\n</g>\n<!-- 50&#45;&gt;51 -->\n<g id=\"edge51\" class=\"edge\">\n<title>50&#45;&gt;51</title>\n<path fill=\"none\" stroke=\"black\" d=\"M2423.11,-1338.81C2390.49,-1312 2344.49,-1274.2 2309.91,-1245.78\"/>\n<polygon fill=\"black\" stroke=\"black\" points=\"2311.77,-1242.78 2301.82,-1239.14 2307.33,-1248.19 2311.77,-1242.78\"/>\n</g>\n<!-- 92 -->\n<g id=\"node93\" class=\"node\">\n<title>92</title>\n<path fill=\"#ea985d\" stroke=\"black\" d=\"M2683.5,-1239C2683.5,-1239 2575.5,-1239 2575.5,-1239 2569.5,-1239 2563.5,-1233 2563.5,-1227 2563.5,-1227 2563.5,-1183 2563.5,-1183 2563.5,-1177 2569.5,-1171 2575.5,-1171 2575.5,-1171 2683.5,-1171 2683.5,-1171 2689.5,-1171 2695.5,-1177 2695.5,-1183 2695.5,-1183 2695.5,-1227 2695.5,-1227 2695.5,-1233 2689.5,-1239 2683.5,-1239\"/>\n<text text-anchor=\"start\" x=\"2597.5\" y=\"-1223.8\" font-family=\"Helvetica,sans-Serif\" font-size=\"14.00\">age ≤ 31.5</text>\n<text text-anchor=\"start\" x=\"2597.5\" y=\"-1208.8\" font-family=\"Helvetica,sans-Serif\" font-size=\"14.00\">gini = 0.26</text>\n<text text-anchor=\"start\" x=\"2581\" y=\"-1193.8\" font-family=\"Helvetica,sans-Serif\" font-size=\"14.00\">samples = 4141</text>\n<text text-anchor=\"start\" x=\"2571.5\" y=\"-1178.8\" font-family=\"Helvetica,sans-Serif\" font-size=\"14.00\">value = [3505, 636]</text>\n</g>\n<!-- 50&#45;&gt;92 -->\n<g id=\"edge92\" class=\"edge\">\n<title>50&#45;&gt;92</title>\n<path fill=\"none\" stroke=\"black\" d=\"M2496.69,-1338.81C2523.27,-1312.23 2560.66,-1274.84 2589,-1246.5\"/>\n<polygon fill=\"black\" stroke=\"black\" points=\"2591.77,-1248.68 2596.36,-1239.14 2586.82,-1243.73 2591.77,-1248.68\"/>\n</g>\n<!-- 52 -->\n<g id=\"node53\" class=\"node\">\n<title>52</title>\n<path fill=\"#e5823b\" stroke=\"black\" d=\"M1863.5,-1071C1863.5,-1071 1735.5,-1071 1735.5,-1071 1729.5,-1071 1723.5,-1065 1723.5,-1059 1723.5,-1059 1723.5,-1015 1723.5,-1015 1723.5,-1009 1729.5,-1003 1735.5,-1003 1735.5,-1003 1863.5,-1003 1863.5,-1003 1869.5,-1003 1875.5,-1009 1875.5,-1015 1875.5,-1015 1875.5,-1059 1875.5,-1059 1875.5,-1065 1869.5,-1071 1863.5,-1071\"/>\n<text text-anchor=\"start\" x=\"1731.5\" y=\"-1055.8\" font-family=\"Helvetica,sans-Serif\" font-size=\"14.00\">hours&#45;per&#45;week ≤ 44.5</text>\n<text text-anchor=\"start\" x=\"1767.5\" y=\"-1040.8\" font-family=\"Helvetica,sans-Serif\" font-size=\"14.00\">gini = 0.02</text>\n<text text-anchor=\"start\" x=\"1751\" y=\"-1025.8\" font-family=\"Helvetica,sans-Serif\" font-size=\"14.00\">samples = 9719</text>\n<text text-anchor=\"start\" x=\"1745\" y=\"-1010.8\" font-family=\"Helvetica,sans-Serif\" font-size=\"14.00\">value = [9635, 84]</text>\n</g>\n<!-- 51&#45;&gt;52 -->\n<g id=\"edge52\" class=\"edge\">\n<title>51&#45;&gt;52</title>\n<path fill=\"none\" stroke=\"black\" d=\"M2191.33,-1178.79C2109.25,-1149.3 1973.4,-1100.48 1885.17,-1068.78\"/>\n<polygon fill=\"black\" stroke=\"black\" points=\"1886.32,-1065.47 1875.72,-1065.39 1883.95,-1072.06 1886.32,-1065.47\"/>\n</g>\n<!-- 73 -->\n<g id=\"node74\" class=\"node\">\n<title>73</title>\n<path fill=\"#e68743\" stroke=\"black\" d=\"M2325.5,-1071C2325.5,-1071 2197.5,-1071 2197.5,-1071 2191.5,-1071 2185.5,-1065 2185.5,-1059 2185.5,-1059 2185.5,-1015 2185.5,-1015 2185.5,-1009 2191.5,-1003 2197.5,-1003 2197.5,-1003 2325.5,-1003 2325.5,-1003 2331.5,-1003 2337.5,-1009 2337.5,-1015 2337.5,-1015 2337.5,-1059 2337.5,-1059 2337.5,-1065 2331.5,-1071 2325.5,-1071\"/>\n<text text-anchor=\"start\" x=\"2193.5\" y=\"-1055.8\" font-family=\"Helvetica,sans-Serif\" font-size=\"14.00\">hours&#45;per&#45;week ≤ 41.5</text>\n<text text-anchor=\"start\" x=\"2229.5\" y=\"-1040.8\" font-family=\"Helvetica,sans-Serif\" font-size=\"14.00\">gini = 0.09</text>\n<text text-anchor=\"start\" x=\"2213\" y=\"-1025.8\" font-family=\"Helvetica,sans-Serif\" font-size=\"14.00\">samples = 7134</text>\n<text text-anchor=\"start\" x=\"2203.5\" y=\"-1010.8\" font-family=\"Helvetica,sans-Serif\" font-size=\"14.00\">value = [6802, 332]</text>\n</g>\n<!-- 51&#45;&gt;73 -->\n<g id=\"edge73\" class=\"edge\">\n<title>51&#45;&gt;73</title>\n<path fill=\"none\" stroke=\"black\" d=\"M2261.5,-1170.81C2261.5,-1145.13 2261.5,-1109.37 2261.5,-1081.43\"/>\n<polygon fill=\"black\" stroke=\"black\" points=\"2265,-1081.14 2261.5,-1071.14 2258,-1081.14 2265,-1081.14\"/>\n</g>\n<!-- 53 -->\n<g id=\"node54\" class=\"node\">\n<title>53</title>\n<path fill=\"#e5823a\" stroke=\"black\" d=\"M1601,-903C1601,-903 1500,-903 1500,-903 1494,-903 1488,-897 1488,-891 1488,-891 1488,-847 1488,-847 1488,-841 1494,-835 1500,-835 1500,-835 1601,-835 1601,-835 1607,-835 1613,-841 1613,-847 1613,-847 1613,-891 1613,-891 1613,-897 1607,-903 1601,-903\"/>\n<text text-anchor=\"start\" x=\"1518.5\" y=\"-887.8\" font-family=\"Helvetica,sans-Serif\" font-size=\"14.00\">age ≤ 28.5</text>\n<text text-anchor=\"start\" x=\"1518.5\" y=\"-872.8\" font-family=\"Helvetica,sans-Serif\" font-size=\"14.00\">gini = 0.01</text>\n<text text-anchor=\"start\" x=\"1502\" y=\"-857.8\" font-family=\"Helvetica,sans-Serif\" font-size=\"14.00\">samples = 8390</text>\n<text text-anchor=\"start\" x=\"1496\" y=\"-842.8\" font-family=\"Helvetica,sans-Serif\" font-size=\"14.00\">value = [8350, 40]</text>\n</g>\n<!-- 52&#45;&gt;53 -->\n<g id=\"edge53\" class=\"edge\">\n<title>52&#45;&gt;53</title>\n<path fill=\"none\" stroke=\"black\" d=\"M1749.71,-1002.81C1709,-975.66 1651.37,-937.24 1608.56,-908.71\"/>\n<polygon fill=\"black\" stroke=\"black\" points=\"1610.47,-905.77 1600.2,-903.14 1606.58,-911.6 1610.47,-905.77\"/>\n</g>\n<!-- 70 -->\n<g id=\"node71\" class=\"node\">\n<title>70</title>\n<path fill=\"#e68540\" stroke=\"black\" d=\"M1850,-903C1850,-903 1749,-903 1749,-903 1743,-903 1737,-897 1737,-891 1737,-891 1737,-847 1737,-847 1737,-841 1743,-835 1749,-835 1749,-835 1850,-835 1850,-835 1856,-835 1862,-841 1862,-847 1862,-847 1862,-891 1862,-891 1862,-897 1856,-903 1850,-903\"/>\n<text text-anchor=\"start\" x=\"1767.5\" y=\"-887.8\" font-family=\"Helvetica,sans-Serif\" font-size=\"14.00\">age ≤ 24.5</text>\n<text text-anchor=\"start\" x=\"1767.5\" y=\"-872.8\" font-family=\"Helvetica,sans-Serif\" font-size=\"14.00\">gini = 0.06</text>\n<text text-anchor=\"start\" x=\"1751\" y=\"-857.8\" font-family=\"Helvetica,sans-Serif\" font-size=\"14.00\">samples = 1329</text>\n<text text-anchor=\"start\" x=\"1745\" y=\"-842.8\" font-family=\"Helvetica,sans-Serif\" font-size=\"14.00\">value = [1285, 44]</text>\n</g>\n<!-- 52&#45;&gt;70 -->\n<g id=\"edge70\" class=\"edge\">\n<title>52&#45;&gt;70</title>\n<path fill=\"none\" stroke=\"black\" d=\"M1799.5,-1002.81C1799.5,-977.13 1799.5,-941.37 1799.5,-913.43\"/>\n<polygon fill=\"black\" stroke=\"black\" points=\"1803,-913.14 1799.5,-903.14 1796,-913.14 1803,-913.14\"/>\n</g>\n<!-- 54 -->\n<g id=\"node55\" class=\"node\">\n<title>54</title>\n<path fill=\"#e5813a\" stroke=\"black\" d=\"M1441,-736C1441,-736 1340,-736 1340,-736 1334,-736 1328,-730 1328,-724 1328,-724 1328,-680 1328,-680 1328,-674 1334,-668 1340,-668 1340,-668 1441,-668 1441,-668 1447,-668 1453,-674 1453,-680 1453,-680 1453,-724 1453,-724 1453,-730 1447,-736 1441,-736\"/>\n<text text-anchor=\"start\" x=\"1358.5\" y=\"-720.8\" font-family=\"Helvetica,sans-Serif\" font-size=\"14.00\">age ≤ 21.5</text>\n<text text-anchor=\"start\" x=\"1358.5\" y=\"-705.8\" font-family=\"Helvetica,sans-Serif\" font-size=\"14.00\">gini = 0.01</text>\n<text text-anchor=\"start\" x=\"1342\" y=\"-690.8\" font-family=\"Helvetica,sans-Serif\" font-size=\"14.00\">samples = 6746</text>\n<text text-anchor=\"start\" x=\"1336\" y=\"-675.8\" font-family=\"Helvetica,sans-Serif\" font-size=\"14.00\">value = [6727, 19]</text>\n</g>\n<!-- 53&#45;&gt;54 -->\n<g id=\"edge54\" class=\"edge\">\n<title>53&#45;&gt;54</title>\n<path fill=\"none\" stroke=\"black\" d=\"M1518.12,-834.61C1492.56,-808.24 1456.79,-771.36 1429.62,-743.34\"/>\n<polygon fill=\"black\" stroke=\"black\" points=\"1432.03,-740.8 1422.56,-736.06 1427.01,-745.67 1432.03,-740.8\"/>\n</g>\n<!-- 67 -->\n<g id=\"node68\" class=\"node\">\n<title>67</title>\n<path fill=\"#e5833c\" stroke=\"black\" d=\"M1614,-736C1614,-736 1487,-736 1487,-736 1481,-736 1475,-730 1475,-724 1475,-724 1475,-680 1475,-680 1475,-674 1481,-668 1487,-668 1487,-668 1614,-668 1614,-668 1620,-668 1626,-674 1626,-680 1626,-680 1626,-724 1626,-724 1626,-730 1620,-736 1614,-736\"/>\n<text text-anchor=\"start\" x=\"1483\" y=\"-720.8\" font-family=\"Helvetica,sans-Serif\" font-size=\"14.00\">educational&#45;num ≤ 9.5</text>\n<text text-anchor=\"start\" x=\"1518.5\" y=\"-705.8\" font-family=\"Helvetica,sans-Serif\" font-size=\"14.00\">gini = 0.03</text>\n<text text-anchor=\"start\" x=\"1502\" y=\"-690.8\" font-family=\"Helvetica,sans-Serif\" font-size=\"14.00\">samples = 1644</text>\n<text text-anchor=\"start\" x=\"1496\" y=\"-675.8\" font-family=\"Helvetica,sans-Serif\" font-size=\"14.00\">value = [1623, 21]</text>\n</g>\n<!-- 53&#45;&gt;67 -->\n<g id=\"edge67\" class=\"edge\">\n<title>53&#45;&gt;67</title>\n<path fill=\"none\" stroke=\"black\" d=\"M1550.5,-834.61C1550.5,-809.14 1550.5,-773.86 1550.5,-746.23\"/>\n<polygon fill=\"black\" stroke=\"black\" points=\"1554,-746.06 1550.5,-736.06 1547,-746.06 1554,-746.06\"/>\n</g>\n<!-- 55 -->\n<g id=\"node56\" class=\"node\">\n<title>55</title>\n<path fill=\"#e58139\" stroke=\"black\" d=\"M1278,-568C1278,-568 1179,-568 1179,-568 1173,-568 1167,-562 1167,-556 1167,-556 1167,-512 1167,-512 1167,-506 1173,-500 1179,-500 1179,-500 1278,-500 1278,-500 1284,-500 1290,-506 1290,-512 1290,-512 1290,-556 1290,-556 1290,-562 1284,-568 1278,-568\"/>\n<text text-anchor=\"start\" x=\"1175\" y=\"-552.8\" font-family=\"Helvetica,sans-Serif\" font-size=\"14.00\">fnlwgt ≤ 310166.5</text>\n<text text-anchor=\"start\" x=\"1200.5\" y=\"-537.8\" font-family=\"Helvetica,sans-Serif\" font-size=\"14.00\">gini = 0.0</text>\n<text text-anchor=\"start\" x=\"1180\" y=\"-522.8\" font-family=\"Helvetica,sans-Serif\" font-size=\"14.00\">samples = 3476</text>\n<text text-anchor=\"start\" x=\"1178\" y=\"-507.8\" font-family=\"Helvetica,sans-Serif\" font-size=\"14.00\">value = [3474, 2]</text>\n</g>\n<!-- 54&#45;&gt;55 -->\n<g id=\"edge55\" class=\"edge\">\n<title>54&#45;&gt;55</title>\n<path fill=\"none\" stroke=\"black\" d=\"M1358.11,-667.81C1332.17,-641.23 1295.68,-603.84 1268.03,-575.5\"/>\n<polygon fill=\"black\" stroke=\"black\" points=\"1270.33,-572.85 1260.84,-568.14 1265.32,-577.74 1270.33,-572.85\"/>\n</g>\n<!-- 58 -->\n<g id=\"node59\" class=\"node\">\n<title>58</title>\n<path fill=\"#e5823a\" stroke=\"black\" d=\"M1441,-568C1441,-568 1340,-568 1340,-568 1334,-568 1328,-562 1328,-556 1328,-556 1328,-512 1328,-512 1328,-506 1334,-500 1340,-500 1340,-500 1441,-500 1441,-500 1447,-500 1453,-506 1453,-512 1453,-512 1453,-556 1453,-556 1453,-562 1447,-568 1441,-568\"/>\n<text text-anchor=\"start\" x=\"1352.5\" y=\"-552.8\" font-family=\"Helvetica,sans-Serif\" font-size=\"14.00\">gender ≤ 0.5</text>\n<text text-anchor=\"start\" x=\"1358.5\" y=\"-537.8\" font-family=\"Helvetica,sans-Serif\" font-size=\"14.00\">gini = 0.01</text>\n<text text-anchor=\"start\" x=\"1342\" y=\"-522.8\" font-family=\"Helvetica,sans-Serif\" font-size=\"14.00\">samples = 3270</text>\n<text text-anchor=\"start\" x=\"1336\" y=\"-507.8\" font-family=\"Helvetica,sans-Serif\" font-size=\"14.00\">value = [3253, 17]</text>\n</g>\n<!-- 54&#45;&gt;58 -->\n<g id=\"edge58\" class=\"edge\">\n<title>54&#45;&gt;58</title>\n<path fill=\"none\" stroke=\"black\" d=\"M1390.5,-667.81C1390.5,-642.13 1390.5,-606.37 1390.5,-578.43\"/>\n<polygon fill=\"black\" stroke=\"black\" points=\"1394,-578.14 1390.5,-568.14 1387,-578.14 1394,-578.14\"/>\n</g>\n<!-- 56 -->\n<g id=\"node57\" class=\"node\">\n<title>56</title>\n<path fill=\"#e58139\" stroke=\"black\" d=\"M1143,-392.5C1143,-392.5 1050,-392.5 1050,-392.5 1044,-392.5 1038,-386.5 1038,-380.5 1038,-380.5 1038,-351.5 1038,-351.5 1038,-345.5 1044,-339.5 1050,-339.5 1050,-339.5 1143,-339.5 1143,-339.5 1149,-339.5 1155,-345.5 1155,-351.5 1155,-351.5 1155,-380.5 1155,-380.5 1155,-386.5 1149,-392.5 1143,-392.5\"/>\n<text text-anchor=\"start\" x=\"1068.5\" y=\"-377.3\" font-family=\"Helvetica,sans-Serif\" font-size=\"14.00\">gini = 0.0</text>\n<text text-anchor=\"start\" x=\"1048\" y=\"-362.3\" font-family=\"Helvetica,sans-Serif\" font-size=\"14.00\">samples = 2976</text>\n<text text-anchor=\"start\" x=\"1046\" y=\"-347.3\" font-family=\"Helvetica,sans-Serif\" font-size=\"14.00\">value = [2976, 0]</text>\n</g>\n<!-- 55&#45;&gt;56 -->\n<g id=\"edge56\" class=\"edge\">\n<title>55&#45;&gt;56</title>\n<path fill=\"none\" stroke=\"black\" d=\"M1202.11,-499.81C1179.23,-471.04 1146.29,-429.62 1123.3,-400.71\"/>\n<polygon fill=\"black\" stroke=\"black\" points=\"1125.77,-398.18 1116.81,-392.54 1120.29,-402.54 1125.77,-398.18\"/>\n</g>\n<!-- 57 -->\n<g id=\"node58\" class=\"node\">\n<title>57</title>\n<path fill=\"#e5823a\" stroke=\"black\" d=\"M1271.5,-392.5C1271.5,-392.5 1185.5,-392.5 1185.5,-392.5 1179.5,-392.5 1173.5,-386.5 1173.5,-380.5 1173.5,-380.5 1173.5,-351.5 1173.5,-351.5 1173.5,-345.5 1179.5,-339.5 1185.5,-339.5 1185.5,-339.5 1271.5,-339.5 1271.5,-339.5 1277.5,-339.5 1283.5,-345.5 1283.5,-351.5 1283.5,-351.5 1283.5,-380.5 1283.5,-380.5 1283.5,-386.5 1277.5,-392.5 1271.5,-392.5\"/>\n<text text-anchor=\"start\" x=\"1196.5\" y=\"-377.3\" font-family=\"Helvetica,sans-Serif\" font-size=\"14.00\">gini = 0.01</text>\n<text text-anchor=\"start\" x=\"1183.5\" y=\"-362.3\" font-family=\"Helvetica,sans-Serif\" font-size=\"14.00\">samples = 500</text>\n<text text-anchor=\"start\" x=\"1181.5\" y=\"-347.3\" font-family=\"Helvetica,sans-Serif\" font-size=\"14.00\">value = [498, 2]</text>\n</g>\n<!-- 55&#45;&gt;57 -->\n<g id=\"edge57\" class=\"edge\">\n<title>55&#45;&gt;57</title>\n<path fill=\"none\" stroke=\"black\" d=\"M1228.5,-499.81C1228.5,-471.66 1228.5,-431.39 1228.5,-402.59\"/>\n<polygon fill=\"black\" stroke=\"black\" points=\"1232,-402.54 1228.5,-392.54 1225,-402.54 1232,-402.54\"/>\n</g>\n<!-- 59 -->\n<g id=\"node60\" class=\"node\">\n<title>59</title>\n<path fill=\"#e58139\" stroke=\"black\" d=\"M1413,-400C1413,-400 1314,-400 1314,-400 1308,-400 1302,-394 1302,-388 1302,-388 1302,-344 1302,-344 1302,-338 1308,-332 1314,-332 1314,-332 1413,-332 1413,-332 1419,-332 1425,-338 1425,-344 1425,-344 1425,-388 1425,-388 1425,-394 1419,-400 1413,-400\"/>\n<text text-anchor=\"start\" x=\"1310\" y=\"-384.8\" font-family=\"Helvetica,sans-Serif\" font-size=\"14.00\">fnlwgt ≤ 218199.5</text>\n<text text-anchor=\"start\" x=\"1335.5\" y=\"-369.8\" font-family=\"Helvetica,sans-Serif\" font-size=\"14.00\">gini = 0.0</text>\n<text text-anchor=\"start\" x=\"1315\" y=\"-354.8\" font-family=\"Helvetica,sans-Serif\" font-size=\"14.00\">samples = 1500</text>\n<text text-anchor=\"start\" x=\"1313\" y=\"-339.8\" font-family=\"Helvetica,sans-Serif\" font-size=\"14.00\">value = [1498, 2]</text>\n</g>\n<!-- 58&#45;&gt;59 -->\n<g id=\"edge59\" class=\"edge\">\n<title>58&#45;&gt;59</title>\n<path fill=\"none\" stroke=\"black\" d=\"M1385.1,-499.81C1380.91,-474.02 1375.06,-438.06 1370.5,-410.06\"/>\n<polygon fill=\"black\" stroke=\"black\" points=\"1373.95,-409.44 1368.89,-400.14 1367.04,-410.57 1373.95,-409.44\"/>\n</g>\n<!-- 62 -->\n<g id=\"node63\" class=\"node\">\n<title>62</title>\n<path fill=\"#e5823b\" stroke=\"black\" d=\"M1556,-400C1556,-400 1455,-400 1455,-400 1449,-400 1443,-394 1443,-388 1443,-388 1443,-344 1443,-344 1443,-338 1449,-332 1455,-332 1455,-332 1556,-332 1556,-332 1562,-332 1568,-338 1568,-344 1568,-344 1568,-388 1568,-388 1568,-394 1562,-400 1556,-400\"/>\n<text text-anchor=\"start\" x=\"1452\" y=\"-384.8\" font-family=\"Helvetica,sans-Serif\" font-size=\"14.00\">fnlwgt ≤ 164838.0</text>\n<text text-anchor=\"start\" x=\"1473.5\" y=\"-369.8\" font-family=\"Helvetica,sans-Serif\" font-size=\"14.00\">gini = 0.02</text>\n<text text-anchor=\"start\" x=\"1457\" y=\"-354.8\" font-family=\"Helvetica,sans-Serif\" font-size=\"14.00\">samples = 1770</text>\n<text text-anchor=\"start\" x=\"1451\" y=\"-339.8\" font-family=\"Helvetica,sans-Serif\" font-size=\"14.00\">value = [1755, 15]</text>\n</g>\n<!-- 58&#45;&gt;62 -->\n<g id=\"edge62\" class=\"edge\">\n<title>58&#45;&gt;62</title>\n<path fill=\"none\" stroke=\"black\" d=\"M1413.5,-499.81C1431.67,-473.57 1457.15,-436.79 1476.69,-408.59\"/>\n<polygon fill=\"black\" stroke=\"black\" points=\"1479.73,-410.35 1482.54,-400.14 1473.97,-406.36 1479.73,-410.35\"/>\n</g>\n<!-- 60 -->\n<g id=\"node61\" class=\"node\">\n<title>60</title>\n<path fill=\"#e58139\" stroke=\"black\" d=\"M1277,-224.5C1277,-224.5 1184,-224.5 1184,-224.5 1178,-224.5 1172,-218.5 1172,-212.5 1172,-212.5 1172,-183.5 1172,-183.5 1172,-177.5 1178,-171.5 1184,-171.5 1184,-171.5 1277,-171.5 1277,-171.5 1283,-171.5 1289,-177.5 1289,-183.5 1289,-183.5 1289,-212.5 1289,-212.5 1289,-218.5 1283,-224.5 1277,-224.5\"/>\n<text text-anchor=\"start\" x=\"1202.5\" y=\"-209.3\" font-family=\"Helvetica,sans-Serif\" font-size=\"14.00\">gini = 0.0</text>\n<text text-anchor=\"start\" x=\"1182\" y=\"-194.3\" font-family=\"Helvetica,sans-Serif\" font-size=\"14.00\">samples = 1000</text>\n<text text-anchor=\"start\" x=\"1180\" y=\"-179.3\" font-family=\"Helvetica,sans-Serif\" font-size=\"14.00\">value = [1000, 0]</text>\n</g>\n<!-- 59&#45;&gt;60 -->\n<g id=\"edge60\" class=\"edge\">\n<title>59&#45;&gt;60</title>\n<path fill=\"none\" stroke=\"black\" d=\"M1336.91,-331.81C1313.86,-303.04 1280.67,-261.62 1257.51,-232.71\"/>\n<polygon fill=\"black\" stroke=\"black\" points=\"1259.94,-230.15 1250.96,-224.54 1254.48,-234.53 1259.94,-230.15\"/>\n</g>\n<!-- 61 -->\n<g id=\"node62\" class=\"node\">\n<title>61</title>\n<path fill=\"#e5823a\" stroke=\"black\" d=\"M1405.5,-224.5C1405.5,-224.5 1319.5,-224.5 1319.5,-224.5 1313.5,-224.5 1307.5,-218.5 1307.5,-212.5 1307.5,-212.5 1307.5,-183.5 1307.5,-183.5 1307.5,-177.5 1313.5,-171.5 1319.5,-171.5 1319.5,-171.5 1405.5,-171.5 1405.5,-171.5 1411.5,-171.5 1417.5,-177.5 1417.5,-183.5 1417.5,-183.5 1417.5,-212.5 1417.5,-212.5 1417.5,-218.5 1411.5,-224.5 1405.5,-224.5\"/>\n<text text-anchor=\"start\" x=\"1330.5\" y=\"-209.3\" font-family=\"Helvetica,sans-Serif\" font-size=\"14.00\">gini = 0.01</text>\n<text text-anchor=\"start\" x=\"1317.5\" y=\"-194.3\" font-family=\"Helvetica,sans-Serif\" font-size=\"14.00\">samples = 500</text>\n<text text-anchor=\"start\" x=\"1315.5\" y=\"-179.3\" font-family=\"Helvetica,sans-Serif\" font-size=\"14.00\">value = [498, 2]</text>\n</g>\n<!-- 59&#45;&gt;61 -->\n<g id=\"edge61\" class=\"edge\">\n<title>59&#45;&gt;61</title>\n<path fill=\"none\" stroke=\"black\" d=\"M1363.3,-331.81C1363.13,-303.66 1362.89,-263.39 1362.71,-234.59\"/>\n<polygon fill=\"black\" stroke=\"black\" points=\"1366.21,-234.51 1362.65,-224.54 1359.21,-234.56 1366.21,-234.51\"/>\n</g>\n<!-- 63 -->\n<g id=\"node64\" class=\"node\">\n<title>63</title>\n<path fill=\"#e5833c\" stroke=\"black\" d=\"M1541,-224.5C1541,-224.5 1448,-224.5 1448,-224.5 1442,-224.5 1436,-218.5 1436,-212.5 1436,-212.5 1436,-183.5 1436,-183.5 1436,-177.5 1442,-171.5 1448,-171.5 1448,-171.5 1541,-171.5 1541,-171.5 1547,-171.5 1553,-177.5 1553,-183.5 1553,-183.5 1553,-212.5 1553,-212.5 1553,-218.5 1547,-224.5 1541,-224.5\"/>\n<text text-anchor=\"start\" x=\"1462.5\" y=\"-209.3\" font-family=\"Helvetica,sans-Serif\" font-size=\"14.00\">gini = 0.03</text>\n<text text-anchor=\"start\" x=\"1449.5\" y=\"-194.3\" font-family=\"Helvetica,sans-Serif\" font-size=\"14.00\">samples = 652</text>\n<text text-anchor=\"start\" x=\"1444\" y=\"-179.3\" font-family=\"Helvetica,sans-Serif\" font-size=\"14.00\">value = [642, 10]</text>\n</g>\n<!-- 62&#45;&gt;63 -->\n<g id=\"edge63\" class=\"edge\">\n<title>62&#45;&gt;63</title>\n<path fill=\"none\" stroke=\"black\" d=\"M1503.3,-331.81C1501.44,-303.66 1498.77,-263.39 1496.86,-234.59\"/>\n<polygon fill=\"black\" stroke=\"black\" points=\"1500.35,-234.28 1496.19,-224.54 1493.36,-234.75 1500.35,-234.28\"/>\n</g>\n<!-- 64 -->\n<g id=\"node65\" class=\"node\">\n<title>64</title>\n<path fill=\"#e5823a\" stroke=\"black\" d=\"M1682,-232C1682,-232 1583,-232 1583,-232 1577,-232 1571,-226 1571,-220 1571,-220 1571,-176 1571,-176 1571,-170 1577,-164 1583,-164 1583,-164 1682,-164 1682,-164 1688,-164 1694,-170 1694,-176 1694,-176 1694,-220 1694,-220 1694,-226 1688,-232 1682,-232\"/>\n<text text-anchor=\"start\" x=\"1579\" y=\"-216.8\" font-family=\"Helvetica,sans-Serif\" font-size=\"14.00\">fnlwgt ≤ 239086.5</text>\n<text text-anchor=\"start\" x=\"1600.5\" y=\"-201.8\" font-family=\"Helvetica,sans-Serif\" font-size=\"14.00\">gini = 0.01</text>\n<text text-anchor=\"start\" x=\"1584\" y=\"-186.8\" font-family=\"Helvetica,sans-Serif\" font-size=\"14.00\">samples = 1118</text>\n<text text-anchor=\"start\" x=\"1582\" y=\"-171.8\" font-family=\"Helvetica,sans-Serif\" font-size=\"14.00\">value = [1113, 5]</text>\n</g>\n<!-- 62&#45;&gt;64 -->\n<g id=\"edge64\" class=\"edge\">\n<title>62&#45;&gt;64</title>\n<path fill=\"none\" stroke=\"black\" d=\"M1530.9,-331.81C1551.06,-305.46 1579.35,-268.48 1600.96,-240.23\"/>\n<polygon fill=\"black\" stroke=\"black\" points=\"1603.85,-242.21 1607.15,-232.14 1598.29,-237.95 1603.85,-242.21\"/>\n</g>\n<!-- 65 -->\n<g id=\"node66\" class=\"node\">\n<title>65</title>\n<path fill=\"#e58139\" stroke=\"black\" d=\"M1611.5,-69.5C1611.5,-69.5 1525.5,-69.5 1525.5,-69.5 1519.5,-69.5 1513.5,-63.5 1513.5,-57.5 1513.5,-57.5 1513.5,-28.5 1513.5,-28.5 1513.5,-22.5 1519.5,-16.5 1525.5,-16.5 1525.5,-16.5 1611.5,-16.5 1611.5,-16.5 1617.5,-16.5 1623.5,-22.5 1623.5,-28.5 1623.5,-28.5 1623.5,-57.5 1623.5,-57.5 1623.5,-63.5 1617.5,-69.5 1611.5,-69.5\"/>\n<text text-anchor=\"start\" x=\"1540.5\" y=\"-54.3\" font-family=\"Helvetica,sans-Serif\" font-size=\"14.00\">gini = 0.0</text>\n<text text-anchor=\"start\" x=\"1523.5\" y=\"-39.3\" font-family=\"Helvetica,sans-Serif\" font-size=\"14.00\">samples = 549</text>\n<text text-anchor=\"start\" x=\"1521.5\" y=\"-24.3\" font-family=\"Helvetica,sans-Serif\" font-size=\"14.00\">value = [548, 1]</text>\n</g>\n<!-- 64&#45;&gt;65 -->\n<g id=\"edge65\" class=\"edge\">\n<title>64&#45;&gt;65</title>\n<path fill=\"none\" stroke=\"black\" d=\"M1618.61,-163.8C1608.12,-138.71 1593.74,-104.34 1583.08,-78.85\"/>\n<polygon fill=\"black\" stroke=\"black\" points=\"1586.28,-77.43 1579.19,-69.56 1579.82,-80.13 1586.28,-77.43\"/>\n</g>\n<!-- 66 -->\n<g id=\"node67\" class=\"node\">\n<title>66</title>\n<path fill=\"#e5823a\" stroke=\"black\" d=\"M1739.5,-69.5C1739.5,-69.5 1653.5,-69.5 1653.5,-69.5 1647.5,-69.5 1641.5,-63.5 1641.5,-57.5 1641.5,-57.5 1641.5,-28.5 1641.5,-28.5 1641.5,-22.5 1647.5,-16.5 1653.5,-16.5 1653.5,-16.5 1739.5,-16.5 1739.5,-16.5 1745.5,-16.5 1751.5,-22.5 1751.5,-28.5 1751.5,-28.5 1751.5,-57.5 1751.5,-57.5 1751.5,-63.5 1745.5,-69.5 1739.5,-69.5\"/>\n<text text-anchor=\"start\" x=\"1664.5\" y=\"-54.3\" font-family=\"Helvetica,sans-Serif\" font-size=\"14.00\">gini = 0.01</text>\n<text text-anchor=\"start\" x=\"1651.5\" y=\"-39.3\" font-family=\"Helvetica,sans-Serif\" font-size=\"14.00\">samples = 569</text>\n<text text-anchor=\"start\" x=\"1649.5\" y=\"-24.3\" font-family=\"Helvetica,sans-Serif\" font-size=\"14.00\">value = [565, 4]</text>\n</g>\n<!-- 64&#45;&gt;66 -->\n<g id=\"edge66\" class=\"edge\">\n<title>64&#45;&gt;66</title>\n<path fill=\"none\" stroke=\"black\" d=\"M1646.39,-163.8C1656.88,-138.71 1671.26,-104.34 1681.92,-78.85\"/>\n<polygon fill=\"black\" stroke=\"black\" points=\"1685.18,-80.13 1685.81,-69.56 1678.72,-77.43 1685.18,-80.13\"/>\n</g>\n<!-- 68 -->\n<g id=\"node69\" class=\"node\">\n<title>68</title>\n<path fill=\"#e5823a\" stroke=\"black\" d=\"M1579.5,-560.5C1579.5,-560.5 1493.5,-560.5 1493.5,-560.5 1487.5,-560.5 1481.5,-554.5 1481.5,-548.5 1481.5,-548.5 1481.5,-519.5 1481.5,-519.5 1481.5,-513.5 1487.5,-507.5 1493.5,-507.5 1493.5,-507.5 1579.5,-507.5 1579.5,-507.5 1585.5,-507.5 1591.5,-513.5 1591.5,-519.5 1591.5,-519.5 1591.5,-548.5 1591.5,-548.5 1591.5,-554.5 1585.5,-560.5 1579.5,-560.5\"/>\n<text text-anchor=\"start\" x=\"1504.5\" y=\"-545.3\" font-family=\"Helvetica,sans-Serif\" font-size=\"14.00\">gini = 0.01</text>\n<text text-anchor=\"start\" x=\"1491.5\" y=\"-530.3\" font-family=\"Helvetica,sans-Serif\" font-size=\"14.00\">samples = 998</text>\n<text text-anchor=\"start\" x=\"1489.5\" y=\"-515.3\" font-family=\"Helvetica,sans-Serif\" font-size=\"14.00\">value = [992, 6]</text>\n</g>\n<!-- 67&#45;&gt;68 -->\n<g id=\"edge68\" class=\"edge\">\n<title>67&#45;&gt;68</title>\n<path fill=\"none\" stroke=\"black\" d=\"M1547.7,-667.81C1545.33,-639.66 1541.93,-599.39 1539.5,-570.59\"/>\n<polygon fill=\"black\" stroke=\"black\" points=\"1542.98,-570.21 1538.65,-560.54 1536.01,-570.79 1542.98,-570.21\"/>\n</g>\n<!-- 69 -->\n<g id=\"node70\" class=\"node\">\n<title>69</title>\n<path fill=\"#e6843e\" stroke=\"black\" d=\"M1715,-560.5C1715,-560.5 1622,-560.5 1622,-560.5 1616,-560.5 1610,-554.5 1610,-548.5 1610,-548.5 1610,-519.5 1610,-519.5 1610,-513.5 1616,-507.5 1622,-507.5 1622,-507.5 1715,-507.5 1715,-507.5 1721,-507.5 1727,-513.5 1727,-519.5 1727,-519.5 1727,-548.5 1727,-548.5 1727,-554.5 1721,-560.5 1715,-560.5\"/>\n<text text-anchor=\"start\" x=\"1636.5\" y=\"-545.3\" font-family=\"Helvetica,sans-Serif\" font-size=\"14.00\">gini = 0.05</text>\n<text text-anchor=\"start\" x=\"1623.5\" y=\"-530.3\" font-family=\"Helvetica,sans-Serif\" font-size=\"14.00\">samples = 646</text>\n<text text-anchor=\"start\" x=\"1618\" y=\"-515.3\" font-family=\"Helvetica,sans-Serif\" font-size=\"14.00\">value = [631, 15]</text>\n</g>\n<!-- 67&#45;&gt;69 -->\n<g id=\"edge69\" class=\"edge\">\n<title>67&#45;&gt;69</title>\n<path fill=\"none\" stroke=\"black\" d=\"M1574.1,-667.81C1594.54,-639.04 1623.99,-597.62 1644.54,-568.71\"/>\n<polygon fill=\"black\" stroke=\"black\" points=\"1647.41,-570.71 1650.35,-560.54 1641.7,-566.66 1647.41,-570.71\"/>\n</g>\n<!-- 71 -->\n<g id=\"node72\" class=\"node\">\n<title>71</title>\n<path fill=\"#e5823a\" stroke=\"black\" d=\"M1776.5,-728.5C1776.5,-728.5 1690.5,-728.5 1690.5,-728.5 1684.5,-728.5 1678.5,-722.5 1678.5,-716.5 1678.5,-716.5 1678.5,-687.5 1678.5,-687.5 1678.5,-681.5 1684.5,-675.5 1690.5,-675.5 1690.5,-675.5 1776.5,-675.5 1776.5,-675.5 1782.5,-675.5 1788.5,-681.5 1788.5,-687.5 1788.5,-687.5 1788.5,-716.5 1788.5,-716.5 1788.5,-722.5 1782.5,-728.5 1776.5,-728.5\"/>\n<text text-anchor=\"start\" x=\"1701.5\" y=\"-713.3\" font-family=\"Helvetica,sans-Serif\" font-size=\"14.00\">gini = 0.01</text>\n<text text-anchor=\"start\" x=\"1688.5\" y=\"-698.3\" font-family=\"Helvetica,sans-Serif\" font-size=\"14.00\">samples = 507</text>\n<text text-anchor=\"start\" x=\"1686.5\" y=\"-683.3\" font-family=\"Helvetica,sans-Serif\" font-size=\"14.00\">value = [504, 3]</text>\n</g>\n<!-- 70&#45;&gt;71 -->\n<g id=\"edge71\" class=\"edge\">\n<title>70&#45;&gt;71</title>\n<path fill=\"none\" stroke=\"black\" d=\"M1786.14,-834.61C1774.92,-806.56 1758.94,-766.6 1747.53,-738.08\"/>\n<polygon fill=\"black\" stroke=\"black\" points=\"1750.67,-736.5 1743.71,-728.51 1744.17,-739.1 1750.67,-736.5\"/>\n</g>\n<!-- 72 -->\n<g id=\"node73\" class=\"node\">\n<title>72</title>\n<path fill=\"#e68843\" stroke=\"black\" d=\"M1912,-728.5C1912,-728.5 1819,-728.5 1819,-728.5 1813,-728.5 1807,-722.5 1807,-716.5 1807,-716.5 1807,-687.5 1807,-687.5 1807,-681.5 1813,-675.5 1819,-675.5 1819,-675.5 1912,-675.5 1912,-675.5 1918,-675.5 1924,-681.5 1924,-687.5 1924,-687.5 1924,-716.5 1924,-716.5 1924,-722.5 1918,-728.5 1912,-728.5\"/>\n<text text-anchor=\"start\" x=\"1833.5\" y=\"-713.3\" font-family=\"Helvetica,sans-Serif\" font-size=\"14.00\">gini = 0.09</text>\n<text text-anchor=\"start\" x=\"1820.5\" y=\"-698.3\" font-family=\"Helvetica,sans-Serif\" font-size=\"14.00\">samples = 822</text>\n<text text-anchor=\"start\" x=\"1815\" y=\"-683.3\" font-family=\"Helvetica,sans-Serif\" font-size=\"14.00\">value = [781, 41]</text>\n</g>\n<!-- 70&#45;&gt;72 -->\n<g id=\"edge72\" class=\"edge\">\n<title>70&#45;&gt;72</title>\n<path fill=\"none\" stroke=\"black\" d=\"M1812.86,-834.61C1824.08,-806.56 1840.06,-766.6 1851.47,-738.08\"/>\n<polygon fill=\"black\" stroke=\"black\" points=\"1854.83,-739.1 1855.29,-728.51 1848.33,-736.5 1854.83,-739.1\"/>\n</g>\n<!-- 74 -->\n<g id=\"node75\" class=\"node\">\n<title>74</title>\n<path fill=\"#e68540\" stroke=\"black\" d=\"M2235.5,-903C2235.5,-903 2127.5,-903 2127.5,-903 2121.5,-903 2115.5,-897 2115.5,-891 2115.5,-891 2115.5,-847 2115.5,-847 2115.5,-841 2121.5,-835 2127.5,-835 2127.5,-835 2235.5,-835 2235.5,-835 2241.5,-835 2247.5,-841 2247.5,-847 2247.5,-847 2247.5,-891 2247.5,-891 2247.5,-897 2241.5,-903 2235.5,-903\"/>\n<text text-anchor=\"start\" x=\"2131.5\" y=\"-887.8\" font-family=\"Helvetica,sans-Serif\" font-size=\"14.00\">occupation ≤ 9.5</text>\n<text text-anchor=\"start\" x=\"2149.5\" y=\"-872.8\" font-family=\"Helvetica,sans-Serif\" font-size=\"14.00\">gini = 0.06</text>\n<text text-anchor=\"start\" x=\"2133\" y=\"-857.8\" font-family=\"Helvetica,sans-Serif\" font-size=\"14.00\">samples = 5634</text>\n<text text-anchor=\"start\" x=\"2123.5\" y=\"-842.8\" font-family=\"Helvetica,sans-Serif\" font-size=\"14.00\">value = [5449, 185]</text>\n</g>\n<!-- 73&#45;&gt;74 -->\n<g id=\"edge74\" class=\"edge\">\n<title>73&#45;&gt;74</title>\n<path fill=\"none\" stroke=\"black\" d=\"M2245.5,-1002.81C2232.97,-976.79 2215.44,-940.43 2201.9,-912.32\"/>\n<polygon fill=\"black\" stroke=\"black\" points=\"2204.96,-910.63 2197.47,-903.14 2198.66,-913.66 2204.96,-910.63\"/>\n</g>\n<!-- 89 -->\n<g id=\"node90\" class=\"node\">\n<title>89</title>\n<path fill=\"#e88f4f\" stroke=\"black\" d=\"M2405,-903C2405,-903 2278,-903 2278,-903 2272,-903 2266,-897 2266,-891 2266,-891 2266,-847 2266,-847 2266,-841 2272,-835 2278,-835 2278,-835 2405,-835 2405,-835 2411,-835 2417,-841 2417,-847 2417,-847 2417,-891 2417,-891 2417,-897 2411,-903 2405,-903\"/>\n<text text-anchor=\"start\" x=\"2274\" y=\"-887.8\" font-family=\"Helvetica,sans-Serif\" font-size=\"14.00\">educational&#45;num ≤ 9.5</text>\n<text text-anchor=\"start\" x=\"2309.5\" y=\"-872.8\" font-family=\"Helvetica,sans-Serif\" font-size=\"14.00\">gini = 0.18</text>\n<text text-anchor=\"start\" x=\"2293\" y=\"-857.8\" font-family=\"Helvetica,sans-Serif\" font-size=\"14.00\">samples = 1500</text>\n<text text-anchor=\"start\" x=\"2283.5\" y=\"-842.8\" font-family=\"Helvetica,sans-Serif\" font-size=\"14.00\">value = [1353, 147]</text>\n</g>\n<!-- 73&#45;&gt;89 -->\n<g id=\"edge89\" class=\"edge\">\n<title>73&#45;&gt;89</title>\n<path fill=\"none\" stroke=\"black\" d=\"M2277.5,-1002.81C2290.03,-976.79 2307.56,-940.43 2321.1,-912.32\"/>\n<polygon fill=\"black\" stroke=\"black\" points=\"2324.34,-913.66 2325.53,-903.14 2318.04,-910.63 2324.34,-913.66\"/>\n</g>\n<!-- 75 -->\n<g id=\"node76\" class=\"node\">\n<title>75</title>\n<path fill=\"#e6843e\" stroke=\"black\" d=\"M2079.5,-736C2079.5,-736 1971.5,-736 1971.5,-736 1965.5,-736 1959.5,-730 1959.5,-724 1959.5,-724 1959.5,-680 1959.5,-680 1959.5,-674 1965.5,-668 1971.5,-668 1971.5,-668 2079.5,-668 2079.5,-668 2085.5,-668 2091.5,-674 2091.5,-680 2091.5,-680 2091.5,-724 2091.5,-724 2091.5,-730 2085.5,-736 2079.5,-736\"/>\n<text text-anchor=\"start\" x=\"1975.5\" y=\"-720.8\" font-family=\"Helvetica,sans-Serif\" font-size=\"14.00\">occupation ≤ 4.5</text>\n<text text-anchor=\"start\" x=\"1993.5\" y=\"-705.8\" font-family=\"Helvetica,sans-Serif\" font-size=\"14.00\">gini = 0.05</text>\n<text text-anchor=\"start\" x=\"1977\" y=\"-690.8\" font-family=\"Helvetica,sans-Serif\" font-size=\"14.00\">samples = 4458</text>\n<text text-anchor=\"start\" x=\"1967.5\" y=\"-675.8\" font-family=\"Helvetica,sans-Serif\" font-size=\"14.00\">value = [4350, 108]</text>\n</g>\n<!-- 74&#45;&gt;75 -->\n<g id=\"edge75\" class=\"edge\">\n<title>74&#45;&gt;75</title>\n<path fill=\"none\" stroke=\"black\" d=\"M2149.93,-834.61C2125,-808.24 2090.13,-771.36 2063.64,-743.34\"/>\n<polygon fill=\"black\" stroke=\"black\" points=\"2066.17,-740.92 2056.76,-736.06 2061.08,-745.73 2066.17,-740.92\"/>\n</g>\n<!-- 86 -->\n<g id=\"node87\" class=\"node\">\n<title>86</title>\n<path fill=\"#e78a47\" stroke=\"black\" d=\"M2249,-736C2249,-736 2122,-736 2122,-736 2116,-736 2110,-730 2110,-724 2110,-724 2110,-680 2110,-680 2110,-674 2116,-668 2122,-668 2122,-668 2249,-668 2249,-668 2255,-668 2261,-674 2261,-680 2261,-680 2261,-724 2261,-724 2261,-730 2255,-736 2249,-736\"/>\n<text text-anchor=\"start\" x=\"2118\" y=\"-720.8\" font-family=\"Helvetica,sans-Serif\" font-size=\"14.00\">educational&#45;num ≤ 9.5</text>\n<text text-anchor=\"start\" x=\"2153.5\" y=\"-705.8\" font-family=\"Helvetica,sans-Serif\" font-size=\"14.00\">gini = 0.12</text>\n<text text-anchor=\"start\" x=\"2137\" y=\"-690.8\" font-family=\"Helvetica,sans-Serif\" font-size=\"14.00\">samples = 1176</text>\n<text text-anchor=\"start\" x=\"2131\" y=\"-675.8\" font-family=\"Helvetica,sans-Serif\" font-size=\"14.00\">value = [1099, 77]</text>\n</g>\n<!-- 74&#45;&gt;86 -->\n<g id=\"edge86\" class=\"edge\">\n<title>74&#45;&gt;86</title>\n<path fill=\"none\" stroke=\"black\" d=\"M2182.31,-834.61C2182.93,-809.14 2183.78,-773.86 2184.45,-746.23\"/>\n<polygon fill=\"black\" stroke=\"black\" points=\"2187.96,-746.14 2184.7,-736.06 2180.96,-745.97 2187.96,-746.14\"/>\n</g>\n<!-- 76 -->\n<g id=\"node77\" class=\"node\">\n<title>76</title>\n<path fill=\"#e68641\" stroke=\"black\" d=\"M1927,-568C1927,-568 1826,-568 1826,-568 1820,-568 1814,-562 1814,-556 1814,-556 1814,-512 1814,-512 1814,-506 1820,-500 1826,-500 1826,-500 1927,-500 1927,-500 1933,-500 1939,-506 1939,-512 1939,-512 1939,-556 1939,-556 1939,-562 1933,-568 1927,-568\"/>\n<text text-anchor=\"start\" x=\"1826.5\" y=\"-552.8\" font-family=\"Helvetica,sans-Serif\" font-size=\"14.00\">occupation ≤ 2.0</text>\n<text text-anchor=\"start\" x=\"1844.5\" y=\"-537.8\" font-family=\"Helvetica,sans-Serif\" font-size=\"14.00\">gini = 0.07</text>\n<text text-anchor=\"start\" x=\"1828\" y=\"-522.8\" font-family=\"Helvetica,sans-Serif\" font-size=\"14.00\">samples = 2531</text>\n<text text-anchor=\"start\" x=\"1822\" y=\"-507.8\" font-family=\"Helvetica,sans-Serif\" font-size=\"14.00\">value = [2437, 94]</text>\n</g>\n<!-- 75&#45;&gt;76 -->\n<g id=\"edge76\" class=\"edge\">\n<title>75&#45;&gt;76</title>\n<path fill=\"none\" stroke=\"black\" d=\"M1995.71,-667.81C1971.95,-641.34 1938.58,-604.16 1913.18,-575.86\"/>\n<polygon fill=\"black\" stroke=\"black\" points=\"1915.53,-573.24 1906.24,-568.14 1910.32,-577.92 1915.53,-573.24\"/>\n</g>\n<!-- 81 -->\n<g id=\"node82\" class=\"node\">\n<title>81</title>\n<path fill=\"#e5823a\" stroke=\"black\" d=\"M2097.5,-568C2097.5,-568 1969.5,-568 1969.5,-568 1963.5,-568 1957.5,-562 1957.5,-556 1957.5,-556 1957.5,-512 1957.5,-512 1957.5,-506 1963.5,-500 1969.5,-500 1969.5,-500 2097.5,-500 2097.5,-500 2103.5,-500 2109.5,-506 2109.5,-512 2109.5,-512 2109.5,-556 2109.5,-556 2109.5,-562 2103.5,-568 2097.5,-568\"/>\n<text text-anchor=\"start\" x=\"1965.5\" y=\"-552.8\" font-family=\"Helvetica,sans-Serif\" font-size=\"14.00\">hours&#45;per&#45;week ≤ 39.5</text>\n<text text-anchor=\"start\" x=\"2001.5\" y=\"-537.8\" font-family=\"Helvetica,sans-Serif\" font-size=\"14.00\">gini = 0.01</text>\n<text text-anchor=\"start\" x=\"1985\" y=\"-522.8\" font-family=\"Helvetica,sans-Serif\" font-size=\"14.00\">samples = 1927</text>\n<text text-anchor=\"start\" x=\"1979\" y=\"-507.8\" font-family=\"Helvetica,sans-Serif\" font-size=\"14.00\">value = [1913, 14]</text>\n</g>\n<!-- 75&#45;&gt;81 -->\n<g id=\"edge81\" class=\"edge\">\n<title>75&#45;&gt;81</title>\n<path fill=\"none\" stroke=\"black\" d=\"M2027.1,-667.81C2028.34,-642.13 2030.06,-606.37 2031.41,-578.43\"/>\n<polygon fill=\"black\" stroke=\"black\" points=\"2034.92,-578.29 2031.9,-568.14 2027.93,-577.96 2034.92,-578.29\"/>\n</g>\n<!-- 77 -->\n<g id=\"node78\" class=\"node\">\n<title>77</title>\n<path fill=\"#e6843e\" stroke=\"black\" d=\"M1813,-400C1813,-400 1712,-400 1712,-400 1706,-400 1700,-394 1700,-388 1700,-388 1700,-344 1700,-344 1700,-338 1706,-332 1712,-332 1712,-332 1813,-332 1813,-332 1819,-332 1825,-338 1825,-344 1825,-344 1825,-388 1825,-388 1825,-394 1819,-400 1813,-400\"/>\n<text text-anchor=\"start\" x=\"1711\" y=\"-384.8\" font-family=\"Helvetica,sans-Serif\" font-size=\"14.00\">relationship ≤ 3.5</text>\n<text text-anchor=\"start\" x=\"1730.5\" y=\"-369.8\" font-family=\"Helvetica,sans-Serif\" font-size=\"14.00\">gini = 0.04</text>\n<text text-anchor=\"start\" x=\"1714\" y=\"-354.8\" font-family=\"Helvetica,sans-Serif\" font-size=\"14.00\">samples = 1532</text>\n<text text-anchor=\"start\" x=\"1708\" y=\"-339.8\" font-family=\"Helvetica,sans-Serif\" font-size=\"14.00\">value = [1497, 35]</text>\n</g>\n<!-- 76&#45;&gt;77 -->\n<g id=\"edge77\" class=\"edge\">\n<title>76&#45;&gt;77</title>\n<path fill=\"none\" stroke=\"black\" d=\"M1853.7,-499.81C1835.69,-473.57 1810.43,-436.79 1791.06,-408.59\"/>\n<polygon fill=\"black\" stroke=\"black\" points=\"1793.8,-406.4 1785.26,-400.14 1788.03,-410.36 1793.8,-406.4\"/>\n</g>\n<!-- 80 -->\n<g id=\"node81\" class=\"node\">\n<title>80</title>\n<path fill=\"#e78945\" stroke=\"black\" d=\"M1948,-392.5C1948,-392.5 1855,-392.5 1855,-392.5 1849,-392.5 1843,-386.5 1843,-380.5 1843,-380.5 1843,-351.5 1843,-351.5 1843,-345.5 1849,-339.5 1855,-339.5 1855,-339.5 1948,-339.5 1948,-339.5 1954,-339.5 1960,-345.5 1960,-351.5 1960,-351.5 1960,-380.5 1960,-380.5 1960,-386.5 1954,-392.5 1948,-392.5\"/>\n<text text-anchor=\"start\" x=\"1869.5\" y=\"-377.3\" font-family=\"Helvetica,sans-Serif\" font-size=\"14.00\">gini = 0.11</text>\n<text text-anchor=\"start\" x=\"1856.5\" y=\"-362.3\" font-family=\"Helvetica,sans-Serif\" font-size=\"14.00\">samples = 999</text>\n<text text-anchor=\"start\" x=\"1851\" y=\"-347.3\" font-family=\"Helvetica,sans-Serif\" font-size=\"14.00\">value = [940, 59]</text>\n</g>\n<!-- 76&#45;&gt;80 -->\n<g id=\"edge80\" class=\"edge\">\n<title>76&#45;&gt;80</title>\n<path fill=\"none\" stroke=\"black\" d=\"M1881.5,-499.81C1885.74,-471.66 1891.8,-431.39 1896.14,-402.59\"/>\n<polygon fill=\"black\" stroke=\"black\" points=\"1899.63,-402.95 1897.65,-392.54 1892.7,-401.9 1899.63,-402.95\"/>\n</g>\n<!-- 78 -->\n<g id=\"node79\" class=\"node\">\n<title>78</title>\n<path fill=\"#e6853f\" stroke=\"black\" d=\"M1817,-224.5C1817,-224.5 1724,-224.5 1724,-224.5 1718,-224.5 1712,-218.5 1712,-212.5 1712,-212.5 1712,-183.5 1712,-183.5 1712,-177.5 1718,-171.5 1724,-171.5 1724,-171.5 1817,-171.5 1817,-171.5 1823,-171.5 1829,-177.5 1829,-183.5 1829,-183.5 1829,-212.5 1829,-212.5 1829,-218.5 1823,-224.5 1817,-224.5\"/>\n<text text-anchor=\"start\" x=\"1738.5\" y=\"-209.3\" font-family=\"Helvetica,sans-Serif\" font-size=\"14.00\">gini = 0.05</text>\n<text text-anchor=\"start\" x=\"1725.5\" y=\"-194.3\" font-family=\"Helvetica,sans-Serif\" font-size=\"14.00\">samples = 963</text>\n<text text-anchor=\"start\" x=\"1720\" y=\"-179.3\" font-family=\"Helvetica,sans-Serif\" font-size=\"14.00\">value = [936, 27]</text>\n</g>\n<!-- 77&#45;&gt;78 -->\n<g id=\"edge78\" class=\"edge\">\n<title>77&#45;&gt;78</title>\n<path fill=\"none\" stroke=\"black\" d=\"M1764.1,-331.81C1765.46,-303.66 1767.4,-263.39 1768.79,-234.59\"/>\n<polygon fill=\"black\" stroke=\"black\" points=\"1772.28,-234.69 1769.27,-224.54 1765.29,-234.36 1772.28,-234.69\"/>\n</g>\n<!-- 79 -->\n<g id=\"node80\" class=\"node\">\n<title>79</title>\n<path fill=\"#e5833c\" stroke=\"black\" d=\"M1945.5,-224.5C1945.5,-224.5 1859.5,-224.5 1859.5,-224.5 1853.5,-224.5 1847.5,-218.5 1847.5,-212.5 1847.5,-212.5 1847.5,-183.5 1847.5,-183.5 1847.5,-177.5 1853.5,-171.5 1859.5,-171.5 1859.5,-171.5 1945.5,-171.5 1945.5,-171.5 1951.5,-171.5 1957.5,-177.5 1957.5,-183.5 1957.5,-183.5 1957.5,-212.5 1957.5,-212.5 1957.5,-218.5 1951.5,-224.5 1945.5,-224.5\"/>\n<text text-anchor=\"start\" x=\"1870.5\" y=\"-209.3\" font-family=\"Helvetica,sans-Serif\" font-size=\"14.00\">gini = 0.03</text>\n<text text-anchor=\"start\" x=\"1857.5\" y=\"-194.3\" font-family=\"Helvetica,sans-Serif\" font-size=\"14.00\">samples = 569</text>\n<text text-anchor=\"start\" x=\"1855.5\" y=\"-179.3\" font-family=\"Helvetica,sans-Serif\" font-size=\"14.00\">value = [561, 8]</text>\n</g>\n<!-- 77&#45;&gt;79 -->\n<g id=\"edge79\" class=\"edge\">\n<title>77&#45;&gt;79</title>\n<path fill=\"none\" stroke=\"black\" d=\"M1790.49,-331.81C1814.86,-302.92 1849.99,-261.26 1874.39,-232.34\"/>\n<polygon fill=\"black\" stroke=\"black\" points=\"1877.19,-234.44 1880.96,-224.54 1871.84,-229.92 1877.19,-234.44\"/>\n</g>\n<!-- 82 -->\n<g id=\"node83\" class=\"node\">\n<title>82</title>\n<path fill=\"#e58139\" stroke=\"black\" d=\"M2076.5,-392.5C2076.5,-392.5 1990.5,-392.5 1990.5,-392.5 1984.5,-392.5 1978.5,-386.5 1978.5,-380.5 1978.5,-380.5 1978.5,-351.5 1978.5,-351.5 1978.5,-345.5 1984.5,-339.5 1990.5,-339.5 1990.5,-339.5 2076.5,-339.5 2076.5,-339.5 2082.5,-339.5 2088.5,-345.5 2088.5,-351.5 2088.5,-351.5 2088.5,-380.5 2088.5,-380.5 2088.5,-386.5 2082.5,-392.5 2076.5,-392.5\"/>\n<text text-anchor=\"start\" x=\"2005.5\" y=\"-377.3\" font-family=\"Helvetica,sans-Serif\" font-size=\"14.00\">gini = 0.0</text>\n<text text-anchor=\"start\" x=\"1988.5\" y=\"-362.3\" font-family=\"Helvetica,sans-Serif\" font-size=\"14.00\">samples = 732</text>\n<text text-anchor=\"start\" x=\"1986.5\" y=\"-347.3\" font-family=\"Helvetica,sans-Serif\" font-size=\"14.00\">value = [731, 1]</text>\n</g>\n<!-- 81&#45;&gt;82 -->\n<g id=\"edge82\" class=\"edge\">\n<title>81&#45;&gt;82</title>\n<path fill=\"none\" stroke=\"black\" d=\"M2033.5,-499.81C2033.5,-471.66 2033.5,-431.39 2033.5,-402.59\"/>\n<polygon fill=\"black\" stroke=\"black\" points=\"2037,-402.54 2033.5,-392.54 2030,-402.54 2037,-402.54\"/>\n</g>\n<!-- 83 -->\n<g id=\"node84\" class=\"node\">\n<title>83</title>\n<path fill=\"#e5823b\" stroke=\"black\" d=\"M2220,-400C2220,-400 2119,-400 2119,-400 2113,-400 2107,-394 2107,-388 2107,-388 2107,-344 2107,-344 2107,-338 2113,-332 2119,-332 2119,-332 2220,-332 2220,-332 2226,-332 2232,-338 2232,-344 2232,-344 2232,-388 2232,-388 2232,-394 2226,-400 2220,-400\"/>\n<text text-anchor=\"start\" x=\"2137.5\" y=\"-384.8\" font-family=\"Helvetica,sans-Serif\" font-size=\"14.00\">age ≤ 43.5</text>\n<text text-anchor=\"start\" x=\"2137.5\" y=\"-369.8\" font-family=\"Helvetica,sans-Serif\" font-size=\"14.00\">gini = 0.02</text>\n<text text-anchor=\"start\" x=\"2121\" y=\"-354.8\" font-family=\"Helvetica,sans-Serif\" font-size=\"14.00\">samples = 1195</text>\n<text text-anchor=\"start\" x=\"2115\" y=\"-339.8\" font-family=\"Helvetica,sans-Serif\" font-size=\"14.00\">value = [1182, 13]</text>\n</g>\n<!-- 81&#45;&gt;83 -->\n<g id=\"edge83\" class=\"edge\">\n<title>81&#45;&gt;83</title>\n<path fill=\"none\" stroke=\"black\" d=\"M2060.69,-499.81C2082.28,-473.46 2112.58,-436.48 2135.72,-408.23\"/>\n<polygon fill=\"black\" stroke=\"black\" points=\"2138.72,-410.09 2142.35,-400.14 2133.31,-405.65 2138.72,-410.09\"/>\n</g>\n<!-- 84 -->\n<g id=\"node85\" class=\"node\">\n<title>84</title>\n<path fill=\"#e5823a\" stroke=\"black\" d=\"M2080.5,-224.5C2080.5,-224.5 1994.5,-224.5 1994.5,-224.5 1988.5,-224.5 1982.5,-218.5 1982.5,-212.5 1982.5,-212.5 1982.5,-183.5 1982.5,-183.5 1982.5,-177.5 1988.5,-171.5 1994.5,-171.5 1994.5,-171.5 2080.5,-171.5 2080.5,-171.5 2086.5,-171.5 2092.5,-177.5 2092.5,-183.5 2092.5,-183.5 2092.5,-212.5 2092.5,-212.5 2092.5,-218.5 2086.5,-224.5 2080.5,-224.5\"/>\n<text text-anchor=\"start\" x=\"2005.5\" y=\"-209.3\" font-family=\"Helvetica,sans-Serif\" font-size=\"14.00\">gini = 0.01</text>\n<text text-anchor=\"start\" x=\"1992.5\" y=\"-194.3\" font-family=\"Helvetica,sans-Serif\" font-size=\"14.00\">samples = 594</text>\n<text text-anchor=\"start\" x=\"1990.5\" y=\"-179.3\" font-family=\"Helvetica,sans-Serif\" font-size=\"14.00\">value = [591, 3]</text>\n</g>\n<!-- 83&#45;&gt;84 -->\n<g id=\"edge84\" class=\"edge\">\n<title>83&#45;&gt;84</title>\n<path fill=\"none\" stroke=\"black\" d=\"M2143.11,-331.81C2120.23,-303.04 2087.29,-261.62 2064.3,-232.71\"/>\n<polygon fill=\"black\" stroke=\"black\" points=\"2066.77,-230.18 2057.81,-224.54 2061.29,-234.54 2066.77,-230.18\"/>\n</g>\n<!-- 85 -->\n<g id=\"node86\" class=\"node\">\n<title>85</title>\n<path fill=\"#e5833c\" stroke=\"black\" d=\"M2216,-224.5C2216,-224.5 2123,-224.5 2123,-224.5 2117,-224.5 2111,-218.5 2111,-212.5 2111,-212.5 2111,-183.5 2111,-183.5 2111,-177.5 2117,-171.5 2123,-171.5 2123,-171.5 2216,-171.5 2216,-171.5 2222,-171.5 2228,-177.5 2228,-183.5 2228,-183.5 2228,-212.5 2228,-212.5 2228,-218.5 2222,-224.5 2216,-224.5\"/>\n<text text-anchor=\"start\" x=\"2137.5\" y=\"-209.3\" font-family=\"Helvetica,sans-Serif\" font-size=\"14.00\">gini = 0.03</text>\n<text text-anchor=\"start\" x=\"2124.5\" y=\"-194.3\" font-family=\"Helvetica,sans-Serif\" font-size=\"14.00\">samples = 601</text>\n<text text-anchor=\"start\" x=\"2119\" y=\"-179.3\" font-family=\"Helvetica,sans-Serif\" font-size=\"14.00\">value = [591, 10]</text>\n</g>\n<!-- 83&#45;&gt;85 -->\n<g id=\"edge85\" class=\"edge\">\n<title>83&#45;&gt;85</title>\n<path fill=\"none\" stroke=\"black\" d=\"M2169.5,-331.81C2169.5,-303.66 2169.5,-263.39 2169.5,-234.59\"/>\n<polygon fill=\"black\" stroke=\"black\" points=\"2173,-234.54 2169.5,-224.54 2166,-234.54 2173,-234.54\"/>\n</g>\n<!-- 87 -->\n<g id=\"node88\" class=\"node\">\n<title>87</title>\n<path fill=\"#e68742\" stroke=\"black\" d=\"M2233,-560.5C2233,-560.5 2140,-560.5 2140,-560.5 2134,-560.5 2128,-554.5 2128,-548.5 2128,-548.5 2128,-519.5 2128,-519.5 2128,-513.5 2134,-507.5 2140,-507.5 2140,-507.5 2233,-507.5 2233,-507.5 2239,-507.5 2245,-513.5 2245,-519.5 2245,-519.5 2245,-548.5 2245,-548.5 2245,-554.5 2239,-560.5 2233,-560.5\"/>\n<text text-anchor=\"start\" x=\"2154.5\" y=\"-545.3\" font-family=\"Helvetica,sans-Serif\" font-size=\"14.00\">gini = 0.08</text>\n<text text-anchor=\"start\" x=\"2141.5\" y=\"-530.3\" font-family=\"Helvetica,sans-Serif\" font-size=\"14.00\">samples = 600</text>\n<text text-anchor=\"start\" x=\"2136\" y=\"-515.3\" font-family=\"Helvetica,sans-Serif\" font-size=\"14.00\">value = [574, 26]</text>\n</g>\n<!-- 86&#45;&gt;87 -->\n<g id=\"edge87\" class=\"edge\">\n<title>86&#45;&gt;87</title>\n<path fill=\"none\" stroke=\"black\" d=\"M2185.7,-667.81C2185.87,-639.66 2186.11,-599.39 2186.29,-570.59\"/>\n<polygon fill=\"black\" stroke=\"black\" points=\"2189.79,-570.56 2186.35,-560.54 2182.79,-570.51 2189.79,-570.56\"/>\n</g>\n<!-- 88 -->\n<g id=\"node89\" class=\"node\">\n<title>88</title>\n<path fill=\"#e88d4c\" stroke=\"black\" d=\"M2368,-560.5C2368,-560.5 2275,-560.5 2275,-560.5 2269,-560.5 2263,-554.5 2263,-548.5 2263,-548.5 2263,-519.5 2263,-519.5 2263,-513.5 2269,-507.5 2275,-507.5 2275,-507.5 2368,-507.5 2368,-507.5 2374,-507.5 2380,-513.5 2380,-519.5 2380,-519.5 2380,-548.5 2380,-548.5 2380,-554.5 2374,-560.5 2368,-560.5\"/>\n<text text-anchor=\"start\" x=\"2289.5\" y=\"-545.3\" font-family=\"Helvetica,sans-Serif\" font-size=\"14.00\">gini = 0.16</text>\n<text text-anchor=\"start\" x=\"2276.5\" y=\"-530.3\" font-family=\"Helvetica,sans-Serif\" font-size=\"14.00\">samples = 576</text>\n<text text-anchor=\"start\" x=\"2271\" y=\"-515.3\" font-family=\"Helvetica,sans-Serif\" font-size=\"14.00\">value = [525, 51]</text>\n</g>\n<!-- 86&#45;&gt;88 -->\n<g id=\"edge88\" class=\"edge\">\n<title>86&#45;&gt;88</title>\n<path fill=\"none\" stroke=\"black\" d=\"M2212.69,-667.81C2236.36,-638.92 2270.49,-597.26 2294.19,-568.34\"/>\n<polygon fill=\"black\" stroke=\"black\" points=\"2296.95,-570.49 2300.58,-560.54 2291.53,-566.05 2296.95,-570.49\"/>\n</g>\n<!-- 90 -->\n<g id=\"node91\" class=\"node\">\n<title>90</title>\n<path fill=\"#e78b49\" stroke=\"black\" d=\"M2384,-728.5C2384,-728.5 2291,-728.5 2291,-728.5 2285,-728.5 2279,-722.5 2279,-716.5 2279,-716.5 2279,-687.5 2279,-687.5 2279,-681.5 2285,-675.5 2291,-675.5 2291,-675.5 2384,-675.5 2384,-675.5 2390,-675.5 2396,-681.5 2396,-687.5 2396,-687.5 2396,-716.5 2396,-716.5 2396,-722.5 2390,-728.5 2384,-728.5\"/>\n<text text-anchor=\"start\" x=\"2305.5\" y=\"-713.3\" font-family=\"Helvetica,sans-Serif\" font-size=\"14.00\">gini = 0.14</text>\n<text text-anchor=\"start\" x=\"2292.5\" y=\"-698.3\" font-family=\"Helvetica,sans-Serif\" font-size=\"14.00\">samples = 825</text>\n<text text-anchor=\"start\" x=\"2287\" y=\"-683.3\" font-family=\"Helvetica,sans-Serif\" font-size=\"14.00\">value = [763, 62]</text>\n</g>\n<!-- 89&#45;&gt;90 -->\n<g id=\"edge90\" class=\"edge\">\n<title>89&#45;&gt;90</title>\n<path fill=\"none\" stroke=\"black\" d=\"M2340.69,-834.61C2340.02,-806.8 2339.06,-767.3 2338.37,-738.83\"/>\n<polygon fill=\"black\" stroke=\"black\" points=\"2341.86,-738.42 2338.12,-728.51 2334.86,-738.59 2341.86,-738.42\"/>\n</g>\n<!-- 91 -->\n<g id=\"node92\" class=\"node\">\n<title>91</title>\n<path fill=\"#e99356\" stroke=\"black\" d=\"M2519,-728.5C2519,-728.5 2426,-728.5 2426,-728.5 2420,-728.5 2414,-722.5 2414,-716.5 2414,-716.5 2414,-687.5 2414,-687.5 2414,-681.5 2420,-675.5 2426,-675.5 2426,-675.5 2519,-675.5 2519,-675.5 2525,-675.5 2531,-681.5 2531,-687.5 2531,-687.5 2531,-716.5 2531,-716.5 2531,-722.5 2525,-728.5 2519,-728.5\"/>\n<text text-anchor=\"start\" x=\"2440.5\" y=\"-713.3\" font-family=\"Helvetica,sans-Serif\" font-size=\"14.00\">gini = 0.22</text>\n<text text-anchor=\"start\" x=\"2427.5\" y=\"-698.3\" font-family=\"Helvetica,sans-Serif\" font-size=\"14.00\">samples = 675</text>\n<text text-anchor=\"start\" x=\"2422\" y=\"-683.3\" font-family=\"Helvetica,sans-Serif\" font-size=\"14.00\">value = [590, 85]</text>\n</g>\n<!-- 89&#45;&gt;91 -->\n<g id=\"edge91\" class=\"edge\">\n<title>89&#45;&gt;91</title>\n<path fill=\"none\" stroke=\"black\" d=\"M2368.01,-834.61C2390.67,-806.07 2423.12,-765.2 2445.82,-736.6\"/>\n<polygon fill=\"black\" stroke=\"black\" points=\"2448.77,-738.52 2452.24,-728.51 2443.29,-734.17 2448.77,-738.52\"/>\n</g>\n<!-- 93 -->\n<g id=\"node94\" class=\"node\">\n<title>93</title>\n<path fill=\"#e68844\" stroke=\"black\" d=\"M2693.5,-1071C2693.5,-1071 2565.5,-1071 2565.5,-1071 2559.5,-1071 2553.5,-1065 2553.5,-1059 2553.5,-1059 2553.5,-1015 2553.5,-1015 2553.5,-1009 2559.5,-1003 2565.5,-1003 2565.5,-1003 2693.5,-1003 2693.5,-1003 2699.5,-1003 2705.5,-1009 2705.5,-1015 2705.5,-1015 2705.5,-1059 2705.5,-1059 2705.5,-1065 2699.5,-1071 2693.5,-1071\"/>\n<text text-anchor=\"start\" x=\"2561.5\" y=\"-1055.8\" font-family=\"Helvetica,sans-Serif\" font-size=\"14.00\">hours&#45;per&#45;week ≤ 42.5</text>\n<text text-anchor=\"start\" x=\"2601.5\" y=\"-1040.8\" font-family=\"Helvetica,sans-Serif\" font-size=\"14.00\">gini = 0.1</text>\n<text text-anchor=\"start\" x=\"2581\" y=\"-1025.8\" font-family=\"Helvetica,sans-Serif\" font-size=\"14.00\">samples = 1764</text>\n<text text-anchor=\"start\" x=\"2575\" y=\"-1010.8\" font-family=\"Helvetica,sans-Serif\" font-size=\"14.00\">value = [1675, 89]</text>\n</g>\n<!-- 92&#45;&gt;93 -->\n<g id=\"edge93\" class=\"edge\">\n<title>92&#45;&gt;93</title>\n<path fill=\"none\" stroke=\"black\" d=\"M2629.5,-1170.81C2629.5,-1145.13 2629.5,-1109.37 2629.5,-1081.43\"/>\n<polygon fill=\"black\" stroke=\"black\" points=\"2633,-1081.14 2629.5,-1071.14 2626,-1081.14 2633,-1081.14\"/>\n</g>\n<!-- 98 -->\n<g id=\"node99\" class=\"node\">\n<title>98</title>\n<path fill=\"#eda774\" stroke=\"black\" d=\"M2919.5,-1071C2919.5,-1071 2791.5,-1071 2791.5,-1071 2785.5,-1071 2779.5,-1065 2779.5,-1059 2779.5,-1059 2779.5,-1015 2779.5,-1015 2779.5,-1009 2785.5,-1003 2791.5,-1003 2791.5,-1003 2919.5,-1003 2919.5,-1003 2925.5,-1003 2931.5,-1009 2931.5,-1015 2931.5,-1015 2931.5,-1059 2931.5,-1059 2931.5,-1065 2925.5,-1071 2919.5,-1071\"/>\n<text text-anchor=\"start\" x=\"2787.5\" y=\"-1055.8\" font-family=\"Helvetica,sans-Serif\" font-size=\"14.00\">hours&#45;per&#45;week ≤ 42.5</text>\n<text text-anchor=\"start\" x=\"2823.5\" y=\"-1040.8\" font-family=\"Helvetica,sans-Serif\" font-size=\"14.00\">gini = 0.35</text>\n<text text-anchor=\"start\" x=\"2807\" y=\"-1025.8\" font-family=\"Helvetica,sans-Serif\" font-size=\"14.00\">samples = 2377</text>\n<text text-anchor=\"start\" x=\"2797.5\" y=\"-1010.8\" font-family=\"Helvetica,sans-Serif\" font-size=\"14.00\">value = [1830, 547]</text>\n</g>\n<!-- 92&#45;&gt;98 -->\n<g id=\"edge98\" class=\"edge\">\n<title>92&#45;&gt;98</title>\n<path fill=\"none\" stroke=\"black\" d=\"M2674.69,-1170.81C2711.49,-1143.78 2763.52,-1105.56 2802.32,-1077.06\"/>\n<polygon fill=\"black\" stroke=\"black\" points=\"2804.4,-1079.88 2810.39,-1071.14 2800.26,-1074.24 2804.4,-1079.88\"/>\n</g>\n<!-- 94 -->\n<g id=\"node95\" class=\"node\">\n<title>94</title>\n<path fill=\"#e6843e\" stroke=\"black\" d=\"M2652,-903C2652,-903 2551,-903 2551,-903 2545,-903 2539,-897 2539,-891 2539,-891 2539,-847 2539,-847 2539,-841 2545,-835 2551,-835 2551,-835 2652,-835 2652,-835 2658,-835 2664,-841 2664,-847 2664,-847 2664,-891 2664,-891 2664,-897 2658,-903 2652,-903\"/>\n<text text-anchor=\"start\" x=\"2569.5\" y=\"-887.8\" font-family=\"Helvetica,sans-Serif\" font-size=\"14.00\">age ≤ 25.5</text>\n<text text-anchor=\"start\" x=\"2569.5\" y=\"-872.8\" font-family=\"Helvetica,sans-Serif\" font-size=\"14.00\">gini = 0.04</text>\n<text text-anchor=\"start\" x=\"2553\" y=\"-857.8\" font-family=\"Helvetica,sans-Serif\" font-size=\"14.00\">samples = 1253</text>\n<text text-anchor=\"start\" x=\"2547\" y=\"-842.8\" font-family=\"Helvetica,sans-Serif\" font-size=\"14.00\">value = [1225, 28]</text>\n</g>\n<!-- 93&#45;&gt;94 -->\n<g id=\"edge94\" class=\"edge\">\n<title>93&#45;&gt;94</title>\n<path fill=\"none\" stroke=\"black\" d=\"M2623.9,-1002.81C2619.55,-977.02 2613.49,-941.06 2608.76,-913.06\"/>\n<polygon fill=\"black\" stroke=\"black\" points=\"2612.2,-912.41 2607.09,-903.14 2605.3,-913.58 2612.2,-912.41\"/>\n</g>\n<!-- 97 -->\n<g id=\"node98\" class=\"node\">\n<title>97</title>\n<path fill=\"#e99254\" stroke=\"black\" d=\"M2787,-895.5C2787,-895.5 2694,-895.5 2694,-895.5 2688,-895.5 2682,-889.5 2682,-883.5 2682,-883.5 2682,-854.5 2682,-854.5 2682,-848.5 2688,-842.5 2694,-842.5 2694,-842.5 2787,-842.5 2787,-842.5 2793,-842.5 2799,-848.5 2799,-854.5 2799,-854.5 2799,-883.5 2799,-883.5 2799,-889.5 2793,-895.5 2787,-895.5\"/>\n<text text-anchor=\"start\" x=\"2708.5\" y=\"-880.3\" font-family=\"Helvetica,sans-Serif\" font-size=\"14.00\">gini = 0.21</text>\n<text text-anchor=\"start\" x=\"2695.5\" y=\"-865.3\" font-family=\"Helvetica,sans-Serif\" font-size=\"14.00\">samples = 511</text>\n<text text-anchor=\"start\" x=\"2690\" y=\"-850.3\" font-family=\"Helvetica,sans-Serif\" font-size=\"14.00\">value = [450, 61]</text>\n</g>\n<!-- 93&#45;&gt;97 -->\n<g id=\"edge97\" class=\"edge\">\n<title>93&#45;&gt;97</title>\n<path fill=\"none\" stroke=\"black\" d=\"M2651.7,-1002.81C2670.85,-974.17 2698.39,-932.97 2717.71,-904.08\"/>\n<polygon fill=\"black\" stroke=\"black\" points=\"2720.78,-905.79 2723.43,-895.54 2714.96,-901.9 2720.78,-905.79\"/>\n</g>\n<!-- 95 -->\n<g id=\"node96\" class=\"node\">\n<title>95</title>\n<path fill=\"#e5823b\" stroke=\"black\" d=\"M2647.5,-728.5C2647.5,-728.5 2561.5,-728.5 2561.5,-728.5 2555.5,-728.5 2549.5,-722.5 2549.5,-716.5 2549.5,-716.5 2549.5,-687.5 2549.5,-687.5 2549.5,-681.5 2555.5,-675.5 2561.5,-675.5 2561.5,-675.5 2647.5,-675.5 2647.5,-675.5 2653.5,-675.5 2659.5,-681.5 2659.5,-687.5 2659.5,-687.5 2659.5,-716.5 2659.5,-716.5 2659.5,-722.5 2653.5,-728.5 2647.5,-728.5\"/>\n<text text-anchor=\"start\" x=\"2572.5\" y=\"-713.3\" font-family=\"Helvetica,sans-Serif\" font-size=\"14.00\">gini = 0.02</text>\n<text text-anchor=\"start\" x=\"2559.5\" y=\"-698.3\" font-family=\"Helvetica,sans-Serif\" font-size=\"14.00\">samples = 629</text>\n<text text-anchor=\"start\" x=\"2557.5\" y=\"-683.3\" font-family=\"Helvetica,sans-Serif\" font-size=\"14.00\">value = [622, 7]</text>\n</g>\n<!-- 94&#45;&gt;95 -->\n<g id=\"edge95\" class=\"edge\">\n<title>94&#45;&gt;95</title>\n<path fill=\"none\" stroke=\"black\" d=\"M2602.11,-834.61C2602.61,-806.8 2603.33,-767.3 2603.85,-738.83\"/>\n<polygon fill=\"black\" stroke=\"black\" points=\"2607.35,-738.57 2604.04,-728.51 2600.35,-738.45 2607.35,-738.57\"/>\n</g>\n<!-- 96 -->\n<g id=\"node97\" class=\"node\">\n<title>96</title>\n<path fill=\"#e68540\" stroke=\"black\" d=\"M2783,-728.5C2783,-728.5 2690,-728.5 2690,-728.5 2684,-728.5 2678,-722.5 2678,-716.5 2678,-716.5 2678,-687.5 2678,-687.5 2678,-681.5 2684,-675.5 2690,-675.5 2690,-675.5 2783,-675.5 2783,-675.5 2789,-675.5 2795,-681.5 2795,-687.5 2795,-687.5 2795,-716.5 2795,-716.5 2795,-722.5 2789,-728.5 2783,-728.5\"/>\n<text text-anchor=\"start\" x=\"2704.5\" y=\"-713.3\" font-family=\"Helvetica,sans-Serif\" font-size=\"14.00\">gini = 0.07</text>\n<text text-anchor=\"start\" x=\"2691.5\" y=\"-698.3\" font-family=\"Helvetica,sans-Serif\" font-size=\"14.00\">samples = 624</text>\n<text text-anchor=\"start\" x=\"2686\" y=\"-683.3\" font-family=\"Helvetica,sans-Serif\" font-size=\"14.00\">value = [603, 21]</text>\n</g>\n<!-- 94&#45;&gt;96 -->\n<g id=\"edge96\" class=\"edge\">\n<title>94&#45;&gt;96</title>\n<path fill=\"none\" stroke=\"black\" d=\"M2628.82,-834.61C2652.17,-806.07 2685.61,-765.2 2709.01,-736.6\"/>\n<polygon fill=\"black\" stroke=\"black\" points=\"2712,-738.47 2715.63,-728.51 2706.58,-734.04 2712,-738.47\"/>\n</g>\n<!-- 99 -->\n<g id=\"node100\" class=\"node\">\n<title>99</title>\n<path fill=\"#ea985d\" stroke=\"black\" d=\"M2937.5,-903C2937.5,-903 2829.5,-903 2829.5,-903 2823.5,-903 2817.5,-897 2817.5,-891 2817.5,-891 2817.5,-847 2817.5,-847 2817.5,-841 2823.5,-835 2829.5,-835 2829.5,-835 2937.5,-835 2937.5,-835 2943.5,-835 2949.5,-841 2949.5,-847 2949.5,-847 2949.5,-891 2949.5,-891 2949.5,-897 2943.5,-903 2937.5,-903\"/>\n<text text-anchor=\"start\" x=\"2837\" y=\"-887.8\" font-family=\"Helvetica,sans-Serif\" font-size=\"14.00\">education ≤ 9.5</text>\n<text text-anchor=\"start\" x=\"2851.5\" y=\"-872.8\" font-family=\"Helvetica,sans-Serif\" font-size=\"14.00\">gini = 0.26</text>\n<text text-anchor=\"start\" x=\"2835\" y=\"-857.8\" font-family=\"Helvetica,sans-Serif\" font-size=\"14.00\">samples = 1497</text>\n<text text-anchor=\"start\" x=\"2825.5\" y=\"-842.8\" font-family=\"Helvetica,sans-Serif\" font-size=\"14.00\">value = [1266, 231]</text>\n</g>\n<!-- 98&#45;&gt;99 -->\n<g id=\"edge99\" class=\"edge\">\n<title>98&#45;&gt;99</title>\n<path fill=\"none\" stroke=\"black\" d=\"M2861.1,-1002.81C2865.45,-977.02 2871.51,-941.06 2876.24,-913.06\"/>\n<polygon fill=\"black\" stroke=\"black\" points=\"2879.7,-913.58 2877.91,-903.14 2872.8,-912.41 2879.7,-913.58\"/>\n</g>\n<!-- 102 -->\n<g id=\"node103\" class=\"node\">\n<title>102</title>\n<path fill=\"#f4c8a8\" stroke=\"black\" d=\"M3081,-895.5C3081,-895.5 2980,-895.5 2980,-895.5 2974,-895.5 2968,-889.5 2968,-883.5 2968,-883.5 2968,-854.5 2968,-854.5 2968,-848.5 2974,-842.5 2980,-842.5 2980,-842.5 3081,-842.5 3081,-842.5 3087,-842.5 3093,-848.5 3093,-854.5 3093,-854.5 3093,-883.5 3093,-883.5 3093,-889.5 3087,-895.5 3081,-895.5\"/>\n<text text-anchor=\"start\" x=\"2998.5\" y=\"-880.3\" font-family=\"Helvetica,sans-Serif\" font-size=\"14.00\">gini = 0.46</text>\n<text text-anchor=\"start\" x=\"2985.5\" y=\"-865.3\" font-family=\"Helvetica,sans-Serif\" font-size=\"14.00\">samples = 880</text>\n<text text-anchor=\"start\" x=\"2976\" y=\"-850.3\" font-family=\"Helvetica,sans-Serif\" font-size=\"14.00\">value = [564, 316]</text>\n</g>\n<!-- 98&#45;&gt;102 -->\n<g id=\"edge102\" class=\"edge\">\n<title>98&#45;&gt;102</title>\n<path fill=\"none\" stroke=\"black\" d=\"M2890.49,-1002.81C2921.21,-973.67 2965.61,-931.55 2996.14,-902.6\"/>\n<polygon fill=\"black\" stroke=\"black\" points=\"2998.73,-904.96 3003.58,-895.54 2993.92,-899.88 2998.73,-904.96\"/>\n</g>\n<!-- 100 -->\n<g id=\"node101\" class=\"node\">\n<title>100</title>\n<path fill=\"#e99254\" stroke=\"black\" d=\"M2931,-728.5C2931,-728.5 2830,-728.5 2830,-728.5 2824,-728.5 2818,-722.5 2818,-716.5 2818,-716.5 2818,-687.5 2818,-687.5 2818,-681.5 2824,-675.5 2830,-675.5 2830,-675.5 2931,-675.5 2931,-675.5 2937,-675.5 2943,-681.5 2943,-687.5 2943,-687.5 2943,-716.5 2943,-716.5 2943,-722.5 2937,-728.5 2931,-728.5\"/>\n<text text-anchor=\"start\" x=\"2848.5\" y=\"-713.3\" font-family=\"Helvetica,sans-Serif\" font-size=\"14.00\">gini = 0.21</text>\n<text text-anchor=\"start\" x=\"2835.5\" y=\"-698.3\" font-family=\"Helvetica,sans-Serif\" font-size=\"14.00\">samples = 978</text>\n<text text-anchor=\"start\" x=\"2826\" y=\"-683.3\" font-family=\"Helvetica,sans-Serif\" font-size=\"14.00\">value = [861, 117]</text>\n</g>\n<!-- 99&#45;&gt;100 -->\n<g id=\"edge100\" class=\"edge\">\n<title>99&#45;&gt;100</title>\n<path fill=\"none\" stroke=\"black\" d=\"M2882.89,-834.61C2882.39,-806.8 2881.67,-767.3 2881.15,-738.83\"/>\n<polygon fill=\"black\" stroke=\"black\" points=\"2884.65,-738.45 2880.96,-728.51 2877.65,-738.57 2884.65,-738.45\"/>\n</g>\n<!-- 101 -->\n<g id=\"node102\" class=\"node\">\n<title>101</title>\n<path fill=\"#eca471\" stroke=\"black\" d=\"M3074,-728.5C3074,-728.5 2973,-728.5 2973,-728.5 2967,-728.5 2961,-722.5 2961,-716.5 2961,-716.5 2961,-687.5 2961,-687.5 2961,-681.5 2967,-675.5 2973,-675.5 2973,-675.5 3074,-675.5 3074,-675.5 3080,-675.5 3086,-681.5 3086,-687.5 3086,-687.5 3086,-716.5 3086,-716.5 3086,-722.5 3080,-728.5 3074,-728.5\"/>\n<text text-anchor=\"start\" x=\"2991.5\" y=\"-713.3\" font-family=\"Helvetica,sans-Serif\" font-size=\"14.00\">gini = 0.34</text>\n<text text-anchor=\"start\" x=\"2978.5\" y=\"-698.3\" font-family=\"Helvetica,sans-Serif\" font-size=\"14.00\">samples = 519</text>\n<text text-anchor=\"start\" x=\"2969\" y=\"-683.3\" font-family=\"Helvetica,sans-Serif\" font-size=\"14.00\">value = [405, 114]</text>\n</g>\n<!-- 99&#45;&gt;101 -->\n<g id=\"edge101\" class=\"edge\">\n<title>99&#45;&gt;101</title>\n<path fill=\"none\" stroke=\"black\" d=\"M2911.83,-834.61C2936.15,-805.95 2971.02,-764.85 2995.3,-736.23\"/>\n<polygon fill=\"black\" stroke=\"black\" points=\"2998.05,-738.4 3001.85,-728.51 2992.71,-733.87 2998.05,-738.4\"/>\n</g>\n<!-- 104 -->\n<g id=\"node105\" class=\"node\">\n<title>104</title>\n<path fill=\"#f1b991\" stroke=\"black\" d=\"M3063,-1239C3063,-1239 2962,-1239 2962,-1239 2956,-1239 2950,-1233 2950,-1227 2950,-1227 2950,-1183 2950,-1183 2950,-1177 2956,-1171 2962,-1171 2962,-1171 3063,-1171 3063,-1171 3069,-1171 3075,-1177 3075,-1183 3075,-1183 3075,-1227 3075,-1227 3075,-1233 3069,-1239 3063,-1239\"/>\n<text text-anchor=\"start\" x=\"2962.5\" y=\"-1223.8\" font-family=\"Helvetica,sans-Serif\" font-size=\"14.00\">occupation ≤ 4.5</text>\n<text text-anchor=\"start\" x=\"2980.5\" y=\"-1208.8\" font-family=\"Helvetica,sans-Serif\" font-size=\"14.00\">gini = 0.43</text>\n<text text-anchor=\"start\" x=\"2964\" y=\"-1193.8\" font-family=\"Helvetica,sans-Serif\" font-size=\"14.00\">samples = 1034</text>\n<text text-anchor=\"start\" x=\"2958\" y=\"-1178.8\" font-family=\"Helvetica,sans-Serif\" font-size=\"14.00\">value = [716, 318]</text>\n</g>\n<!-- 103&#45;&gt;104 -->\n<g id=\"edge104\" class=\"edge\">\n<title>103&#45;&gt;104</title>\n<path fill=\"none\" stroke=\"black\" d=\"M3012.5,-1338.81C3012.5,-1313.13 3012.5,-1277.37 3012.5,-1249.43\"/>\n<polygon fill=\"black\" stroke=\"black\" points=\"3016,-1249.14 3012.5,-1239.14 3009,-1249.14 3016,-1249.14\"/>\n</g>\n<!-- 107 -->\n<g id=\"node108\" class=\"node\">\n<title>107</title>\n<path fill=\"#afd8f5\" stroke=\"black\" d=\"M3206,-1231.5C3206,-1231.5 3105,-1231.5 3105,-1231.5 3099,-1231.5 3093,-1225.5 3093,-1219.5 3093,-1219.5 3093,-1190.5 3093,-1190.5 3093,-1184.5 3099,-1178.5 3105,-1178.5 3105,-1178.5 3206,-1178.5 3206,-1178.5 3212,-1178.5 3218,-1184.5 3218,-1190.5 3218,-1190.5 3218,-1219.5 3218,-1219.5 3218,-1225.5 3212,-1231.5 3206,-1231.5\"/>\n<text text-anchor=\"start\" x=\"3123.5\" y=\"-1216.3\" font-family=\"Helvetica,sans-Serif\" font-size=\"14.00\">gini = 0.47</text>\n<text text-anchor=\"start\" x=\"3110.5\" y=\"-1201.3\" font-family=\"Helvetica,sans-Serif\" font-size=\"14.00\">samples = 674</text>\n<text text-anchor=\"start\" x=\"3101\" y=\"-1186.3\" font-family=\"Helvetica,sans-Serif\" font-size=\"14.00\">value = [252, 422]</text>\n</g>\n<!-- 103&#45;&gt;107 -->\n<g id=\"edge107\" class=\"edge\">\n<title>103&#45;&gt;107</title>\n<path fill=\"none\" stroke=\"black\" d=\"M3041.09,-1338.81C3065.98,-1309.92 3101.86,-1268.26 3126.78,-1239.34\"/>\n<polygon fill=\"black\" stroke=\"black\" points=\"3129.63,-1241.4 3133.5,-1231.54 3124.32,-1236.83 3129.63,-1241.4\"/>\n</g>\n<!-- 105 -->\n<g id=\"node106\" class=\"node\">\n<title>105</title>\n<path fill=\"#f5d0b6\" stroke=\"black\" d=\"M3063,-1063.5C3063,-1063.5 2962,-1063.5 2962,-1063.5 2956,-1063.5 2950,-1057.5 2950,-1051.5 2950,-1051.5 2950,-1022.5 2950,-1022.5 2950,-1016.5 2956,-1010.5 2962,-1010.5 2962,-1010.5 3063,-1010.5 3063,-1010.5 3069,-1010.5 3075,-1016.5 3075,-1022.5 3075,-1022.5 3075,-1051.5 3075,-1051.5 3075,-1057.5 3069,-1063.5 3063,-1063.5\"/>\n<text text-anchor=\"start\" x=\"2980.5\" y=\"-1048.3\" font-family=\"Helvetica,sans-Serif\" font-size=\"14.00\">gini = 0.47</text>\n<text text-anchor=\"start\" x=\"2967.5\" y=\"-1033.3\" font-family=\"Helvetica,sans-Serif\" font-size=\"14.00\">samples = 525</text>\n<text text-anchor=\"start\" x=\"2958\" y=\"-1018.3\" font-family=\"Helvetica,sans-Serif\" font-size=\"14.00\">value = [322, 203]</text>\n</g>\n<!-- 104&#45;&gt;105 -->\n<g id=\"edge105\" class=\"edge\">\n<title>104&#45;&gt;105</title>\n<path fill=\"none\" stroke=\"black\" d=\"M3012.5,-1170.81C3012.5,-1142.66 3012.5,-1102.39 3012.5,-1073.59\"/>\n<polygon fill=\"black\" stroke=\"black\" points=\"3016,-1073.54 3012.5,-1063.54 3009,-1073.54 3016,-1073.54\"/>\n</g>\n<!-- 106 -->\n<g id=\"node107\" class=\"node\">\n<title>106</title>\n<path fill=\"#eda673\" stroke=\"black\" d=\"M3206,-1063.5C3206,-1063.5 3105,-1063.5 3105,-1063.5 3099,-1063.5 3093,-1057.5 3093,-1051.5 3093,-1051.5 3093,-1022.5 3093,-1022.5 3093,-1016.5 3099,-1010.5 3105,-1010.5 3105,-1010.5 3206,-1010.5 3206,-1010.5 3212,-1010.5 3218,-1016.5 3218,-1022.5 3218,-1022.5 3218,-1051.5 3218,-1051.5 3218,-1057.5 3212,-1063.5 3206,-1063.5\"/>\n<text text-anchor=\"start\" x=\"3123.5\" y=\"-1048.3\" font-family=\"Helvetica,sans-Serif\" font-size=\"14.00\">gini = 0.35</text>\n<text text-anchor=\"start\" x=\"3110.5\" y=\"-1033.3\" font-family=\"Helvetica,sans-Serif\" font-size=\"14.00\">samples = 509</text>\n<text text-anchor=\"start\" x=\"3101\" y=\"-1018.3\" font-family=\"Helvetica,sans-Serif\" font-size=\"14.00\">value = [394, 115]</text>\n</g>\n<!-- 104&#45;&gt;106 -->\n<g id=\"edge106\" class=\"edge\">\n<title>104&#45;&gt;106</title>\n<path fill=\"none\" stroke=\"black\" d=\"M3041.09,-1170.81C3065.98,-1141.92 3101.86,-1100.26 3126.78,-1071.34\"/>\n<polygon fill=\"black\" stroke=\"black\" points=\"3129.63,-1073.4 3133.5,-1063.54 3124.32,-1068.83 3129.63,-1073.4\"/>\n</g>\n</g>\n</svg>\n",
            "text/plain": [
              "<graphviz.sources.Source at 0x7ffa990d3070>"
            ]
          },
          "metadata": {},
          "execution_count": 36
        }
      ]
    },
    {
      "cell_type": "code",
      "source": [
        "preds = model.predict(valid_df[categorical+continuous])\n",
        "mean_absolute_error(valid_df.income, preds)"
      ],
      "metadata": {
        "colab": {
          "base_uri": "https://localhost:8080/"
        },
        "id": "M0k4JRv5yfUr",
        "outputId": "5186cc6d-09dd-4f4e-cd55-c84b5b21e0b6"
      },
      "execution_count": 37,
      "outputs": [
        {
          "output_type": "execute_result",
          "data": {
            "text/plain": [
              "0.14474357661992016"
            ]
          },
          "metadata": {},
          "execution_count": 37
        }
      ]
    },
    {
      "cell_type": "markdown",
      "source": [
        "# random forest"
      ],
      "metadata": {
        "id": "svpKnulh0jPm"
      }
    },
    {
      "cell_type": "code",
      "source": [
        "def build_tree(df, proportion = 0.8):\n",
        "  total = df.shape[0]\n",
        "  indices = np.random.choice(total, int(total * proportion))\n",
        "  return DecisionTreeClassifier(min_samples_leaf=50).fit(df[categorical+continuous].iloc[indices], df[target].iloc[indices])"
      ],
      "metadata": {
        "id": "HxmBg3qKyfRF"
      },
      "execution_count": 38,
      "outputs": []
    },
    {
      "cell_type": "code",
      "source": [
        "random_decision_trees = [build_tree(train_df) for idx in range(500)]"
      ],
      "metadata": {
        "id": "4JzP915jyfNp"
      },
      "execution_count": 39,
      "outputs": []
    },
    {
      "cell_type": "code",
      "source": [
        "all_probs = [dtc_model.predict(valid_df[categorical+continuous]) for dtc_model in random_decision_trees]\n",
        "avg_probs = np.stack(all_probs).mean(0)\n",
        "mean_absolute_error(valid_df.income, avg_probs)"
      ],
      "metadata": {
        "colab": {
          "base_uri": "https://localhost:8080/"
        },
        "id": "A4g0PEyV364B",
        "outputId": "a0d70eb2-2221-4182-ee01-64721d31d192"
      },
      "execution_count": 40,
      "outputs": [
        {
          "output_type": "execute_result",
          "data": {
            "text/plain": [
              "0.14443525437608762"
            ]
          },
          "metadata": {},
          "execution_count": 40
        }
      ]
    },
    {
      "cell_type": "code",
      "source": [
        "from sklearn.ensemble import RandomForestClassifier\n",
        "\n",
        "rf = RandomForestClassifier(500, min_samples_leaf=50)\n",
        "rf.fit(train_df[categorical+continuous], train_df[target])"
      ],
      "metadata": {
        "colab": {
          "base_uri": "https://localhost:8080/",
          "height": 74
        },
        "id": "4l0NSsc3360n",
        "outputId": "13a5dc3c-24dc-4922-e78c-3fd5fac200d3"
      },
      "execution_count": 41,
      "outputs": [
        {
          "output_type": "execute_result",
          "data": {
            "text/plain": [
              "RandomForestClassifier(min_samples_leaf=50, n_estimators=500)"
            ],
            "text/html": [
              "<style>#sk-container-id-2 {color: black;background-color: white;}#sk-container-id-2 pre{padding: 0;}#sk-container-id-2 div.sk-toggleable {background-color: white;}#sk-container-id-2 label.sk-toggleable__label {cursor: pointer;display: block;width: 100%;margin-bottom: 0;padding: 0.3em;box-sizing: border-box;text-align: center;}#sk-container-id-2 label.sk-toggleable__label-arrow:before {content: \"▸\";float: left;margin-right: 0.25em;color: #696969;}#sk-container-id-2 label.sk-toggleable__label-arrow:hover:before {color: black;}#sk-container-id-2 div.sk-estimator:hover label.sk-toggleable__label-arrow:before {color: black;}#sk-container-id-2 div.sk-toggleable__content {max-height: 0;max-width: 0;overflow: hidden;text-align: left;background-color: #f0f8ff;}#sk-container-id-2 div.sk-toggleable__content pre {margin: 0.2em;color: black;border-radius: 0.25em;background-color: #f0f8ff;}#sk-container-id-2 input.sk-toggleable__control:checked~div.sk-toggleable__content {max-height: 200px;max-width: 100%;overflow: auto;}#sk-container-id-2 input.sk-toggleable__control:checked~label.sk-toggleable__label-arrow:before {content: \"▾\";}#sk-container-id-2 div.sk-estimator input.sk-toggleable__control:checked~label.sk-toggleable__label {background-color: #d4ebff;}#sk-container-id-2 div.sk-label input.sk-toggleable__control:checked~label.sk-toggleable__label {background-color: #d4ebff;}#sk-container-id-2 input.sk-hidden--visually {border: 0;clip: rect(1px 1px 1px 1px);clip: rect(1px, 1px, 1px, 1px);height: 1px;margin: -1px;overflow: hidden;padding: 0;position: absolute;width: 1px;}#sk-container-id-2 div.sk-estimator {font-family: monospace;background-color: #f0f8ff;border: 1px dotted black;border-radius: 0.25em;box-sizing: border-box;margin-bottom: 0.5em;}#sk-container-id-2 div.sk-estimator:hover {background-color: #d4ebff;}#sk-container-id-2 div.sk-parallel-item::after {content: \"\";width: 100%;border-bottom: 1px solid gray;flex-grow: 1;}#sk-container-id-2 div.sk-label:hover label.sk-toggleable__label {background-color: #d4ebff;}#sk-container-id-2 div.sk-serial::before {content: \"\";position: absolute;border-left: 1px solid gray;box-sizing: border-box;top: 0;bottom: 0;left: 50%;z-index: 0;}#sk-container-id-2 div.sk-serial {display: flex;flex-direction: column;align-items: center;background-color: white;padding-right: 0.2em;padding-left: 0.2em;position: relative;}#sk-container-id-2 div.sk-item {position: relative;z-index: 1;}#sk-container-id-2 div.sk-parallel {display: flex;align-items: stretch;justify-content: center;background-color: white;position: relative;}#sk-container-id-2 div.sk-item::before, #sk-container-id-2 div.sk-parallel-item::before {content: \"\";position: absolute;border-left: 1px solid gray;box-sizing: border-box;top: 0;bottom: 0;left: 50%;z-index: -1;}#sk-container-id-2 div.sk-parallel-item {display: flex;flex-direction: column;z-index: 1;position: relative;background-color: white;}#sk-container-id-2 div.sk-parallel-item:first-child::after {align-self: flex-end;width: 50%;}#sk-container-id-2 div.sk-parallel-item:last-child::after {align-self: flex-start;width: 50%;}#sk-container-id-2 div.sk-parallel-item:only-child::after {width: 0;}#sk-container-id-2 div.sk-dashed-wrapped {border: 1px dashed gray;margin: 0 0.4em 0.5em 0.4em;box-sizing: border-box;padding-bottom: 0.4em;background-color: white;}#sk-container-id-2 div.sk-label label {font-family: monospace;font-weight: bold;display: inline-block;line-height: 1.2em;}#sk-container-id-2 div.sk-label-container {text-align: center;}#sk-container-id-2 div.sk-container {/* jupyter's `normalize.less` sets `[hidden] { display: none; }` but bootstrap.min.css set `[hidden] { display: none !important; }` so we also need the `!important` here to be able to override the default hidden behavior on the sphinx rendered scikit-learn.org. See: https://github.com/scikit-learn/scikit-learn/issues/21755 */display: inline-block !important;position: relative;}#sk-container-id-2 div.sk-text-repr-fallback {display: none;}</style><div id=\"sk-container-id-2\" class=\"sk-top-container\"><div class=\"sk-text-repr-fallback\"><pre>RandomForestClassifier(min_samples_leaf=50, n_estimators=500)</pre><b>In a Jupyter environment, please rerun this cell to show the HTML representation or trust the notebook. <br />On GitHub, the HTML representation is unable to render, please try loading this page with nbviewer.org.</b></div><div class=\"sk-container\" hidden><div class=\"sk-item\"><div class=\"sk-estimator sk-toggleable\"><input class=\"sk-toggleable__control sk-hidden--visually\" id=\"sk-estimator-id-2\" type=\"checkbox\" checked><label for=\"sk-estimator-id-2\" class=\"sk-toggleable__label sk-toggleable__label-arrow\">RandomForestClassifier</label><div class=\"sk-toggleable__content\"><pre>RandomForestClassifier(min_samples_leaf=50, n_estimators=500)</pre></div></div></div></div></div>"
            ]
          },
          "metadata": {},
          "execution_count": 41
        }
      ]
    },
    {
      "cell_type": "code",
      "source": [
        "preds = rf.predict(valid_df[categorical+continuous])\n",
        "mean_absolute_error(valid_df.income, preds)"
      ],
      "metadata": {
        "colab": {
          "base_uri": "https://localhost:8080/"
        },
        "id": "fFIBkE0Z36xb",
        "outputId": "23baba27-7351-4b73-f368-31628572483c"
      },
      "execution_count": 42,
      "outputs": [
        {
          "output_type": "execute_result",
          "data": {
            "text/plain": [
              "0.13532603132357457"
            ]
          },
          "metadata": {},
          "execution_count": 42
        }
      ]
    },
    {
      "cell_type": "code",
      "source": [
        "pd.DataFrame(dict(cols=categorical+continuous, inp=rf.feature_importances_)).plot('cols', 'inp', 'barh')"
      ],
      "metadata": {
        "colab": {
          "base_uri": "https://localhost:8080/",
          "height": 447
        },
        "id": "Z_IkTbyC36uI",
        "outputId": "37b4edc8-7d99-4b1e-8c95-40c8c17869f2"
      },
      "execution_count": 43,
      "outputs": [
        {
          "output_type": "execute_result",
          "data": {
            "text/plain": [
              "<Axes: ylabel='cols'>"
            ]
          },
          "metadata": {},
          "execution_count": 43
        },
        {
          "output_type": "display_data",
          "data": {
            "text/plain": [
              "<Figure size 640x480 with 1 Axes>"
            ],
            "image/png": "[encoded data removed]"
          },
          "metadata": {}
        }
      ]
    },
    {
      "cell_type": "code",
      "source": [
        "from sklearn.inspection import PartialDependenceDisplay\n",
        "import matplotlib.pyplot as plt\n",
        "\n",
        "fix, axs = plt.subplots(figsize=(12,6))\n",
        "PartialDependenceDisplay.from_estimator(rf, valid_df[categorical+continuous], ['relationship', 'educational-num'], ax=axs);"
      ],
      "metadata": {
        "colab": {
          "base_uri": "https://localhost:8080/",
          "height": 542
        },
        "id": "G-W5GUhD36rG",
        "outputId": "5ecb7237-3b03-4038-c8c8-6e199db15392"
      },
      "execution_count": 44,
      "outputs": [
        {
          "output_type": "display_data",
          "data": {
            "text/plain": [
              "<Figure size 1200x600 with 3 Axes>"
            ],
            "image/png": "[encoded data removed]"
          },
          "metadata": {}
        }
      ]
    },
    {
      "cell_type": "code",
      "source": [],
      "metadata": {
        "id": "l44QHz-K36nj"
      },
      "execution_count": null,
      "outputs": []
    },
    {
      "cell_type": "code",
      "source": [],
      "metadata": {
        "id": "L8UTn5hK36kP"
      },
      "execution_count": null,
      "outputs": []
    }
  ]
}